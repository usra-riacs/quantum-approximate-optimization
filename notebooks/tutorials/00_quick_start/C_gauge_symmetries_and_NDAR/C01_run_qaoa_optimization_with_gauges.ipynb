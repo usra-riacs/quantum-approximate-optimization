{
 "cells": [
  {
   "cell_type": "markdown",
   "id": "0",
   "metadata": {},
   "source": [
    "### References:\n",
    "[1] Maciejewski, Filip B., Jacob Biamonte, Stuart Hadfield, and Davide Venturelli. \"[Improving quantum approximate optimization by noise-directed adaptive remapping.](https://arxiv.org/abs/2404.01412)\" arXiv preprint arXiv:2404.01412 (2024).\n",
    "\n",
    "[2] Maciejewski, Filip B., Bao G. Bach, Maxime Dupont, P. Aaron Lott, Bhuvanesh Sundar, David E. Bernal Neira, Ilya Safro, and Davide Venturelli. \"[A multilevel approach for solving large-scale qubo problems with noisy hybrid quantum approximate optimization.](https://arxiv.org/abs/2408.07793)\" In 2024 IEEE High Performance Extreme Computing Conference (HPEC), pp. 1-10. IEEE, 2024.\n",
    "\n",
    "[3] Maciejewski, Filip B., Stuart Hadfield, Benjamin Hall, Mark Hodson, Maxime Dupont, Bram Evert, James Sud et al. \"[Design and execution of quantum circuits using tens of superconducting qubits and thousands of gates for dense Ising optimization problems.](https://arxiv.org/abs/2308.12423)\" Physical Review Applied 22, no. 4 (2024): 044074.\n",
    "\n",
    "[4] Tam, Wai-Hong, Hiromichi Matsuyama, Ryo Sakai, and Yu Yamashiro. \"[Enhancing NDAR with Delay-Gate-Induced Amplitude Damping.]\"(https://arxiv.org/abs/2504.12628) arXiv preprint arXiv:2504.12628 (2025).\n",
    "\n",
    "[5] Lykov, Danylo, Ruslan Shaydulin, Yue Sun, Yuri Alexeev, and Marco Pistoia. \"[Fast simulation of high-depth qaoa circuits.](https://arxiv.org/abs/2309.04841)\" In Proceedings of the SC'23 Workshops of The International Conference on High Performance Computing, Network, Storage, and Analysis, pp. 1443-1451. 2023."
   ]
  },
  {
   "cell_type": "code",
   "id": "1",
   "metadata": {
    "ExecuteTime": {
     "end_time": "2025-09-05T02:11:35.917709Z",
     "start_time": "2025-09-05T02:11:35.891911Z"
    }
   },
   "source": [
    "%load_ext autoreload\n",
    "%autoreload 2"
   ],
   "outputs": [],
   "execution_count": 1
  },
  {
   "cell_type": "code",
   "id": "2",
   "metadata": {
    "ExecuteTime": {
     "end_time": "2025-09-05T02:11:38.122551Z",
     "start_time": "2025-09-05T02:11:35.940107Z"
    }
   },
   "source": [
    "import os\n",
    "\n",
    "import numpy as np\n",
    "import pandas as pd\n",
    "from tqdm.notebook import tqdm\n",
    "\n",
    "from quapopt import AVAILABLE_SIMULATORS\n",
    "\n",
    "os.makedirs('../temp', exist_ok=True)"
   ],
   "outputs": [],
   "execution_count": 2
  },
  {
   "cell_type": "markdown",
   "id": "3",
   "metadata": {},
   "source": []
  },
  {
   "cell_type": "markdown",
   "id": "4",
   "metadata": {},
   "source": [
    "### Generate a random Hamiltonian instance\n",
    "\n",
    "* In this example, we generate a random Sherrington-Kirkpatrick Hamiltonian.\n",
    "* In general, we can generate other classes, or read the instances from file.\n",
    "* We can also solve the Hamiltonian classicaly, to get the ground state energy and the highest energy. (this, of course, should be done offline, before running the QAOA)\n",
    "\n"
   ]
  },
  {
   "cell_type": "code",
   "id": "5",
   "metadata": {
    "ExecuteTime": {
     "end_time": "2025-09-05T02:11:39.503846Z",
     "start_time": "2025-09-05T02:11:38.191077Z"
    }
   },
   "source": [
    "from quapopt.hamiltonians.generators import build_hamiltonian_generator\n",
    "from quapopt.data_analysis.data_handling import (CoefficientsType,\n",
    "                                                 CoefficientsDistribution,\n",
    "                                                 CoefficientsDistributionSpecifier,\n",
    "                                                 HamiltonianModels)\n",
    "\n",
    "number_of_qubits = 15\n",
    "seed_cost_hamiltonian = 0\n",
    "\n",
    "coefficients_type = CoefficientsType.DISCRETE\n",
    "coefficients_distribution = CoefficientsDistribution.Uniform\n",
    "coefficients_distribution_properties = {'low': -1, 'high': 1, 'step': 1}\n",
    "coefficients_distribution_specifier = CoefficientsDistributionSpecifier(CoefficientsType=coefficients_type,\n",
    "                                                                        CoefficientsDistributionName=coefficients_distribution,\n",
    "                                                                        CoefficientsDistributionProperties=coefficients_distribution_properties)\n",
    "\n",
    "# We generate a Hamiltonian instance. In this case it's a random Sherrington-Kirkpatrick Hamiltonian\n",
    "hamiltonian_model = HamiltonianModels.SherringtonKirkpatrick\n",
    "localities = (1, 2)\n",
    "generator_cost_hamiltonian = build_hamiltonian_generator(hamiltonian_model=hamiltonian_model,\n",
    "                                                         localities=localities,\n",
    "                                                         coefficients_distribution_specifier=coefficients_distribution_specifier)\n",
    "\n",
    "cost_hamiltonian = generator_cost_hamiltonian.generate_instance(number_of_qubits=number_of_qubits,\n",
    "                                                                seed=seed_cost_hamiltonian,\n",
    "                                                                read_from_drive_if_present=True)\n",
    "\n",
    "print(\"Class description (cost):\", cost_hamiltonian.hamiltonian_class_description)\n",
    "print(\"Instance description (cost):\", cost_hamiltonian.hamiltonian_instance_description)\n",
    "\n",
    "if cost_hamiltonian.lowest_energy is None:\n",
    "    print(\"SOLVING THE HAMILTONIAN CLASSICALLY\")\n",
    "    # if we wish, we can solve the Hamiltonian classically\n",
    "    cost_hamiltonian.solve_hamiltonian(both_directions=True)\n",
    "\n",
    "ground_state_energy = cost_hamiltonian.ground_state_energy\n",
    "highest_energy = cost_hamiltonian.highest_energy\n",
    "\n",
    "print(f\"Ground state energy: {ground_state_energy}\\nbackend: {type(cost_hamiltonian.couplings)}\", )"
   ],
   "outputs": [
    {
     "data": {
      "text/html": [
       "\n",
       "\t\t\t<script type=\"text/javascript\">\n",
       "\t\t\t<!--\n",
       "\t\t\t\t\n",
       "\t\t\t{\n",
       "\t\t\t\tvar element = document.getElementById('NetworKit_script');\n",
       "\t\t\t\tif (element) {\n",
       "\t\t\t\t\telement.parentNode.removeChild(element);\n",
       "\t\t\t\t}\n",
       "\t\t\t\telement = document.createElement('script');\n",
       "\t\t\t\telement.type = 'text/javascript';\n",
       "\t\t\t\telement.innerHTML = 'function NetworKit_pageEmbed(id) { var i, j; var elements; elements = document.getElementById(id).getElementsByClassName(\"Plot\"); for (i=0; i<elements.length; i++) { elements[i].id = id + \"_Plot_\" + i; var data = elements[i].getAttribute(\"data-image\").split(\"|\"); elements[i].removeAttribute(\"data-image\"); var content = \"<div class=\\\\\"Image\\\\\" id=\\\\\"\" + elements[i].id + \"_Image\\\\\" />\"; elements[i].innerHTML = content; elements[i].setAttribute(\"data-image-index\", 0); elements[i].setAttribute(\"data-image-length\", data.length); for (j=0; j<data.length; j++) { elements[i].setAttribute(\"data-image-\" + j, data[j]); } NetworKit_plotUpdate(elements[i]); elements[i].onclick = function (e) { NetworKit_overlayShow((e.target) ? e.target : e.srcElement); } } elements = document.getElementById(id).getElementsByClassName(\"HeatCell\"); for (i=0; i<elements.length; i++) { var data = parseFloat(elements[i].getAttribute(\"data-heat\")); var color = \"#00FF00\"; if (data <= 1 && data > 0) { color = \"hsla(0, 100%, 75%, \" + (data) + \")\"; } else if (data <= 0 && data >= -1) { color = \"hsla(240, 100%, 75%, \" + (-data) + \")\"; } elements[i].style.backgroundColor = color; } elements = document.getElementById(id).getElementsByClassName(\"Details\"); for (i=0; i<elements.length; i++) { elements[i].setAttribute(\"data-title\", \"-\"); NetworKit_toggleDetails(elements[i]); elements[i].onclick = function (e) { NetworKit_toggleDetails((e.target) ? e.target : e.srcElement); } } elements = document.getElementById(id).getElementsByClassName(\"MathValue\"); for (i=elements.length-1; i>=0; i--) { value = elements[i].innerHTML.trim(); if (value === \"nan\") { elements[i].parentNode.innerHTML = \"\" } } elements = document.getElementById(id).getElementsByClassName(\"SubCategory\"); for (i=elements.length-1; i>=0; i--) { value = elements[i].innerHTML.trim(); if (value === \"\") { elements[i].parentNode.removeChild(elements[i]) } } elements = document.getElementById(id).getElementsByClassName(\"Category\"); for (i=elements.length-1; i>=0; i--) { value = elements[i].innerHTML.trim(); if (value === \"\") { elements[i].parentNode.removeChild(elements[i]) } } var isFirefox = false; try { isFirefox = typeof InstallTrigger !== \"undefined\"; } catch (e) {} if (!isFirefox) { alert(\"Currently the function\\'s output is only fully supported by Firefox.\"); } } function NetworKit_plotUpdate(source) { var index = source.getAttribute(\"data-image-index\"); var data = source.getAttribute(\"data-image-\" + index); var image = document.getElementById(source.id + \"_Image\"); image.style.backgroundImage = \"url(\" + data + \")\"; } function NetworKit_showElement(id, show) { var element = document.getElementById(id); element.style.display = (show) ? \"block\" : \"none\"; } function NetworKit_overlayShow(source) { NetworKit_overlayUpdate(source); NetworKit_showElement(\"NetworKit_Overlay\", true); } function NetworKit_overlayUpdate(source) { document.getElementById(\"NetworKit_Overlay_Title\").innerHTML = source.title; var index = source.getAttribute(\"data-image-index\"); var data = source.getAttribute(\"data-image-\" + index); var image = document.getElementById(\"NetworKit_Overlay_Image\"); image.setAttribute(\"data-id\", source.id); image.style.backgroundImage = \"url(\" + data + \")\"; var link = document.getElementById(\"NetworKit_Overlay_Toolbar_Bottom_Save\"); link.href = data; link.download = source.title + \".svg\"; } function NetworKit_overlayImageShift(delta) { var image = document.getElementById(\"NetworKit_Overlay_Image\"); var source = document.getElementById(image.getAttribute(\"data-id\")); var index = parseInt(source.getAttribute(\"data-image-index\")); var length = parseInt(source.getAttribute(\"data-image-length\")); var index = (index+delta) % length; if (index < 0) { index = length + index; } source.setAttribute(\"data-image-index\", index); NetworKit_overlayUpdate(source); } function NetworKit_toggleDetails(source) { var childs = source.children; var show = false; if (source.getAttribute(\"data-title\") == \"-\") { source.setAttribute(\"data-title\", \"+\"); show = false; } else { source.setAttribute(\"data-title\", \"-\"); show = true; } for (i=0; i<childs.length; i++) { if (show) { childs[i].style.display = \"block\"; } else { childs[i].style.display = \"none\"; } } }';\n",
       "\t\t\t\telement.setAttribute('id', 'NetworKit_script');\n",
       "\t\t\t\tdocument.head.appendChild(element);\n",
       "\t\t\t}\n",
       "\t\t\n",
       "\t\t\t\t\n",
       "\t\t\t{\n",
       "\t\t\t\tvar element = document.getElementById('NetworKit_style');\n",
       "\t\t\t\tif (element) {\n",
       "\t\t\t\t\telement.parentNode.removeChild(element);\n",
       "\t\t\t\t}\n",
       "\t\t\t\telement = document.createElement('style');\n",
       "\t\t\t\telement.type = 'text/css';\n",
       "\t\t\t\telement.innerHTML = '.NetworKit_Page { font-family: Arial, Helvetica, sans-serif; font-size: 14px; } .NetworKit_Page .Value:before { font-family: Arial, Helvetica, sans-serif; font-size: 1.05em; content: attr(data-title) \":\"; margin-left: -2.5em; padding-right: 0.5em; } .NetworKit_Page .Details .Value:before { display: block; } .NetworKit_Page .Value { font-family: monospace; white-space: pre; padding-left: 2.5em; white-space: -moz-pre-wrap !important; white-space: -pre-wrap; white-space: -o-pre-wrap; white-space: pre-wrap; word-wrap: break-word; tab-size: 4; -moz-tab-size: 4; } .NetworKit_Page .Category { clear: both; padding-left: 1em; margin-bottom: 1.5em; } .NetworKit_Page .Category:before { content: attr(data-title); font-size: 1.75em; display: block; margin-left: -0.8em; margin-bottom: 0.5em; } .NetworKit_Page .SubCategory { margin-bottom: 1.5em; padding-left: 1em; } .NetworKit_Page .SubCategory:before { font-size: 1.6em; display: block; margin-left: -0.8em; margin-bottom: 0.5em; } .NetworKit_Page .SubCategory[data-title]:before { content: attr(data-title); } .NetworKit_Page .Block { display: block; } .NetworKit_Page .Block:after { content: \".\"; visibility: hidden; display: block; height: 0; clear: both; } .NetworKit_Page .Block .Thumbnail_Overview, .NetworKit_Page .Block .Thumbnail_ScatterPlot { width: 260px; float: left; } .NetworKit_Page .Block .Thumbnail_Overview img, .NetworKit_Page .Block .Thumbnail_ScatterPlot img { width: 260px; } .NetworKit_Page .Block .Thumbnail_Overview:before, .NetworKit_Page .Block .Thumbnail_ScatterPlot:before { display: block; text-align: center; font-weight: bold; } .NetworKit_Page .Block .Thumbnail_Overview:before { content: attr(data-title); } .NetworKit_Page .HeatCell { font-family: \"Courier New\", Courier, monospace; cursor: pointer; } .NetworKit_Page .HeatCell, .NetworKit_Page .HeatCellName { display: inline; padding: 0.1em; margin-right: 2px; background-color: #FFFFFF } .NetworKit_Page .HeatCellName { margin-left: 0.25em; } .NetworKit_Page .HeatCell:before { content: attr(data-heat); display: inline-block; color: #000000; width: 4em; text-align: center; } .NetworKit_Page .Measure { clear: both; } .NetworKit_Page .Measure .Details { cursor: pointer; } .NetworKit_Page .Measure .Details:before { content: \"[\" attr(data-title) \"]\"; display: block; } .NetworKit_Page .Measure .Details .Value { border-left: 1px dotted black; margin-left: 0.4em; padding-left: 3.5em; pointer-events: none; } .NetworKit_Page .Measure .Details .Spacer:before { content: \".\"; opacity: 0.0; pointer-events: none; } .NetworKit_Page .Measure .Plot { width: 440px; height: 440px; cursor: pointer; float: left; margin-left: -0.9em; margin-right: 20px; } .NetworKit_Page .Measure .Plot .Image { background-repeat: no-repeat; background-position: center center; background-size: contain; height: 100%; pointer-events: none; } .NetworKit_Page .Measure .Stat { width: 500px; float: left; } .NetworKit_Page .Measure .Stat .Group { padding-left: 1.25em; margin-bottom: 0.75em; } .NetworKit_Page .Measure .Stat .Group .Title { font-size: 1.1em; display: block; margin-bottom: 0.3em; margin-left: -0.75em; border-right-style: dotted; border-right-width: 1px; border-bottom-style: dotted; border-bottom-width: 1px; background-color: #D0D0D0; padding-left: 0.2em; } .NetworKit_Page .Measure .Stat .Group .List { -webkit-column-count: 3; -moz-column-count: 3; column-count: 3; } .NetworKit_Page .Measure .Stat .Group .List .Entry { position: relative; line-height: 1.75em; } .NetworKit_Page .Measure .Stat .Group .List .Entry[data-tooltip]:before { position: absolute; left: 0; top: -40px; background-color: #808080; color: #ffffff; height: 30px; line-height: 30px; border-radius: 5px; padding: 0 15px; content: attr(data-tooltip); white-space: nowrap; display: none; } .NetworKit_Page .Measure .Stat .Group .List .Entry[data-tooltip]:after { position: absolute; left: 15px; top: -10px; border-top: 7px solid #808080; border-left: 7px solid transparent; border-right: 7px solid transparent; content: \"\"; display: none; } .NetworKit_Page .Measure .Stat .Group .List .Entry[data-tooltip]:hover:after, .NetworKit_Page .Measure .Stat .Group .List .Entry[data-tooltip]:hover:before { display: block; } .NetworKit_Page .Measure .Stat .Group .List .Entry .MathValue { font-family: \"Courier New\", Courier, monospace; } .NetworKit_Page .Measure:after { content: \".\"; visibility: hidden; display: block; height: 0; clear: both; } .NetworKit_Page .PartitionPie { clear: both; } .NetworKit_Page .PartitionPie img { width: 600px; } #NetworKit_Overlay { left: 0px; top: 0px; display: none; position: absolute; width: 100%; height: 100%; background-color: rgba(0,0,0,0.6); z-index: 1000; } #NetworKit_Overlay_Title { position: absolute; color: white; transform: rotate(-90deg); width: 32em; height: 32em; padding-right: 0.5em; padding-top: 0.5em; text-align: right; font-size: 40px; } #NetworKit_Overlay .button { background: white; cursor: pointer; } #NetworKit_Overlay .button:before { size: 13px; display: inline-block; text-align: center; margin-top: 0.5em; margin-bottom: 0.5em; width: 1.5em; height: 1.5em; } #NetworKit_Overlay .icon-close:before { content: \"X\"; } #NetworKit_Overlay .icon-previous:before { content: \"P\"; } #NetworKit_Overlay .icon-next:before { content: \"N\"; } #NetworKit_Overlay .icon-save:before { content: \"S\"; } #NetworKit_Overlay_Toolbar_Top, #NetworKit_Overlay_Toolbar_Bottom { position: absolute; width: 40px; right: 13px; text-align: right; z-index: 1100; } #NetworKit_Overlay_Toolbar_Top { top: 0.5em; } #NetworKit_Overlay_Toolbar_Bottom { Bottom: 0.5em; } #NetworKit_Overlay_ImageContainer { position: absolute; top: 5%; left: 5%; height: 90%; width: 90%; background-repeat: no-repeat; background-position: center center; background-size: contain; } #NetworKit_Overlay_Image { height: 100%; width: 100%; background-repeat: no-repeat; background-position: center center; background-size: contain; }';\n",
       "\t\t\t\telement.setAttribute('id', 'NetworKit_style');\n",
       "\t\t\t\tdocument.head.appendChild(element);\n",
       "\t\t\t}\n",
       "\t\t\n",
       "\t\t\t\t\n",
       "\t\t\t{\n",
       "\t\t\t\tvar element = document.getElementById('NetworKit_Overlay');\n",
       "\t\t\t\tif (element) {\n",
       "\t\t\t\t\telement.parentNode.removeChild(element);\n",
       "\t\t\t\t}\n",
       "\t\t\t\telement = document.createElement('div');\n",
       "\t\t\t\telement.innerHTML = '<div id=\"NetworKit_Overlay_Toolbar_Top\"><div class=\"button icon-close\" id=\"NetworKit_Overlay_Close\" /></div><div id=\"NetworKit_Overlay_Title\" /> <div id=\"NetworKit_Overlay_ImageContainer\"> <div id=\"NetworKit_Overlay_Image\" /> </div> <div id=\"NetworKit_Overlay_Toolbar_Bottom\"> <div class=\"button icon-previous\" onclick=\"NetworKit_overlayImageShift(-1)\" /> <div class=\"button icon-next\" onclick=\"NetworKit_overlayImageShift(1)\" /> <a id=\"NetworKit_Overlay_Toolbar_Bottom_Save\"><div class=\"button icon-save\" /></a> </div>';\n",
       "\t\t\t\telement.setAttribute('id', 'NetworKit_Overlay');\n",
       "\t\t\t\tdocument.body.appendChild(element);\n",
       "\t\t\t\tdocument.getElementById('NetworKit_Overlay_Close').onclick = function (e) {\n",
       "\t\t\t\t\tdocument.getElementById('NetworKit_Overlay').style.display = 'none';\n",
       "\t\t\t\t}\n",
       "\t\t\t}\n",
       "\t\t\n",
       "\t\t\t-->\n",
       "\t\t\t</script>\n",
       "\t\t"
      ]
     },
     "metadata": {},
     "output_type": "display_data",
     "jetTransient": {
      "display_id": null
     }
    },
    {
     "name": "stdout",
     "output_type": "stream",
     "text": [
      "File not found!\n",
      "FILE NOT FOUND!\n",
      "Class description (cost): HMN=SK;LOC=(1, 2);CFD=CT~DIS_CDN~UNI_CDP~low~-1_high~1_step~1\n",
      "Instance description (cost): NOQ=15;HII=0\n",
      "SOLVING THE HAMILTONIAN CLASSICALLY\n",
      "Ground state energy: -40.0\n",
      "backend: <class 'numpy.ndarray'>\n"
     ]
    },
    {
     "name": "stderr",
     "output_type": "stream",
     "text": [
      "/home/fipeczek/python_packages/quapopt_versions/current_public/quantum-approximate-optimization/.pixi/envs/quapopt/lib/python3.12/site-packages/numba/cuda/dispatcher.py:536: NumbaPerformanceWarning: \u001B[1mGrid size 43 will likely result in GPU under-utilization due to low occupancy.\u001B[0m\n",
      "  warn(NumbaPerformanceWarning(msg))\n"
     ]
    }
   ],
   "execution_count": 3
  },
  {
   "cell_type": "markdown",
   "id": "6",
   "metadata": {},
   "source": [
    "### Bitflips and permutations\n",
    "\n",
    "* In general, we can add bitflips and permutations to the Hamiltonian representation.\n",
    "* Neither should change the optimization in noiseless setting, but they can affect it in noisy settings, see Refs.~[1,2,3,4] for examples of that in real-life experiments.\n",
    "* Bitflip gauges in particular are used in Noise-Directed Adaptive Remapping (NDAR) [1,3,4].\n",
    "* We observe that mapping the amplitude damping attractor state (|00...0>) to lower-energy state will improve the optimization.\n",
    "* We now demonstrate this in noisy simulation with biased readout noise and three gauges:\n",
    "\n",
    "    a) random gauge\n",
    "\n",
    "    b) gauge that maps |00...0> to the lowest-energy state\n",
    "\n",
    "    c) gauge that maps |00...0> to the highest-energy state\n",
    "\n",
    "* In what follows, we will run p=1 QAOA for easy visualization.\n",
    "*\n",
    "\n",
    "\n"
   ]
  },
  {
   "cell_type": "code",
   "id": "7",
   "metadata": {
    "ExecuteTime": {
     "end_time": "2025-09-05T02:11:39.998476Z",
     "start_time": "2025-09-05T02:11:39.563443Z"
    }
   },
   "source": [
    "numpy_rng_sampling = np.random.default_rng(seed=0)\n",
    "zero_bitstring = np.zeros(number_of_qubits, dtype=int)\n",
    "\n",
    "known_states = cost_hamiltonian.get_known_energies_dict()\n",
    "best_bitstring = known_states['lowest_energy_state']\n",
    "worst_bitstring = known_states['highest_energy_state']\n",
    "\n",
    "gauges_identifiers = ['random', 'best', 'worst']\n",
    "bitstrings_ordered = [zero_bitstring, best_bitstring, worst_bitstring, ]\n",
    "energies = cost_hamiltonian.evaluate_energy(bitstrings_array=np.array(bitstrings_ordered))\n",
    "\n",
    "#IMPORTANT TO MAKE COPY BEFORE BITFLIP (because it's inplace operation)\n",
    "hamiltonian_representations = [cost_hamiltonian.copy().apply_bitflip(bitflip_tuple=tuple(bts)) for bts in\n",
    "                               bitstrings_ordered]\n",
    "\n",
    "energies_zero_bts = [float(ham.evaluate_energy(bitstrings_array=np.array([zero_bitstring]))[0]) for ham in\n",
    "                     hamiltonian_representations]\n",
    "print('bitstrings energies before gauge transformation:', energies)\n",
    "print('energies of |00...0> state after gauge transformation:', energies_zero_bts)\n",
    "\n"
   ],
   "outputs": [
    {
     "name": "stdout",
     "output_type": "stream",
     "text": [
      "bitstrings energies before gauge transformation: [ 12. -40.  44.]\n",
      "energies of |00...0> state after gauge transformation: [12.0, -40.0, 44.0]\n"
     ]
    }
   ],
   "execution_count": 4
  },
  {
   "cell_type": "code",
   "id": "8",
   "metadata": {
    "ExecuteTime": {
     "end_time": "2025-09-05T02:11:41.625090Z",
     "start_time": "2025-09-05T02:11:40.018633Z"
    }
   },
   "source": [
    "#TODO(FBM): make imports easier\n",
    "from quapopt.optimization.parameter_setting.variational.QAOAOptimizationRunner import QAOAOptimizationRunner\n",
    "from quapopt.optimization.parameter_setting.non_adaptive_optimization.SimpleGridOptimizer import SimpleGridOptimizer\n",
    "from quapopt.optimization.parameter_setting import ParametersBoundType as PBT\n",
    "from quapopt.optimization.QAOA.implementation.QAOARunnerSampler import QAOARunnerSampler\n",
    "from quapopt.optimization.QAOA.simulation.QAOARunnerExpValues import QAOARunnerExpValues\n",
    "from quapopt.circuits.noise.simulation.ClassicalMeasurementNoiseSampler import (ClassicalMeasurementNoiseSampler,\n",
    "                                                                                MeasurementNoiseType)\n",
    "from quapopt.optimization.parameter_setting.variational.scipy_tools.ScipyOptimizerWrapped import ScipyOptimizerWrapped\n",
    "\n",
    "#Number of objective function calls\n",
    "number_of_function_calls = 200\n",
    "#Number of measurements to estimate the expectation values\n",
    "number_of_samples = 1000\n",
    "#we can specify the details of classical optimizer here.\n",
    "classical_optimizer = ScipyOptimizerWrapped(parameters_bounds=[(-np.pi, np.pi)] * 2,\n",
    "                                            optimizer_name='COBYLA',\n",
    "                                            optimizer_kwargs=None,\n",
    "                                            basinhopping=True,\n",
    "                                            basinhopping_kwargs={'niter': 3},\n",
    "                                            starting_point=[0.05] * 2\n",
    "                                            )\n",
    "#Here we define the noise model properties.\n",
    "#In this example, it's just amplitude damping added at the end of the circuit, exactly the same for all qubits.\n",
    "#Fully asymmetric noise -- equivalent to amplitude damping at the end of the circuit\n",
    "p_01 = 0.5\n",
    "p_10 = None\n",
    "\n",
    "#set up the grid optimizer\n",
    "#we will evaluate points on a grid\n",
    "grid_size_total = 10 ** 4\n",
    "grid_sampler = SimpleGridOptimizer(parameter_bounds=[(PBT.RANGE, (-np.pi, np.pi))] * 2,\n",
    "                                   max_trials=grid_size_total)\n",
    "if 'cuda' in AVAILABLE_SIMULATORS:\n",
    "    _backend_qokit = 'gpu'\n",
    "else:\n",
    "    _backend_qokit = 'auto'\n"
   ],
   "outputs": [],
   "execution_count": 5
  },
  {
   "cell_type": "code",
   "id": "9",
   "metadata": {
    "ExecuteTime": {
     "end_time": "2025-09-05T02:13:26.891880Z",
     "start_time": "2025-09-05T02:11:41.686603Z"
    }
   },
   "source": [
    "all_results_optimizer = {}\n",
    "all_results_grids = {}\n",
    "for bitstring_name, hamiltonian in tqdm(list(zip(gauges_identifiers[0:], hamiltonian_representations[0:])), position=0,\n",
    "                                        colour='blue'):\n",
    "\n",
    "    #Defininig the noise model\n",
    "    CMNS = ClassicalMeasurementNoiseSampler(noise_type=MeasurementNoiseType.TP_1q_identical,\n",
    "                                            noise_description={'p_01': p_01,\n",
    "                                                               'p_10': p_10})\n",
    "    #This calculates effective Hamiltonian representation with noise model for exact exp. value calculations\n",
    "    #(for simulation only)\n",
    "    CMNS.add_noisy_hamiltonian_representations(hamiltonian_representations_dict={0: hamiltonian})\n",
    "\n",
    "    for noise_string, noise_model in list(zip(['Ideal', 'Noisy'][0:], [None, CMNS][0:])):\n",
    "        qaoa_sampler = QAOARunnerSampler(\n",
    "            hamiltonian_representations_cost=[hamiltonian],\n",
    "            store_n_best_results=1,\n",
    "            store_full_information_in_history=False,\n",
    "            numpy_rng_sampling=numpy_rng_sampling)\n",
    "\n",
    "        # we use qokit because it's faster than qiskit. See Ref. [5] for details.\n",
    "        qaoa_sampler.initialize_backend_qokit(qokit_backend=_backend_qokit)\n",
    "\n",
    "\n",
    "        #Run noisy sampling QAOA optimization.\n",
    "        qaoa_optimizer = QAOAOptimizationRunner(qaoa_runner=qaoa_sampler)\n",
    "        _, opt_results = qaoa_optimizer.run_optimization(qaoa_depth=1,\n",
    "                                                         number_of_function_calls=number_of_function_calls,\n",
    "                                                         classical_optimizer=classical_optimizer,\n",
    "                                                         measurement_noise=noise_model,\n",
    "                                                         number_of_samples=number_of_samples,\n",
    "                                                         verbosity=0,\n",
    "                                                         show_progress_bar=False,\n",
    "                                                         optimizer_seed=42)\n",
    "        all_results_optimizer[f'{bitstring_name}_{noise_string}'] = opt_results\n",
    "\n",
    "        #Run exact expected-values optimization\n",
    "        qaoa_exp_values_simulator = QAOARunnerExpValues(\n",
    "            hamiltonian_representations_cost=[hamiltonian],\n",
    "            store_full_information_in_history=False,\n",
    "            simulator_name=None)\n",
    "\n",
    "        qaoa_optimizer_grid = QAOAOptimizationRunner(qaoa_runner=qaoa_exp_values_simulator)\n",
    "\n",
    "        _, opt_results_grid = qaoa_optimizer_grid.run_optimization(qaoa_depth=1,\n",
    "                                                                   number_of_function_calls=grid_size_total,\n",
    "                                                                   classical_optimizer=grid_sampler,\n",
    "                                                                   measurement_noise=noise_model,\n",
    "                                                                   memory_intensive=True,\n",
    "                                                                   verbosity=0,\n",
    "                                                                   show_progress_bar=False)\n",
    "        all_results_grids[f'{bitstring_name}_{noise_string}'] = opt_results_grid\n",
    "\n",
    "\n"
   ],
   "outputs": [
    {
     "data": {
      "text/plain": [
       "  0%|          | 0/3 [00:00<?, ?it/s]"
      ],
      "application/vnd.jupyter.widget-view+json": {
       "version_major": 2,
       "version_minor": 0,
       "model_id": "efe9ad38f89c44129f4da2f5eaa6543e"
      }
     },
     "metadata": {},
     "output_type": "display_data",
     "jetTransient": {
      "display_id": null
     }
    }
   ],
   "execution_count": 6
  },
  {
   "cell_type": "markdown",
   "id": "10",
   "metadata": {},
   "source": [
    "### Visualization\n",
    "\n",
    "* Let's see how different gauges change the noisy landscapes."
   ]
  },
  {
   "cell_type": "code",
   "id": "11",
   "metadata": {
    "ExecuteTime": {
     "end_time": "2025-09-05T02:13:28.239034Z",
     "start_time": "2025-09-05T02:13:26.993362Z"
    }
   },
   "source": [
    "import plotly\n",
    "from quapopt.data_analysis.visualization import optimization_visualization as opt_vis\n",
    "from quapopt.data_analysis.data_handling import STANDARD_NAMES_VARIABLES as SNV\n",
    "\n",
    "plotly.io.templates.default = \"plotly\"\n",
    "plotly.offline.init_notebook_mode(connected=True)\n",
    "\n",
    "x_name = f\"{SNV.Angles.id_long}-0\"\n",
    "y_name = f\"{SNV.Angles.id_long}-1\"\n",
    "fom_name = f\"{SNV.EnergyMean.id_long}\"\n",
    "names_map = {f\"ARG-0\": f\"{SNV.Angles.id_long}-0\",\n",
    "             f\"ARG-1\": f\"{SNV.Angles.id_long}-1\",\n",
    "             f\"FunctionValue\": f\"{SNV.EnergyMean.id_long}\"}"
   ],
   "outputs": [
    {
     "data": {
      "text/html": [
       "        <script type=\"text/javascript\">\n",
       "        window.PlotlyConfig = {MathJaxConfig: 'local'};\n",
       "        if (window.MathJax && window.MathJax.Hub && window.MathJax.Hub.Config) {window.MathJax.Hub.Config({SVG: {font: \"STIX-Web\"}});}\n",
       "        </script>\n",
       "        <script type=\"module\">import \"https://cdn.plot.ly/plotly-3.1.0.min\"</script>\n",
       "        "
      ]
     },
     "metadata": {},
     "output_type": "display_data",
     "jetTransient": {
      "display_id": null
     }
    }
   ],
   "execution_count": 7
  },
  {
   "cell_type": "code",
   "id": "12",
   "metadata": {
    "ExecuteTime": {
     "end_time": "2025-09-05T02:13:28.325315Z",
     "start_time": "2025-09-05T02:13:28.291942Z"
    }
   },
   "source": [
    "print(all_results_grids.keys())\n",
    "print(all_results_grids['best_Ideal'].trials_dataframe.sort_values(['FunctionValue']))\n",
    "print(all_results_grids['best_Noisy'].trials_dataframe.sort_values(['FunctionValue']))"
   ],
   "outputs": [
    {
     "name": "stdout",
     "output_type": "stream",
     "text": [
      "dict_keys(['random_Ideal', 'random_Noisy', 'best_Ideal', 'best_Noisy', 'worst_Ideal', 'worst_Noisy'])\n",
      "      TrialIndex  FunctionValue     ARG-0     ARG-1\n",
      "243          243     -17.928305 -3.014660 -0.412532\n",
      "9756        9756     -17.928305  3.014660  0.412532\n",
      "293          293     -17.912767 -3.014660  2.760794\n",
      "9706        9706     -17.912767  3.014660 -2.760794\n",
      "2756        2756     -17.788630 -1.427997  0.412532\n",
      "...          ...            ...       ...       ...\n",
      "207          207      18.754157 -3.014660 -2.697327\n",
      "9793        9793      18.770376  3.014660  2.760794\n",
      "206          206      18.770376 -3.014660 -2.760794\n",
      "9743        9743      18.900120  3.014660 -0.412532\n",
      "256          256      18.900120 -3.014660  0.412532\n",
      "\n",
      "[10000 rows x 4 columns]\n",
      "      TrialIndex  FunctionValue     ARG-0     ARG-1\n",
      "243          243     -16.696710 -3.014660 -0.412532\n",
      "9756        9756     -16.696710  3.014660  0.412532\n",
      "292          292     -16.686522 -3.014660  2.697327\n",
      "9707        9707     -16.686522  3.014660 -2.697327\n",
      "2756        2756     -16.654180 -1.427997  0.412532\n",
      "...          ...            ...       ...       ...\n",
      "2792        2792      -5.587792 -1.427997  2.697327\n",
      "9743        9743      -5.560336  3.014660 -0.412532\n",
      "256          256      -5.560336 -3.014660  0.412532\n",
      "9792        9792      -5.542259  3.014660  2.697327\n",
      "207          207      -5.542259 -3.014660 -2.697327\n",
      "\n",
      "[10000 rows x 4 columns]\n"
     ]
    }
   ],
   "execution_count": 8
  },
  {
   "cell_type": "code",
   "id": "13",
   "metadata": {
    "ExecuteTime": {
     "end_time": "2025-09-05T02:13:37.875295Z",
     "start_time": "2025-09-05T02:13:28.341181Z"
    }
   },
   "source": [
    "#this can made it slower than just opening in browser, but it allows to show the plots in Jupyter cells\n",
    "show_plots_in_jupyter_cell = False\n",
    "\n",
    "for plot_in_3d in [False, True]:\n",
    "    titles = list(all_results_grids.keys())\n",
    "    dataframes_to_plot = []\n",
    "    heatmaps_grid, scatters_grid = [], []\n",
    "    for key in titles:\n",
    "        res = all_results_optimizer[key]\n",
    "        df = res.trials_dataframe\n",
    "        df.rename(columns=names_map, inplace=True)\n",
    "\n",
    "        res_grid = all_results_grids[key]\n",
    "        df_grid = res_grid.trials_dataframe\n",
    "        df_grid.rename(columns=names_map, inplace=True)\n",
    "\n",
    "        dataframes_to_plot.append(df)\n",
    "        heatmap_grid, scatter_grid = opt_vis.get_interpolated_heatmap(df=df_grid,\n",
    "                                                                      x_name=x_name,\n",
    "                                                                      y_name=y_name,\n",
    "                                                                      fom_name=fom_name,\n",
    "                                                                      bounds_x=(-np.pi, np.pi),\n",
    "                                                                      bounds_y=(-np.pi, np.pi),\n",
    "                                                                      in_3d=plot_in_3d\n",
    "                                                                      )\n",
    "        heatmaps_grid.append(heatmap_grid)\n",
    "        scatters_grid.append(scatter_grid)\n",
    "\n",
    "    trajectory_fig = opt_vis.plot_multiple_heatmaps(dataframes=dataframes_to_plot,\n",
    "                                                    x_name=x_name,\n",
    "                                                    y_name=y_name,\n",
    "                                                    fom_name=fom_name,\n",
    "                                                    bounds_x=(-np.pi, np.pi),\n",
    "                                                    bounds_y=(-np.pi, np.pi),\n",
    "                                                    heatmaps_input=heatmaps_grid,\n",
    "                                                    scatter_inputs=scatters_grid,\n",
    "                                                    add_trajectories=True,\n",
    "                                                    titles=titles,\n",
    "                                                    global_normalization=True,\n",
    "                                                    colormap_name='Viridis_r',\n",
    "                                                    minimization=True,\n",
    "                                                    in_3d=plot_in_3d)\n",
    "\n",
    "    plotly.offline.plot(trajectory_fig,\n",
    "                        filename=f'../temp/trajectories_gauges_3d-{plot_in_3d}.html')\n",
    "    if not show_plots_in_jupyter_cell:\n",
    "        continue\n",
    "    trajectory_fig.show()\n"
   ],
   "outputs": [],
   "execution_count": 9
  },
  {
   "cell_type": "markdown",
   "id": "14",
   "metadata": {},
   "source": [
    "* We observe that uncorrelated, identical biased readout noise changes the landscape somewhat trivially -- it flattens it. However, by changing the gauge, we can change the absolute values of the measured energy significantly.\n",
    "* In real experiments, the noise is much more complex, but it has been observed that similar correlation between optimization quality and the energy of the |00...0> state can be observed [1,2,4]."
   ]
  },
  {
   "cell_type": "markdown",
   "id": "15",
   "metadata": {},
   "source": [
    "\n",
    "\n",
    "### Multiple random gauges and dependence on the energy of the |00...0> state\n",
    "\n",
    "* We can investigate the dependence between optimization quality and the energy of the |00...0> on the gauge-transformed Hamiltonian, similarly as was done in Ref. [1] (see Figure 2 in the paper).\n",
    "* To this aim, we will generate multiple random gauges and optimize the QAOA for each gauge-transformed Hamiltonian\n"
   ]
  },
  {
   "cell_type": "code",
   "id": "16",
   "metadata": {
    "ExecuteTime": {
     "end_time": "2025-09-05T02:14:17.341797Z",
     "start_time": "2025-09-05T02:13:42.028049Z"
    }
   },
   "source": [
    "#Generate random gauges\n",
    "number_of_gauges = 30\n",
    "random_bitstrings = numpy_rng_sampling.integers(0, 2, size=(number_of_gauges, number_of_qubits))\n",
    "zero_energies = cost_hamiltonian.evaluate_energy(bitstrings_array=random_bitstrings)\n",
    "\n",
    "number_of_samples = 1000\n",
    "#Small number of function calls so it's not too slow. In real-life applications, we would use more.\n",
    "number_of_function_calls = 50\n",
    "CMNS = ClassicalMeasurementNoiseSampler(noise_type=MeasurementNoiseType.TP_1q_identical,\n",
    "                                        noise_description={'p_01': p_01,\n",
    "                                                           'p_10': p_10})\n",
    "\n",
    "optimization_results = []\n",
    "best_function_values = []\n",
    "x_name_gauges, y_name_gauges = 'energy of |0..0>', 'Optimized Energy'\n",
    "for bts_gauge, zero_energy in tqdm(list(zip(random_bitstrings, zero_energies)), position=0, colour='blue'):\n",
    "    hamiltonian = cost_hamiltonian.copy().apply_bitflip(bitflip_tuple=tuple(bts_gauge))\n",
    "    qaoa_sampler = QAOARunnerSampler(\n",
    "        hamiltonian_representations_cost=[hamiltonian],\n",
    "        hamiltonian_representations_phase=None,\n",
    "        store_n_best_results=1,\n",
    "        store_full_information_in_history=False,\n",
    "        numpy_rng_sampling=numpy_rng_sampling)\n",
    "\n",
    "    # we use qokit because it's faster than qiskit. See Ref. [5] for details.\n",
    "    qaoa_sampler.initialize_backend_qokit(qokit_backend=_backend_qokit)\n",
    "\n",
    "\n",
    "    qaoa_optimizer = QAOAOptimizationRunner(qaoa_runner=qaoa_sampler)\n",
    "\n",
    "    best_result, opt_results = qaoa_optimizer.run_optimization(qaoa_depth=1,\n",
    "                                                               number_of_function_calls=number_of_function_calls,\n",
    "                                                               classical_optimizer=classical_optimizer,\n",
    "                                                               measurement_noise=CMNS,\n",
    "                                                               number_of_samples=number_of_samples,\n",
    "                                                               verbosity=0,\n",
    "                                                               show_progress_bar=False,\n",
    "                                                               optimizer_seed=42)\n",
    "    optimization_results.append(opt_results)\n",
    "\n",
    "    best_value = opt_results.best_value\n",
    "    best_function_values.append(pd.DataFrame({y_name_gauges: [float(best_value)],\n",
    "                                              x_name_gauges: [float(zero_energy)]}))\n",
    "\n",
    "\n",
    "\n",
    "#TODO(FBM): add correlation analysis to this example\n"
   ],
   "outputs": [
    {
     "data": {
      "text/plain": [
       "  0%|          | 0/30 [00:00<?, ?it/s]"
      ],
      "application/vnd.jupyter.widget-view+json": {
       "version_major": 2,
       "version_minor": 0,
       "model_id": "d3c97a4b8bc941f8bbd2a6dd9ea64b13"
      }
     },
     "metadata": {},
     "output_type": "display_data",
     "jetTransient": {
      "display_id": null
     }
    }
   ],
   "execution_count": 10
  },
  {
   "cell_type": "markdown",
   "id": "17",
   "metadata": {},
   "source": [
    "### Visualization\n",
    "\n",
    "* Let's see what is the relationship between the effective energy of the |00...0> state and the optimized energy."
   ]
  },
  {
   "cell_type": "code",
   "id": "18",
   "metadata": {
    "ExecuteTime": {
     "end_time": "2025-09-05T02:14:17.593901Z",
     "start_time": "2025-09-05T02:14:17.348705Z"
    }
   },
   "source": [
    "show_plots_in_jupyter_cell = False\n",
    "df_results_grid = pd.concat(best_function_values, ignore_index=True)\n",
    "figure_grid_histogram = opt_vis.plot_grid_histogram(df=df_results_grid,\n",
    "                                                    x_name=x_name_gauges,\n",
    "                                                    y_name=y_name_gauges,\n",
    "                                                    x_bins=10,\n",
    "                                                    y_bins=10,\n",
    "                                                    )\n",
    "\n",
    "plotly.offline.plot(figure_grid_histogram,\n",
    "                    filename=f'../temp/gauges_grid.html')\n",
    "\n",
    "if show_plots_in_jupyter_cell:\n",
    "    figure_grid_histogram.show()\n"
   ],
   "outputs": [],
   "execution_count": 11
  },
  {
   "cell_type": "code",
   "id": "19",
   "metadata": {
    "ExecuteTime": {
     "end_time": "2025-09-05T02:14:17.610031Z",
     "start_time": "2025-09-05T02:14:17.607101Z"
    }
   },
   "source": [],
   "outputs": [],
   "execution_count": null
  }
 ],
 "metadata": {
  "kernelspec": {
   "display_name": "Python 3",
   "language": "python",
   "name": "python3"
  },
  "language_info": {
   "codemirror_mode": {
    "name": "ipython",
    "version": 2
   },
   "file_extension": ".py",
   "mimetype": "text/x-python",
   "name": "python",
   "nbconvert_exporter": "python",
   "pygments_lexer": "ipython2",
   "version": "2.7.6"
  }
 },
 "nbformat": 4,
 "nbformat_minor": 5
}
