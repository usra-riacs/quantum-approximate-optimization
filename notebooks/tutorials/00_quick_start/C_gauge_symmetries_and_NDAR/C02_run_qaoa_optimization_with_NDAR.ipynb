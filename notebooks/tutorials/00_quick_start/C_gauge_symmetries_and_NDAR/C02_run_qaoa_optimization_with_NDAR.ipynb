{
 "cells": [
  {
   "cell_type": "markdown",
   "id": "0",
   "metadata": {},
   "source": [
    "### References:\n",
    "[1] Maciejewski, Filip B., Jacob Biamonte, Stuart Hadfield, and Davide Venturelli. \"[Improving quantum approximate optimization by noise-directed adaptive remapping.](https://arxiv.org/abs/2404.01412)\" arXiv preprint arXiv:2404.01412 (2024).\n",
    "\n",
    "[2] Maciejewski, Filip B., Bao G. Bach, Maxime Dupont, P. Aaron Lott, Bhuvanesh Sundar, David E. Bernal Neira, Ilya Safro, and Davide Venturelli. \"[A multilevel approach for solving large-scale qubo problems with noisy hybrid quantum approximate optimization.](https://arxiv.org/abs/2408.07793)\" In 2024 IEEE High Performance Extreme Computing Conference (HPEC), pp. 1-10. IEEE, 2024.\n",
    "\n",
    "[3] Maciejewski, Filip B., Stuart Hadfield, Benjamin Hall, Mark Hodson, Maxime Dupont, Bram Evert, James Sud et al. \"[Design and execution of quantum circuits using tens of superconducting qubits and thousands of gates for dense Ising optimization problems.](https://arxiv.org/abs/2308.12423)\" Physical Review Applied 22, no. 4 (2024): 044074.\n",
    "\n",
    "[4] Tam, Wai-Hong, Hiromichi Matsuyama, Ryo Sakai, and Yu Yamashiro. \"[Enhancing NDAR with Delay-Gate-Induced Amplitude Damping.]\"(https://arxiv.org/abs/2504.12628) arXiv preprint arXiv:2504.12628 (2025).\n",
    "\n",
    "[5] Lykov, Danylo, Ruslan Shaydulin, Yue Sun, Yuri Alexeev, and Marco Pistoia. \"[Fast simulation of high-depth qaoa circuits.](https://arxiv.org/abs/2309.04841)\" In Proceedings of the SC'23 Workshops of The International Conference on High Performance Computing, Network, Storage, and Analysis, pp. 1443-1451. 2023."
   ]
  },
  {
   "cell_type": "code",
   "id": "1",
   "metadata": {
    "ExecuteTime": {
     "end_time": "2025-08-19T06:04:13.625405Z",
     "start_time": "2025-08-19T06:04:13.608157Z"
    }
   },
   "source": [
    "%load_ext autoreload\n",
    "%autoreload 2"
   ],
   "outputs": [],
   "execution_count": 1
  },
  {
   "cell_type": "code",
   "id": "2",
   "metadata": {
    "ExecuteTime": {
     "end_time": "2025-08-19T06:04:14.302352Z",
     "start_time": "2025-08-19T06:04:13.828100Z"
    }
   },
   "source": [
    "import datetime\n",
    "import os\n",
    "import uuid\n",
    "import numpy as np\n",
    "from quapopt import AVAILABLE_SIMULATORS\n",
    "from quapopt.additional_packages.ancillary_functions_usra import ancillary_functions as anf\n",
    "\n",
    "os.makedirs('../temp', exist_ok=True)"
   ],
   "outputs": [],
   "execution_count": 2
  },
  {
   "cell_type": "markdown",
   "id": "3",
   "metadata": {},
   "source": [
    "### Generate a random Hamiltonian instance"
   ]
  },
  {
   "cell_type": "code",
   "id": "4",
   "metadata": {
    "ExecuteTime": {
     "end_time": "2025-08-19T06:13:20.679601Z",
     "start_time": "2025-08-19T06:13:20.609897Z"
    }
   },
   "source": [
    "from quapopt.hamiltonians.generators import build_hamiltonian_generator\n",
    "from quapopt.data_analysis.data_handling import (COEFFICIENTS_TYPE,\n",
    "                                                 COEFFICIENTS_DISTRIBUTION,\n",
    "                                                 CoefficientsDistributionSpecifier,\n",
    "                                                 HAMILTONIAN_MODELS)\n",
    "from quapopt.data_analysis.data_handling import LoggingLevel\n",
    "\n",
    "#more qubits so we observe some effects\n",
    "number_of_qubits = 15\n",
    "seed_cost_hamiltonian = 42\n",
    "\n",
    "coefficients_type = COEFFICIENTS_TYPE.DISCRETE\n",
    "coefficients_distribution = COEFFICIENTS_DISTRIBUTION.Uniform\n",
    "coefficients_distribution_properties = {'low': -1, 'high': 1, 'step': 1}\n",
    "coefficients_distribution_specifier = CoefficientsDistributionSpecifier(CoefficientsType=coefficients_type,\n",
    "                                                                        CoefficientsDistributionName=coefficients_distribution,\n",
    "                                                                        CoefficientsDistributionProperties=coefficients_distribution_properties)\n",
    "\n",
    "# We generate a Hamiltonian instance. In this case it's a random Sherrington-Kirkpatrick Hamiltonian\n",
    "hamiltonian_model = HAMILTONIAN_MODELS.SherringtonKirkpatrick\n",
    "localities = (1,2)\n",
    "generator_cost_hamiltonian = build_hamiltonian_generator(hamiltonian_model=hamiltonian_model,\n",
    "                                                         localities=localities,\n",
    "                                                         coefficients_distribution_specifier=coefficients_distribution_specifier)\n",
    "\n",
    "cost_hamiltonian = generator_cost_hamiltonian.generate_instance(number_of_qubits=number_of_qubits,\n",
    "                                                                seed=seed_cost_hamiltonian,\n",
    "                                                                read_from_drive_if_present=True)\n",
    "\n",
    "print(\"Class description (cost):\", cost_hamiltonian.hamiltonian_class_description)\n",
    "print(\"Instance description (cost):\", cost_hamiltonian.hamiltonian_instance_description)\n",
    "\n",
    "# if we wish, we can solve the Hamiltonian\n",
    "if cost_hamiltonian.lowest_energy is None:\n",
    "    cost_hamiltonian.solve_hamiltonian(both_directions=True)\n",
    "\n",
    "ground_state_energy = cost_hamiltonian.ground_state_energy\n",
    "highest_energy = cost_hamiltonian.highest_energy\n",
    "\n",
    "cost_hamiltonian.hamiltonian_class_specifier.get_description_string()\n",
    "\n"
   ],
   "outputs": [
    {
     "name": "stdout",
     "output_type": "stream",
     "text": [
      "File not found!\n",
      "FILE NOT FOUND!\n",
      "Class description (cost): HMN=SK;LOC=(1, 2);CFD=CT~DIS_CDN~UNI_CDP~low~-1_high~1_step~1\n",
      "Instance description (cost): NOQ=15;HII=42\n"
     ]
    },
    {
     "data": {
      "text/plain": [
       "'HMN=SK;LOC=(1, 2);CFD=CT~DIS_CDN~UNI_CDP~low~-1_high~1_step~1'"
      ]
     },
     "execution_count": 29,
     "metadata": {},
     "output_type": "execute_result"
    }
   ],
   "execution_count": 29
  },
  {
   "cell_type": "markdown",
   "id": "5",
   "metadata": {},
   "source": [
    "### Noise-Directed Adaptive Remapping\n",
    "\n",
    "* We will now run NDAR (see Ref.~[1]) in a loop with the optimizer we used in the previous notebook.\n",
    "* We will use stronger readout noise model and fewer samples, because we simulate only ~20-qubit system, so it's pretty easy to find ground state even from suboptimal points with noise.\n",
    "* Note: if not using GPU, the simulation might be a bit slow.\n",
    "* We will use small number of function calls and samples for the same reason.\n",
    "* Again, this noise is not realistic, but it is sufficient to demonstrate the NDAR algorithm."
   ]
  },
  {
   "cell_type": "code",
   "id": "6",
   "metadata": {
    "ExecuteTime": {
     "end_time": "2025-08-19T06:13:24.977465Z",
     "start_time": "2025-08-19T06:13:24.948053Z"
    }
   },
   "source": [
    "from quapopt.optimization.QAOA.implementation.QAOARunnerSampler import QAOARunnerSampler\n",
    "from quapopt.circuits.noise.simulation.ClassicalMeasurementNoiseSampler import \\\n",
    "    ClassicalMeasurementNoiseSampler, MeasurementNoiseType\n",
    "from quapopt.optimization.parameter_setting import OptimizerType\n",
    "from quapopt.optimization.parameter_setting.variational.scipy_tools.ScipyOptimizerWrapped import ScipyOptimizerWrapped\n",
    "\n",
    "#Number of objective function calls\n",
    "number_of_function_calls = 15\n",
    "#Number of measurements to estimate the expectation values\n",
    "number_of_samples = 30\n",
    "\n",
    "#We can specify the QAOA depth here.\n",
    "qaoa_depth = 1\n",
    "\n",
    "#we can specify the details of classical optimizer here.\n",
    "classical_optimizer = ScipyOptimizerWrapped(parameters_bounds=[(-np.pi, np.pi)] * 2*int(qaoa_depth),\n",
    "                                            optimizer_name='COBYLA',\n",
    "                                            optimizer_kwargs=None,\n",
    "                                            basinhopping=True,\n",
    "                                            basinhopping_kwargs={'niter': 3},\n",
    "                                            starting_point=[0.05] * 2*int(qaoa_depth)\n",
    "                                            )\n",
    "\n",
    "# Fully asymmetric noise -- equivalent to amplitude damping at the end of the circuit\n",
    "# Set large value to simulate very strong noise. Otherwise, it's too easy to solve for small problems and we can't observe effects of feedback loop in simulation.\n",
    "p_01 = 0.9\n",
    "p_10 = None\n",
    "print('p_01:', p_01, 'p_10:', p_10)"
   ],
   "outputs": [
    {
     "name": "stdout",
     "output_type": "stream",
     "text": [
      "p_01: 0.9 p_10: None\n"
     ]
    }
   ],
   "execution_count": 30
  },
  {
   "cell_type": "code",
   "id": "7",
   "metadata": {
    "ExecuteTime": {
     "end_time": "2025-08-19T06:13:41.902574Z",
     "start_time": "2025-08-19T06:13:26.182504Z"
    }
   },
   "source": [
    "from quapopt.meta_algorithms.NDAR.NDARRunnerQAOA import NDARRunnerQAOA\n",
    "from quapopt.meta_algorithms.NDAR import (ConvergenceCriterionNames,\n",
    "                                          ConvergenceCriterion)\n",
    "\n",
    "seed_main = 0\n",
    "numpy_rng_sampling = np.random.default_rng(seed=seed_main)\n",
    "numpy_rng_boltzmann = np.random.default_rng(seed=seed_main)\n",
    "numpy_rng_noise = np.random.default_rng(seed=seed_main)\n",
    "\n",
    "#Set up the classical measurement noise sampler\n",
    "CMNS = ClassicalMeasurementNoiseSampler(noise_type=MeasurementNoiseType.TP_1q_identical,\n",
    "                                        noise_description={'p_01': p_01,\n",
    "                                                           'p_10': p_10},\n",
    "                                        rng=numpy_rng_noise)\n",
    "\n",
    "#Here we specify the sampler class and its arguments\n",
    "#It is abstract because we sometimes use it with different samplers (not QAOA)\n",
    "qaoa_sampler_class = QAOARunnerSampler\n",
    "qaoa_sampler_kwargs = {'numpy_rng_sampling': numpy_rng_sampling}\n",
    "\n",
    "#Heuristic parameter for potentially re-gauging towards energy-increasing states.\n",
    "#Value 0.0 means always gauge-transforming.\n",
    "temperature = 0.0\n",
    "\n",
    "#Here we specify the logger arguments\n",
    "logger_kwargs_ndar = {'experiment_folders_hierarchy':\n",
    "                          ['SimulationResults',\n",
    "                           'TestingNDAR',\n",
    "                           f'TestRuns_{datetime.datetime.today().strftime(\"%Y-%m-%d\")}_{np.random.randint(1000)}'],\n",
    "                      'experiment_set_name': f'NDARTests',\n",
    "                      'experiment_set_id':f'T={temperature}',\n",
    "                      'experiment_instance_id':f'p_01={p_01}',\n",
    "                      'table_name_prefix': f'NDARRuns'}\n",
    "\n",
    "\n",
    "\n",
    "logging_level = LoggingLevel.DETAILED\n",
    "\n",
    "#Specify the convergence criterion for NDAR\n",
    "#Here we use the maximum number of unsuccessful trials.\n",
    "#If after 5 iterations the NDAR does not find a better solution, it stops.\n",
    "max_iterations = 5\n",
    "ndar_convergence_criterion = ConvergenceCriterion(\n",
    "    convergence_criterion_name=ConvergenceCriterionNames.MaxUnsuccessfulTrials,\n",
    "    convergence_value=max_iterations)\n",
    "\n",
    "input_hamiltonian_representations = [cost_hamiltonian.copy()]\n",
    "\n",
    "# Create the NDAR runner instance.\n",
    "ndar_runner = NDARRunnerQAOA(input_hamiltonian_representations=input_hamiltonian_representations,\n",
    "                             convergence_criterion=ndar_convergence_criterion,\n",
    "                             sampler_class=qaoa_sampler_class,\n",
    "                             attractor_model=None,\n",
    "                             logging_level=logging_level,\n",
    "                             logger_kwargs=logger_kwargs_ndar\n",
    "                             )\n",
    "print(\"GROUNDS STATE ENERGY:\", ground_state_energy)\n",
    "\n",
    "\n",
    "#Note: For the sake of reducing simulation complexity when known solutions are known, the runner will actually break when reaching ground state.\n",
    "best_result_ndar, optimization_history_ndar = ndar_runner.run_NDAR(\n",
    "    #QAOA kwargs\n",
    "    qaoa_depth=qaoa_depth,\n",
    "    number_of_function_calls=number_of_function_calls,\n",
    "    classical_optimizer=classical_optimizer,\n",
    "    number_of_samples_per_function_call=number_of_samples,\n",
    "    measurement_noise=CMNS,\n",
    "    numpy_rng_sampling=numpy_rng_sampling,\n",
    "    ##### NDAR KWARGS\n",
    "    numpy_rng_boltzmann=numpy_rng_boltzmann,\n",
    "    #Generate optimizer seed for each optimization in a loop (argument is iteration index)\n",
    "    step_seed_generator=lambda x: x,\n",
    "    show_progress_bar_ndar=True,\n",
    "    temperature_NDAR=temperature,\n",
    "    show_progress_bars_optimization=True\n",
    ")\n",
    "\n"
   ],
   "outputs": [
    {
     "name": "stdout",
     "output_type": "stream",
     "text": [
      "No existing metadata found for the specified experiment set. \n",
      "GROUNDS STATE ENERGY: -42.0\n"
     ]
    },
    {
     "data": {
      "text/plain": [
       "  0%|          | 0/1000 [00:00<?, ?it/s]"
      ],
      "application/vnd.jupyter.widget-view+json": {
       "version_major": 2,
       "version_minor": 0,
       "model_id": "151df3ce2ddc4524af7fa20f081dd030"
      }
     },
     "metadata": {},
     "output_type": "display_data"
    },
    {
     "name": "stderr",
     "output_type": "stream",
     "text": [
      "COBYLA: 20it [00:03,  5.15it/s]                        5.12it/s]\n"
     ]
    },
    {
     "name": "stdout",
     "output_type": "stream",
     "text": [
      "\u001B[34m\u001B[1mIteration:  \u001B[0m0\n",
      "\u001B[32m\u001B[1mBest energy so far:  \u001B[0m-26.0 (AR: 0.7949)\n"
     ]
    },
    {
     "name": "stderr",
     "output_type": "stream",
     "text": [
      "COBYLA: 20it [00:03,  5.09it/s]                        5.22it/s]\n"
     ]
    },
    {
     "name": "stdout",
     "output_type": "stream",
     "text": [
      "\u001B[34m\u001B[1mIteration:  \u001B[0m1\n",
      "\u001B[32m\u001B[1mBest energy so far:  \u001B[0m-36.0 (AR: 0.9231)\n"
     ]
    },
    {
     "name": "stderr",
     "output_type": "stream",
     "text": [
      "COBYLA: 20it [00:03,  5.18it/s]                        5.32it/s]\n"
     ]
    },
    {
     "name": "stdout",
     "output_type": "stream",
     "text": [
      "\u001B[34m\u001B[1mIteration:  \u001B[0m2\n",
      "\u001B[32m\u001B[1mBest energy so far:  \u001B[0m-38.0 (AR: 0.9487)\n"
     ]
    },
    {
     "name": "stderr",
     "output_type": "stream",
     "text": [
      "COBYLA: 20it [00:03,  5.27it/s]                        5.27it/s]\n"
     ]
    },
    {
     "name": "stdout",
     "output_type": "stream",
     "text": [
      "\u001B[34m\u001B[1mIteration:  \u001B[0m3\n",
      "\u001B[32m\u001B[1mBest energy so far:  \u001B[0m-42.0 (AR: 1.0)\n",
      "\u001B[36m\u001B[1mFOUND GROUND STATE! \u001B[0mbreaking\n",
      "\n",
      "\u001B[31m\u001B[1mFinished after  \u001B[0m4 iterations.\n",
      "\u001B[31m\u001B[1mFinal best energy: \u001B[0mnp.float64(-42.0)\n",
      "\u001B[31m\u001B[1mOptimization time: \u001B[0m15.515396780996525\n"
     ]
    }
   ],
   "execution_count": 31
  },
  {
   "cell_type": "code",
   "id": "8",
   "metadata": {
    "ExecuteTime": {
     "end_time": "2025-08-19T06:13:45.926354Z",
     "start_time": "2025-08-19T06:13:43.921511Z"
    }
   },
   "source": [
    "\n",
    "from quapopt.optimization.parameter_setting.variational.QAOAOptimizationRunner import QAOAOptimizationRunner\n",
    "\n",
    "#Here we can check if noiseless QAOA with the same number of samples and function calls would find the ground state\n",
    "qaoa_runner_sampler = qaoa_sampler_class(hamiltonian_representations_cost=[cost_hamiltonian.copy()],\n",
    "                                         hamiltonian_representations_phase=None,\n",
    "                                         **qaoa_sampler_kwargs)\n",
    "if 'cuda' in AVAILABLE_SIMULATORS:\n",
    "    qaoa_runner_sampler.initialize_backend_qokit(qokit_backend='gpu')\n",
    "else:\n",
    "    qaoa_runner_sampler.initialize_backend_qiskit(qaoa_depth=qaoa_depth)\n",
    "\n",
    "qaoa_optimizer = QAOAOptimizationRunner(qaoa_runner=qaoa_runner_sampler)\n",
    "\n",
    "best_n_results_noiseless_qaoa, optimization_result_noiseless_qaoa = qaoa_optimizer.run_optimization(qaoa_depth=qaoa_depth,\n",
    "                                                                      number_of_function_calls=number_of_function_calls * len(\n",
    "                                                                          optimization_history_ndar),\n",
    "                                                                      classical_optimizer=classical_optimizer,\n",
    "                                                                      optimizer_seed=1,\n",
    "                                                                      number_of_samples=number_of_samples,\n",
    "                                                                      numpy_rng_sampling=numpy_rng_sampling,\n",
    "                                                                      show_progress_bar=True,\n",
    "                                                                      measurement_noise=None,\n",
    "                                                                      )\n",
    "anf.cool_print(\"BEST ENERGY OF NOISELESS QAOA:\", best_n_results_noiseless_qaoa[0][0],'blue')\n",
    "anf.cool_print(\"BEST ENERGY OF NDAR:\", best_result_ndar[0],'red')\n",
    "anf.cool_print(\"NDAR better than noiseless QAOA:\", bool(best_result_ndar[0] < best_n_results_noiseless_qaoa[0][0]),'green')\n"
   ],
   "outputs": [
    {
     "name": "stdout",
     "output_type": "stream",
     "text": [
      "STARTED SHARED QISKIT IBM SESSION (instance 0)\n"
     ]
    },
    {
     "name": "stderr",
     "output_type": "stream",
     "text": [
      "COBYLA: 80it [00:01, 43.37it/s]                        6.82it/s]"
     ]
    },
    {
     "name": "stdout",
     "output_type": "stream",
     "text": [
      "\u001B[34m\u001B[1mBEST ENERGY OF NOISELESS QAOA: \u001B[0mnp.float64(-42.0)\n",
      "\u001B[31m\u001B[1mBEST ENERGY OF NDAR: \u001B[0mnp.float64(-42.0)\n",
      "\u001B[32m\u001B[1mNDAR better than noiseless QAOA: \u001B[0mFalse\n"
     ]
    },
    {
     "name": "stderr",
     "output_type": "stream",
     "text": [
      "\n"
     ]
    }
   ],
   "execution_count": 32
  },
  {
   "cell_type": "markdown",
   "id": "9",
   "metadata": {},
   "source": [
    "### Reading data\n",
    "\n",
    "* In a moment, we will want to visualize data.\n",
    "* We could take the data directly from the output of optimization, but here we will read it from database to test the logging:\n",
    "* To this aim, we use a helper function imported from NDAR submodule"
   ]
  },
  {
   "cell_type": "code",
   "id": "10",
   "metadata": {
    "ExecuteTime": {
     "end_time": "2025-08-19T06:13:48.424008Z",
     "start_time": "2025-08-19T06:13:48.360791Z"
    }
   },
   "source": [
    "from quapopt.meta_algorithms.NDAR.NDARRunnerQAOA import gather_NDAR_qaoa_results\n",
    "from quapopt.data_analysis.data_handling import (STANDARD_NAMES_DATA_TYPES as SNDT,\n",
    "                                                 STANDARD_NAMES_VARIABLES as SNV, )\n",
    "\n",
    "what_data = SNDT.NDAROverview\n",
    "ndar_data = gather_NDAR_qaoa_results(input_hamiltonian_representations=input_hamiltonian_representations,\n",
    "                                     sampler_class=qaoa_sampler_class,\n",
    "                                     logger_kwargs=logger_kwargs_ndar,\n",
    "                                     data_type=what_data)\n",
    "\n",
    "ndar_data"
   ],
   "outputs": [
    {
     "data": {
      "text/plain": [
       "   NDARIteration                                            Bitflip  \\\n",
       "0              0  (np.int64(0), np.int64(0), np.int64(0), np.int...   \n",
       "0              1  (np.int64(0), np.int64(0), np.int64(0), np.int...   \n",
       "0              2  (np.int64(0), np.int64(0), np.int64(0), np.int...   \n",
       "0              3  (np.int64(0), np.int64(0), np.int64(0), np.int...   \n",
       "\n",
       "  AttractorModel                               ConvergenceCriterion  \\\n",
       "0          ATS=0  COC~ConvergenceCriterionNames.MaxUnsuccessfulT...   \n",
       "0          ATS=0  COC~ConvergenceCriterionNames.MaxUnsuccessfulT...   \n",
       "0          ATS=0  COC~ConvergenceCriterionNames.MaxUnsuccessfulT...   \n",
       "0          ATS=0  COC~ConvergenceCriterionNames.MaxUnsuccessfulT...   \n",
       "\n",
       "   TrialIndex  HamiltonianRepresentationIndex  Angles-0  Angles-1  EnergyMean  \\\n",
       "0           9                               0  0.139838  0.336606    2.000000   \n",
       "0           9                               0 -0.038341  0.320036  -21.000000   \n",
       "0           0                               0  0.050000  0.050000  -33.266667   \n",
       "0           6                               0  0.300798  0.258148  -33.666667   \n",
       "\n",
       "   EnergyBest                                      BitstringBest  \\\n",
       "0       -26.0  (np.int64(0), np.int64(0), np.int64(0), np.int...   \n",
       "0       -36.0  (np.int64(0), np.int64(0), np.int64(0), np.int...   \n",
       "0       -38.0  (np.int64(0), np.int64(0), np.int64(0), np.int...   \n",
       "0       -42.0  (np.int64(0), np.int64(0), np.int64(0), np.int...   \n",
       "\n",
       "  ExperimentInstanceID  \n",
       "0             p_01=0.9  \n",
       "0             p_01=0.9  \n",
       "0             p_01=0.9  \n",
       "0             p_01=0.9  "
      ],
      "text/html": [
       "<div>\n",
       "<style scoped>\n",
       "    .dataframe tbody tr th:only-of-type {\n",
       "        vertical-align: middle;\n",
       "    }\n",
       "\n",
       "    .dataframe tbody tr th {\n",
       "        vertical-align: top;\n",
       "    }\n",
       "\n",
       "    .dataframe thead th {\n",
       "        text-align: right;\n",
       "    }\n",
       "</style>\n",
       "<table border=\"1\" class=\"dataframe\">\n",
       "  <thead>\n",
       "    <tr style=\"text-align: right;\">\n",
       "      <th></th>\n",
       "      <th>NDARIteration</th>\n",
       "      <th>Bitflip</th>\n",
       "      <th>AttractorModel</th>\n",
       "      <th>ConvergenceCriterion</th>\n",
       "      <th>TrialIndex</th>\n",
       "      <th>HamiltonianRepresentationIndex</th>\n",
       "      <th>Angles-0</th>\n",
       "      <th>Angles-1</th>\n",
       "      <th>EnergyMean</th>\n",
       "      <th>EnergyBest</th>\n",
       "      <th>BitstringBest</th>\n",
       "      <th>ExperimentInstanceID</th>\n",
       "    </tr>\n",
       "  </thead>\n",
       "  <tbody>\n",
       "    <tr>\n",
       "      <th>0</th>\n",
       "      <td>0</td>\n",
       "      <td>(np.int64(0), np.int64(0), np.int64(0), np.int...</td>\n",
       "      <td>ATS=0</td>\n",
       "      <td>COC~ConvergenceCriterionNames.MaxUnsuccessfulT...</td>\n",
       "      <td>9</td>\n",
       "      <td>0</td>\n",
       "      <td>0.139838</td>\n",
       "      <td>0.336606</td>\n",
       "      <td>2.000000</td>\n",
       "      <td>-26.0</td>\n",
       "      <td>(np.int64(0), np.int64(0), np.int64(0), np.int...</td>\n",
       "      <td>p_01=0.9</td>\n",
       "    </tr>\n",
       "    <tr>\n",
       "      <th>0</th>\n",
       "      <td>1</td>\n",
       "      <td>(np.int64(0), np.int64(0), np.int64(0), np.int...</td>\n",
       "      <td>ATS=0</td>\n",
       "      <td>COC~ConvergenceCriterionNames.MaxUnsuccessfulT...</td>\n",
       "      <td>9</td>\n",
       "      <td>0</td>\n",
       "      <td>-0.038341</td>\n",
       "      <td>0.320036</td>\n",
       "      <td>-21.000000</td>\n",
       "      <td>-36.0</td>\n",
       "      <td>(np.int64(0), np.int64(0), np.int64(0), np.int...</td>\n",
       "      <td>p_01=0.9</td>\n",
       "    </tr>\n",
       "    <tr>\n",
       "      <th>0</th>\n",
       "      <td>2</td>\n",
       "      <td>(np.int64(0), np.int64(0), np.int64(0), np.int...</td>\n",
       "      <td>ATS=0</td>\n",
       "      <td>COC~ConvergenceCriterionNames.MaxUnsuccessfulT...</td>\n",
       "      <td>0</td>\n",
       "      <td>0</td>\n",
       "      <td>0.050000</td>\n",
       "      <td>0.050000</td>\n",
       "      <td>-33.266667</td>\n",
       "      <td>-38.0</td>\n",
       "      <td>(np.int64(0), np.int64(0), np.int64(0), np.int...</td>\n",
       "      <td>p_01=0.9</td>\n",
       "    </tr>\n",
       "    <tr>\n",
       "      <th>0</th>\n",
       "      <td>3</td>\n",
       "      <td>(np.int64(0), np.int64(0), np.int64(0), np.int...</td>\n",
       "      <td>ATS=0</td>\n",
       "      <td>COC~ConvergenceCriterionNames.MaxUnsuccessfulT...</td>\n",
       "      <td>6</td>\n",
       "      <td>0</td>\n",
       "      <td>0.300798</td>\n",
       "      <td>0.258148</td>\n",
       "      <td>-33.666667</td>\n",
       "      <td>-42.0</td>\n",
       "      <td>(np.int64(0), np.int64(0), np.int64(0), np.int...</td>\n",
       "      <td>p_01=0.9</td>\n",
       "    </tr>\n",
       "  </tbody>\n",
       "</table>\n",
       "</div>"
      ]
     },
     "execution_count": 33,
     "metadata": {},
     "output_type": "execute_result"
    }
   ],
   "execution_count": 33
  },
  {
   "cell_type": "markdown",
   "id": "11",
   "metadata": {},
   "source": [
    "### Visualization\n",
    "\n",
    "* Let's take a look at a simple visualization of the NDAR optimization."
   ]
  },
  {
   "cell_type": "code",
   "id": "12",
   "metadata": {
    "ExecuteTime": {
     "end_time": "2025-08-19T06:13:51.106126Z",
     "start_time": "2025-08-19T06:13:49.947273Z"
    }
   },
   "source": [
    "import plotly\n",
    "import plotly.graph_objects as go\n",
    "\n",
    "plotly.io.templates.default = \"plotly\"\n",
    "plotly.offline.init_notebook_mode(connected=True)"
   ],
   "outputs": [
    {
     "data": {
      "text/html": [
       "        <script type=\"text/javascript\">\n",
       "        window.PlotlyConfig = {MathJaxConfig: 'local'};\n",
       "        if (window.MathJax && window.MathJax.Hub && window.MathJax.Hub.Config) {window.MathJax.Hub.Config({SVG: {font: \"STIX-Web\"}});}\n",
       "        </script>\n",
       "        <script type=\"module\">import \"https://cdn.plot.ly/plotly-3.1.0.min\"</script>\n",
       "        "
      ]
     },
     "metadata": {},
     "output_type": "display_data"
    }
   ],
   "execution_count": 34
  },
  {
   "cell_type": "code",
   "id": "13",
   "metadata": {
    "ExecuteTime": {
     "end_time": "2025-08-19T06:13:51.316172Z",
     "start_time": "2025-08-19T06:13:51.112419Z"
    }
   },
   "source": [
    "xs = ndar_data[SNV.NDARIteration.id_long].tolist()\n",
    "ys = ndar_data[SNV.EnergyBest.id_long].tolist()\n",
    "#convert to approximation ratios\n",
    "ys = [(highest_energy - Ei) / (highest_energy - ground_state_energy) for Ei in ys]\n",
    "\n",
    "ndar_figure = go.Figure()\n",
    "ndar_figure.add_trace(go.Scatter(x=xs, y=ys, mode='lines+markers', name=f'NDAR p(0|1) = {p_01}'))\n",
    "\n",
    "ndar_figure.update_layout(\n",
    "    title=f\"NDAR (T = {temperature}) Performance for {number_of_qubits} qubits on {cost_hamiltonian.hamiltonian_class_specifier.get_description_string()}\",\n",
    "    xaxis_title=\"NDAR Iteration\",\n",
    "    yaxis_title=\"Approximation Ratio\",\n",
    "    template=\"plotly\",\n",
    "    font=dict(size=14),\n",
    "    hovermode=\"x unified\"\n",
    ")\n",
    "ndar_figure.update_yaxes(range=[0.65, 1.03])\n",
    "#update xticks to only NDAR iterations:\n",
    "ndar_figure.update_xaxes(tickvals=xs)\n",
    "\n",
    "plotly.offline.plot(ndar_figure,\n",
    "                    filename=f'../temp/NDAR_performance.html')\n",
    "ndar_figure.show()"
   ],
   "outputs": [
    {
     "data": {
      "application/vnd.plotly.v1+json": {
       "data": [
        {
         "mode": "lines+markers",
         "name": "NDAR p(0|1) = 0.9",
         "x": [
          0,
          1,
          2,
          3
         ],
         "y": [
          0.7948717948717948,
          0.9230769230769231,
          0.9487179487179487,
          1.0
         ],
         "type": "scatter"
        }
       ],
       "layout": {
        "template": {
         "data": {
          "histogram2dcontour": [
           {
            "type": "histogram2dcontour",
            "colorbar": {
             "outlinewidth": 0,
             "ticks": ""
            },
            "colorscale": [
             [
              0.0,
              "#0d0887"
             ],
             [
              0.1111111111111111,
              "#46039f"
             ],
             [
              0.2222222222222222,
              "#7201a8"
             ],
             [
              0.3333333333333333,
              "#9c179e"
             ],
             [
              0.4444444444444444,
              "#bd3786"
             ],
             [
              0.5555555555555556,
              "#d8576b"
             ],
             [
              0.6666666666666666,
              "#ed7953"
             ],
             [
              0.7777777777777778,
              "#fb9f3a"
             ],
             [
              0.8888888888888888,
              "#fdca26"
             ],
             [
              1.0,
              "#f0f921"
             ]
            ]
           }
          ],
          "choropleth": [
           {
            "type": "choropleth",
            "colorbar": {
             "outlinewidth": 0,
             "ticks": ""
            }
           }
          ],
          "histogram2d": [
           {
            "type": "histogram2d",
            "colorbar": {
             "outlinewidth": 0,
             "ticks": ""
            },
            "colorscale": [
             [
              0.0,
              "#0d0887"
             ],
             [
              0.1111111111111111,
              "#46039f"
             ],
             [
              0.2222222222222222,
              "#7201a8"
             ],
             [
              0.3333333333333333,
              "#9c179e"
             ],
             [
              0.4444444444444444,
              "#bd3786"
             ],
             [
              0.5555555555555556,
              "#d8576b"
             ],
             [
              0.6666666666666666,
              "#ed7953"
             ],
             [
              0.7777777777777778,
              "#fb9f3a"
             ],
             [
              0.8888888888888888,
              "#fdca26"
             ],
             [
              1.0,
              "#f0f921"
             ]
            ]
           }
          ],
          "heatmap": [
           {
            "type": "heatmap",
            "colorbar": {
             "outlinewidth": 0,
             "ticks": ""
            },
            "colorscale": [
             [
              0.0,
              "#0d0887"
             ],
             [
              0.1111111111111111,
              "#46039f"
             ],
             [
              0.2222222222222222,
              "#7201a8"
             ],
             [
              0.3333333333333333,
              "#9c179e"
             ],
             [
              0.4444444444444444,
              "#bd3786"
             ],
             [
              0.5555555555555556,
              "#d8576b"
             ],
             [
              0.6666666666666666,
              "#ed7953"
             ],
             [
              0.7777777777777778,
              "#fb9f3a"
             ],
             [
              0.8888888888888888,
              "#fdca26"
             ],
             [
              1.0,
              "#f0f921"
             ]
            ]
           }
          ],
          "contourcarpet": [
           {
            "type": "contourcarpet",
            "colorbar": {
             "outlinewidth": 0,
             "ticks": ""
            }
           }
          ],
          "contour": [
           {
            "type": "contour",
            "colorbar": {
             "outlinewidth": 0,
             "ticks": ""
            },
            "colorscale": [
             [
              0.0,
              "#0d0887"
             ],
             [
              0.1111111111111111,
              "#46039f"
             ],
             [
              0.2222222222222222,
              "#7201a8"
             ],
             [
              0.3333333333333333,
              "#9c179e"
             ],
             [
              0.4444444444444444,
              "#bd3786"
             ],
             [
              0.5555555555555556,
              "#d8576b"
             ],
             [
              0.6666666666666666,
              "#ed7953"
             ],
             [
              0.7777777777777778,
              "#fb9f3a"
             ],
             [
              0.8888888888888888,
              "#fdca26"
             ],
             [
              1.0,
              "#f0f921"
             ]
            ]
           }
          ],
          "surface": [
           {
            "type": "surface",
            "colorbar": {
             "outlinewidth": 0,
             "ticks": ""
            },
            "colorscale": [
             [
              0.0,
              "#0d0887"
             ],
             [
              0.1111111111111111,
              "#46039f"
             ],
             [
              0.2222222222222222,
              "#7201a8"
             ],
             [
              0.3333333333333333,
              "#9c179e"
             ],
             [
              0.4444444444444444,
              "#bd3786"
             ],
             [
              0.5555555555555556,
              "#d8576b"
             ],
             [
              0.6666666666666666,
              "#ed7953"
             ],
             [
              0.7777777777777778,
              "#fb9f3a"
             ],
             [
              0.8888888888888888,
              "#fdca26"
             ],
             [
              1.0,
              "#f0f921"
             ]
            ]
           }
          ],
          "mesh3d": [
           {
            "type": "mesh3d",
            "colorbar": {
             "outlinewidth": 0,
             "ticks": ""
            }
           }
          ],
          "scatter": [
           {
            "fillpattern": {
             "fillmode": "overlay",
             "size": 10,
             "solidity": 0.2
            },
            "type": "scatter"
           }
          ],
          "parcoords": [
           {
            "type": "parcoords",
            "line": {
             "colorbar": {
              "outlinewidth": 0,
              "ticks": ""
             }
            }
           }
          ],
          "scatterpolargl": [
           {
            "type": "scatterpolargl",
            "marker": {
             "colorbar": {
              "outlinewidth": 0,
              "ticks": ""
             }
            }
           }
          ],
          "bar": [
           {
            "error_x": {
             "color": "#2a3f5f"
            },
            "error_y": {
             "color": "#2a3f5f"
            },
            "marker": {
             "line": {
              "color": "#E5ECF6",
              "width": 0.5
             },
             "pattern": {
              "fillmode": "overlay",
              "size": 10,
              "solidity": 0.2
             }
            },
            "type": "bar"
           }
          ],
          "scattergeo": [
           {
            "type": "scattergeo",
            "marker": {
             "colorbar": {
              "outlinewidth": 0,
              "ticks": ""
             }
            }
           }
          ],
          "scatterpolar": [
           {
            "type": "scatterpolar",
            "marker": {
             "colorbar": {
              "outlinewidth": 0,
              "ticks": ""
             }
            }
           }
          ],
          "histogram": [
           {
            "marker": {
             "pattern": {
              "fillmode": "overlay",
              "size": 10,
              "solidity": 0.2
             }
            },
            "type": "histogram"
           }
          ],
          "scattergl": [
           {
            "type": "scattergl",
            "marker": {
             "colorbar": {
              "outlinewidth": 0,
              "ticks": ""
             }
            }
           }
          ],
          "scatter3d": [
           {
            "type": "scatter3d",
            "line": {
             "colorbar": {
              "outlinewidth": 0,
              "ticks": ""
             }
            },
            "marker": {
             "colorbar": {
              "outlinewidth": 0,
              "ticks": ""
             }
            }
           }
          ],
          "scattermap": [
           {
            "type": "scattermap",
            "marker": {
             "colorbar": {
              "outlinewidth": 0,
              "ticks": ""
             }
            }
           }
          ],
          "scattermapbox": [
           {
            "type": "scattermapbox",
            "marker": {
             "colorbar": {
              "outlinewidth": 0,
              "ticks": ""
             }
            }
           }
          ],
          "scatterternary": [
           {
            "type": "scatterternary",
            "marker": {
             "colorbar": {
              "outlinewidth": 0,
              "ticks": ""
             }
            }
           }
          ],
          "scattercarpet": [
           {
            "type": "scattercarpet",
            "marker": {
             "colorbar": {
              "outlinewidth": 0,
              "ticks": ""
             }
            }
           }
          ],
          "carpet": [
           {
            "aaxis": {
             "endlinecolor": "#2a3f5f",
             "gridcolor": "white",
             "linecolor": "white",
             "minorgridcolor": "white",
             "startlinecolor": "#2a3f5f"
            },
            "baxis": {
             "endlinecolor": "#2a3f5f",
             "gridcolor": "white",
             "linecolor": "white",
             "minorgridcolor": "white",
             "startlinecolor": "#2a3f5f"
            },
            "type": "carpet"
           }
          ],
          "table": [
           {
            "cells": {
             "fill": {
              "color": "#EBF0F8"
             },
             "line": {
              "color": "white"
             }
            },
            "header": {
             "fill": {
              "color": "#C8D4E3"
             },
             "line": {
              "color": "white"
             }
            },
            "type": "table"
           }
          ],
          "barpolar": [
           {
            "marker": {
             "line": {
              "color": "#E5ECF6",
              "width": 0.5
             },
             "pattern": {
              "fillmode": "overlay",
              "size": 10,
              "solidity": 0.2
             }
            },
            "type": "barpolar"
           }
          ],
          "pie": [
           {
            "automargin": true,
            "type": "pie"
           }
          ]
         },
         "layout": {
          "autotypenumbers": "strict",
          "colorway": [
           "#636efa",
           "#EF553B",
           "#00cc96",
           "#ab63fa",
           "#FFA15A",
           "#19d3f3",
           "#FF6692",
           "#B6E880",
           "#FF97FF",
           "#FECB52"
          ],
          "font": {
           "color": "#2a3f5f"
          },
          "hovermode": "closest",
          "hoverlabel": {
           "align": "left"
          },
          "paper_bgcolor": "white",
          "plot_bgcolor": "#E5ECF6",
          "polar": {
           "bgcolor": "#E5ECF6",
           "angularaxis": {
            "gridcolor": "white",
            "linecolor": "white",
            "ticks": ""
           },
           "radialaxis": {
            "gridcolor": "white",
            "linecolor": "white",
            "ticks": ""
           }
          },
          "ternary": {
           "bgcolor": "#E5ECF6",
           "aaxis": {
            "gridcolor": "white",
            "linecolor": "white",
            "ticks": ""
           },
           "baxis": {
            "gridcolor": "white",
            "linecolor": "white",
            "ticks": ""
           },
           "caxis": {
            "gridcolor": "white",
            "linecolor": "white",
            "ticks": ""
           }
          },
          "coloraxis": {
           "colorbar": {
            "outlinewidth": 0,
            "ticks": ""
           }
          },
          "colorscale": {
           "sequential": [
            [
             0.0,
             "#0d0887"
            ],
            [
             0.1111111111111111,
             "#46039f"
            ],
            [
             0.2222222222222222,
             "#7201a8"
            ],
            [
             0.3333333333333333,
             "#9c179e"
            ],
            [
             0.4444444444444444,
             "#bd3786"
            ],
            [
             0.5555555555555556,
             "#d8576b"
            ],
            [
             0.6666666666666666,
             "#ed7953"
            ],
            [
             0.7777777777777778,
             "#fb9f3a"
            ],
            [
             0.8888888888888888,
             "#fdca26"
            ],
            [
             1.0,
             "#f0f921"
            ]
           ],
           "sequentialminus": [
            [
             0.0,
             "#0d0887"
            ],
            [
             0.1111111111111111,
             "#46039f"
            ],
            [
             0.2222222222222222,
             "#7201a8"
            ],
            [
             0.3333333333333333,
             "#9c179e"
            ],
            [
             0.4444444444444444,
             "#bd3786"
            ],
            [
             0.5555555555555556,
             "#d8576b"
            ],
            [
             0.6666666666666666,
             "#ed7953"
            ],
            [
             0.7777777777777778,
             "#fb9f3a"
            ],
            [
             0.8888888888888888,
             "#fdca26"
            ],
            [
             1.0,
             "#f0f921"
            ]
           ],
           "diverging": [
            [
             0,
             "#8e0152"
            ],
            [
             0.1,
             "#c51b7d"
            ],
            [
             0.2,
             "#de77ae"
            ],
            [
             0.3,
             "#f1b6da"
            ],
            [
             0.4,
             "#fde0ef"
            ],
            [
             0.5,
             "#f7f7f7"
            ],
            [
             0.6,
             "#e6f5d0"
            ],
            [
             0.7,
             "#b8e186"
            ],
            [
             0.8,
             "#7fbc41"
            ],
            [
             0.9,
             "#4d9221"
            ],
            [
             1,
             "#276419"
            ]
           ]
          },
          "xaxis": {
           "gridcolor": "white",
           "linecolor": "white",
           "ticks": "",
           "title": {
            "standoff": 15
           },
           "zerolinecolor": "white",
           "automargin": true,
           "zerolinewidth": 2
          },
          "yaxis": {
           "gridcolor": "white",
           "linecolor": "white",
           "ticks": "",
           "title": {
            "standoff": 15
           },
           "zerolinecolor": "white",
           "automargin": true,
           "zerolinewidth": 2
          },
          "scene": {
           "xaxis": {
            "backgroundcolor": "#E5ECF6",
            "gridcolor": "white",
            "linecolor": "white",
            "showbackground": true,
            "ticks": "",
            "zerolinecolor": "white",
            "gridwidth": 2
           },
           "yaxis": {
            "backgroundcolor": "#E5ECF6",
            "gridcolor": "white",
            "linecolor": "white",
            "showbackground": true,
            "ticks": "",
            "zerolinecolor": "white",
            "gridwidth": 2
           },
           "zaxis": {
            "backgroundcolor": "#E5ECF6",
            "gridcolor": "white",
            "linecolor": "white",
            "showbackground": true,
            "ticks": "",
            "zerolinecolor": "white",
            "gridwidth": 2
           }
          },
          "shapedefaults": {
           "line": {
            "color": "#2a3f5f"
           }
          },
          "annotationdefaults": {
           "arrowcolor": "#2a3f5f",
           "arrowhead": 0,
           "arrowwidth": 1
          },
          "geo": {
           "bgcolor": "white",
           "landcolor": "#E5ECF6",
           "subunitcolor": "white",
           "showland": true,
           "showlakes": true,
           "lakecolor": "white"
          },
          "title": {
           "x": 0.05
          },
          "mapbox": {
           "style": "light"
          }
         }
        },
        "font": {
         "size": 14
        },
        "title": {
         "text": "NDAR (T = 0.0) Performance for 15 qubits on HMN=SK;LOC=(1, 2);CFD=CT~DIS_CDN~UNI_CDP~low~-1_high~1_step~1"
        },
        "xaxis": {
         "title": {
          "text": "NDAR Iteration"
         },
         "tickvals": [
          0,
          1,
          2,
          3
         ]
        },
        "yaxis": {
         "title": {
          "text": "Approximation Ratio"
         },
         "range": [
          0.65,
          1.03
         ]
        },
        "hovermode": "x unified"
       },
       "config": {
        "plotlyServerURL": "https://plot.ly"
       }
      },
      "text/html": [
       "<div>            <script src=\"https://cdnjs.cloudflare.com/ajax/libs/mathjax/2.7.5/MathJax.js?config=TeX-AMS-MML_SVG\"></script><script type=\"text/javascript\">if (window.MathJax && window.MathJax.Hub && window.MathJax.Hub.Config) {window.MathJax.Hub.Config({SVG: {font: \"STIX-Web\"}});}</script>                <script type=\"text/javascript\">window.PlotlyConfig = {MathJaxConfig: 'local'};</script>\n",
       "        <script charset=\"utf-8\" src=\"https://cdn.plot.ly/plotly-3.1.0.min.js\" integrity=\"sha256-Ei4740bWZhaUTQuD6q9yQlgVCMPBz6CZWhevDYPv93A=\" crossorigin=\"anonymous\"></script>                <div id=\"aa05c21d-9190-4839-8707-1f62b7808df0\" class=\"plotly-graph-div\" style=\"height:525px; width:100%;\"></div>            <script type=\"text/javascript\">                window.PLOTLYENV=window.PLOTLYENV || {};                                if (document.getElementById(\"aa05c21d-9190-4839-8707-1f62b7808df0\")) {                    Plotly.newPlot(                        \"aa05c21d-9190-4839-8707-1f62b7808df0\",                        [{\"mode\":\"lines+markers\",\"name\":\"NDAR p(0|1) = 0.9\",\"x\":[0,1,2,3],\"y\":[0.7948717948717948,0.9230769230769231,0.9487179487179487,1.0],\"type\":\"scatter\"}],                        {\"template\":{\"data\":{\"histogram2dcontour\":[{\"type\":\"histogram2dcontour\",\"colorbar\":{\"outlinewidth\":0,\"ticks\":\"\"},\"colorscale\":[[0.0,\"#0d0887\"],[0.1111111111111111,\"#46039f\"],[0.2222222222222222,\"#7201a8\"],[0.3333333333333333,\"#9c179e\"],[0.4444444444444444,\"#bd3786\"],[0.5555555555555556,\"#d8576b\"],[0.6666666666666666,\"#ed7953\"],[0.7777777777777778,\"#fb9f3a\"],[0.8888888888888888,\"#fdca26\"],[1.0,\"#f0f921\"]]}],\"choropleth\":[{\"type\":\"choropleth\",\"colorbar\":{\"outlinewidth\":0,\"ticks\":\"\"}}],\"histogram2d\":[{\"type\":\"histogram2d\",\"colorbar\":{\"outlinewidth\":0,\"ticks\":\"\"},\"colorscale\":[[0.0,\"#0d0887\"],[0.1111111111111111,\"#46039f\"],[0.2222222222222222,\"#7201a8\"],[0.3333333333333333,\"#9c179e\"],[0.4444444444444444,\"#bd3786\"],[0.5555555555555556,\"#d8576b\"],[0.6666666666666666,\"#ed7953\"],[0.7777777777777778,\"#fb9f3a\"],[0.8888888888888888,\"#fdca26\"],[1.0,\"#f0f921\"]]}],\"heatmap\":[{\"type\":\"heatmap\",\"colorbar\":{\"outlinewidth\":0,\"ticks\":\"\"},\"colorscale\":[[0.0,\"#0d0887\"],[0.1111111111111111,\"#46039f\"],[0.2222222222222222,\"#7201a8\"],[0.3333333333333333,\"#9c179e\"],[0.4444444444444444,\"#bd3786\"],[0.5555555555555556,\"#d8576b\"],[0.6666666666666666,\"#ed7953\"],[0.7777777777777778,\"#fb9f3a\"],[0.8888888888888888,\"#fdca26\"],[1.0,\"#f0f921\"]]}],\"contourcarpet\":[{\"type\":\"contourcarpet\",\"colorbar\":{\"outlinewidth\":0,\"ticks\":\"\"}}],\"contour\":[{\"type\":\"contour\",\"colorbar\":{\"outlinewidth\":0,\"ticks\":\"\"},\"colorscale\":[[0.0,\"#0d0887\"],[0.1111111111111111,\"#46039f\"],[0.2222222222222222,\"#7201a8\"],[0.3333333333333333,\"#9c179e\"],[0.4444444444444444,\"#bd3786\"],[0.5555555555555556,\"#d8576b\"],[0.6666666666666666,\"#ed7953\"],[0.7777777777777778,\"#fb9f3a\"],[0.8888888888888888,\"#fdca26\"],[1.0,\"#f0f921\"]]}],\"surface\":[{\"type\":\"surface\",\"colorbar\":{\"outlinewidth\":0,\"ticks\":\"\"},\"colorscale\":[[0.0,\"#0d0887\"],[0.1111111111111111,\"#46039f\"],[0.2222222222222222,\"#7201a8\"],[0.3333333333333333,\"#9c179e\"],[0.4444444444444444,\"#bd3786\"],[0.5555555555555556,\"#d8576b\"],[0.6666666666666666,\"#ed7953\"],[0.7777777777777778,\"#fb9f3a\"],[0.8888888888888888,\"#fdca26\"],[1.0,\"#f0f921\"]]}],\"mesh3d\":[{\"type\":\"mesh3d\",\"colorbar\":{\"outlinewidth\":0,\"ticks\":\"\"}}],\"scatter\":[{\"fillpattern\":{\"fillmode\":\"overlay\",\"size\":10,\"solidity\":0.2},\"type\":\"scatter\"}],\"parcoords\":[{\"type\":\"parcoords\",\"line\":{\"colorbar\":{\"outlinewidth\":0,\"ticks\":\"\"}}}],\"scatterpolargl\":[{\"type\":\"scatterpolargl\",\"marker\":{\"colorbar\":{\"outlinewidth\":0,\"ticks\":\"\"}}}],\"bar\":[{\"error_x\":{\"color\":\"#2a3f5f\"},\"error_y\":{\"color\":\"#2a3f5f\"},\"marker\":{\"line\":{\"color\":\"#E5ECF6\",\"width\":0.5},\"pattern\":{\"fillmode\":\"overlay\",\"size\":10,\"solidity\":0.2}},\"type\":\"bar\"}],\"scattergeo\":[{\"type\":\"scattergeo\",\"marker\":{\"colorbar\":{\"outlinewidth\":0,\"ticks\":\"\"}}}],\"scatterpolar\":[{\"type\":\"scatterpolar\",\"marker\":{\"colorbar\":{\"outlinewidth\":0,\"ticks\":\"\"}}}],\"histogram\":[{\"marker\":{\"pattern\":{\"fillmode\":\"overlay\",\"size\":10,\"solidity\":0.2}},\"type\":\"histogram\"}],\"scattergl\":[{\"type\":\"scattergl\",\"marker\":{\"colorbar\":{\"outlinewidth\":0,\"ticks\":\"\"}}}],\"scatter3d\":[{\"type\":\"scatter3d\",\"line\":{\"colorbar\":{\"outlinewidth\":0,\"ticks\":\"\"}},\"marker\":{\"colorbar\":{\"outlinewidth\":0,\"ticks\":\"\"}}}],\"scattermap\":[{\"type\":\"scattermap\",\"marker\":{\"colorbar\":{\"outlinewidth\":0,\"ticks\":\"\"}}}],\"scattermapbox\":[{\"type\":\"scattermapbox\",\"marker\":{\"colorbar\":{\"outlinewidth\":0,\"ticks\":\"\"}}}],\"scatterternary\":[{\"type\":\"scatterternary\",\"marker\":{\"colorbar\":{\"outlinewidth\":0,\"ticks\":\"\"}}}],\"scattercarpet\":[{\"type\":\"scattercarpet\",\"marker\":{\"colorbar\":{\"outlinewidth\":0,\"ticks\":\"\"}}}],\"carpet\":[{\"aaxis\":{\"endlinecolor\":\"#2a3f5f\",\"gridcolor\":\"white\",\"linecolor\":\"white\",\"minorgridcolor\":\"white\",\"startlinecolor\":\"#2a3f5f\"},\"baxis\":{\"endlinecolor\":\"#2a3f5f\",\"gridcolor\":\"white\",\"linecolor\":\"white\",\"minorgridcolor\":\"white\",\"startlinecolor\":\"#2a3f5f\"},\"type\":\"carpet\"}],\"table\":[{\"cells\":{\"fill\":{\"color\":\"#EBF0F8\"},\"line\":{\"color\":\"white\"}},\"header\":{\"fill\":{\"color\":\"#C8D4E3\"},\"line\":{\"color\":\"white\"}},\"type\":\"table\"}],\"barpolar\":[{\"marker\":{\"line\":{\"color\":\"#E5ECF6\",\"width\":0.5},\"pattern\":{\"fillmode\":\"overlay\",\"size\":10,\"solidity\":0.2}},\"type\":\"barpolar\"}],\"pie\":[{\"automargin\":true,\"type\":\"pie\"}]},\"layout\":{\"autotypenumbers\":\"strict\",\"colorway\":[\"#636efa\",\"#EF553B\",\"#00cc96\",\"#ab63fa\",\"#FFA15A\",\"#19d3f3\",\"#FF6692\",\"#B6E880\",\"#FF97FF\",\"#FECB52\"],\"font\":{\"color\":\"#2a3f5f\"},\"hovermode\":\"closest\",\"hoverlabel\":{\"align\":\"left\"},\"paper_bgcolor\":\"white\",\"plot_bgcolor\":\"#E5ECF6\",\"polar\":{\"bgcolor\":\"#E5ECF6\",\"angularaxis\":{\"gridcolor\":\"white\",\"linecolor\":\"white\",\"ticks\":\"\"},\"radialaxis\":{\"gridcolor\":\"white\",\"linecolor\":\"white\",\"ticks\":\"\"}},\"ternary\":{\"bgcolor\":\"#E5ECF6\",\"aaxis\":{\"gridcolor\":\"white\",\"linecolor\":\"white\",\"ticks\":\"\"},\"baxis\":{\"gridcolor\":\"white\",\"linecolor\":\"white\",\"ticks\":\"\"},\"caxis\":{\"gridcolor\":\"white\",\"linecolor\":\"white\",\"ticks\":\"\"}},\"coloraxis\":{\"colorbar\":{\"outlinewidth\":0,\"ticks\":\"\"}},\"colorscale\":{\"sequential\":[[0.0,\"#0d0887\"],[0.1111111111111111,\"#46039f\"],[0.2222222222222222,\"#7201a8\"],[0.3333333333333333,\"#9c179e\"],[0.4444444444444444,\"#bd3786\"],[0.5555555555555556,\"#d8576b\"],[0.6666666666666666,\"#ed7953\"],[0.7777777777777778,\"#fb9f3a\"],[0.8888888888888888,\"#fdca26\"],[1.0,\"#f0f921\"]],\"sequentialminus\":[[0.0,\"#0d0887\"],[0.1111111111111111,\"#46039f\"],[0.2222222222222222,\"#7201a8\"],[0.3333333333333333,\"#9c179e\"],[0.4444444444444444,\"#bd3786\"],[0.5555555555555556,\"#d8576b\"],[0.6666666666666666,\"#ed7953\"],[0.7777777777777778,\"#fb9f3a\"],[0.8888888888888888,\"#fdca26\"],[1.0,\"#f0f921\"]],\"diverging\":[[0,\"#8e0152\"],[0.1,\"#c51b7d\"],[0.2,\"#de77ae\"],[0.3,\"#f1b6da\"],[0.4,\"#fde0ef\"],[0.5,\"#f7f7f7\"],[0.6,\"#e6f5d0\"],[0.7,\"#b8e186\"],[0.8,\"#7fbc41\"],[0.9,\"#4d9221\"],[1,\"#276419\"]]},\"xaxis\":{\"gridcolor\":\"white\",\"linecolor\":\"white\",\"ticks\":\"\",\"title\":{\"standoff\":15},\"zerolinecolor\":\"white\",\"automargin\":true,\"zerolinewidth\":2},\"yaxis\":{\"gridcolor\":\"white\",\"linecolor\":\"white\",\"ticks\":\"\",\"title\":{\"standoff\":15},\"zerolinecolor\":\"white\",\"automargin\":true,\"zerolinewidth\":2},\"scene\":{\"xaxis\":{\"backgroundcolor\":\"#E5ECF6\",\"gridcolor\":\"white\",\"linecolor\":\"white\",\"showbackground\":true,\"ticks\":\"\",\"zerolinecolor\":\"white\",\"gridwidth\":2},\"yaxis\":{\"backgroundcolor\":\"#E5ECF6\",\"gridcolor\":\"white\",\"linecolor\":\"white\",\"showbackground\":true,\"ticks\":\"\",\"zerolinecolor\":\"white\",\"gridwidth\":2},\"zaxis\":{\"backgroundcolor\":\"#E5ECF6\",\"gridcolor\":\"white\",\"linecolor\":\"white\",\"showbackground\":true,\"ticks\":\"\",\"zerolinecolor\":\"white\",\"gridwidth\":2}},\"shapedefaults\":{\"line\":{\"color\":\"#2a3f5f\"}},\"annotationdefaults\":{\"arrowcolor\":\"#2a3f5f\",\"arrowhead\":0,\"arrowwidth\":1},\"geo\":{\"bgcolor\":\"white\",\"landcolor\":\"#E5ECF6\",\"subunitcolor\":\"white\",\"showland\":true,\"showlakes\":true,\"lakecolor\":\"white\"},\"title\":{\"x\":0.05},\"mapbox\":{\"style\":\"light\"}}},\"font\":{\"size\":14},\"title\":{\"text\":\"NDAR (T = 0.0) Performance for 15 qubits on HMN=SK;LOC=(1, 2);CFD=CT~DIS_CDN~UNI_CDP~low~-1_high~1_step~1\"},\"xaxis\":{\"title\":{\"text\":\"NDAR Iteration\"},\"tickvals\":[0,1,2,3]},\"yaxis\":{\"title\":{\"text\":\"Approximation Ratio\"},\"range\":[0.65,1.03]},\"hovermode\":\"x unified\"},                        {\"responsive\": true}                    ).then(function(){\n",
       "                            \n",
       "var gd = document.getElementById('aa05c21d-9190-4839-8707-1f62b7808df0');\n",
       "var x = new MutationObserver(function (mutations, observer) {{\n",
       "        var display = window.getComputedStyle(gd).display;\n",
       "        if (!display || display === 'none') {{\n",
       "            console.log([gd, 'removed!']);\n",
       "            Plotly.purge(gd);\n",
       "            observer.disconnect();\n",
       "        }}\n",
       "}});\n",
       "\n",
       "// Listen for the removal of the full notebook cells\n",
       "var notebookContainer = gd.closest('#notebook-container');\n",
       "if (notebookContainer) {{\n",
       "    x.observe(notebookContainer, {childList: true});\n",
       "}}\n",
       "\n",
       "// Listen for the clearing of the current output cell\n",
       "var outputEl = gd.closest('.output');\n",
       "if (outputEl) {{\n",
       "    x.observe(outputEl, {childList: true});\n",
       "}}\n",
       "\n",
       "                        })                };            </script>        </div>"
      ]
     },
     "metadata": {},
     "output_type": "display_data"
    }
   ],
   "execution_count": 35
  },
  {
   "cell_type": "code",
   "execution_count": null,
   "id": "14",
   "metadata": {},
   "outputs": [],
   "source": []
  }
 ],
 "metadata": {
  "kernelspec": {
   "display_name": "Python 3",
   "language": "python",
   "name": "python3"
  },
  "language_info": {
   "codemirror_mode": {
    "name": "ipython",
    "version": 2
   },
   "file_extension": ".py",
   "mimetype": "text/x-python",
   "name": "python",
   "nbconvert_exporter": "python",
   "pygments_lexer": "ipython2",
   "version": "2.7.6"
  }
 },
 "nbformat": 4,
 "nbformat_minor": 5
}
