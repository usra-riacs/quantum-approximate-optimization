{
 "cells": [
  {
   "cell_type": "markdown",
   "id": "0",
   "metadata": {},
   "source": [
    "### References:\n",
    "[1] Maciejewski, Filip B., Jacob Biamonte, Stuart Hadfield, and Davide Venturelli. \"[Improving quantum approximate optimization by noise-directed adaptive remapping.](https://arxiv.org/abs/2404.01412)\" arXiv preprint arXiv:2404.01412 (2024).\n",
    "\n",
    "[2] Maciejewski, Filip B., Bao G. Bach, Maxime Dupont, P. Aaron Lott, Bhuvanesh Sundar, David E. Bernal Neira, Ilya Safro, and Davide Venturelli. \"[A multilevel approach for solving large-scale qubo problems with noisy hybrid quantum approximate optimization.](https://arxiv.org/abs/2408.07793)\" In 2024 IEEE High Performance Extreme Computing Conference (HPEC), pp. 1-10. IEEE, 2024.\n",
    "\n",
    "[3] Maciejewski, Filip B., Stuart Hadfield, Benjamin Hall, Mark Hodson, Maxime Dupont, Bram Evert, James Sud et al. \"[Design and execution of quantum circuits using tens of superconducting qubits and thousands of gates for dense Ising optimization problems.](https://arxiv.org/abs/2308.12423)\" Physical Review Applied 22, no. 4 (2024): 044074.\n",
    "\n",
    "[4] Tam, Wai-Hong, Hiromichi Matsuyama, Ryo Sakai, and Yu Yamashiro. \"[Enhancing NDAR with Delay-Gate-Induced Amplitude Damping.]\"(https://arxiv.org/abs/2504.12628) arXiv preprint arXiv:2504.12628 (2025).\n",
    "\n",
    "[5] Lykov, Danylo, Ruslan Shaydulin, Yue Sun, Yuri Alexeev, and Marco Pistoia. \"[Fast simulation of high-depth qaoa circuits.](https://arxiv.org/abs/2309.04841)\" In Proceedings of the SC'23 Workshops of The International Conference on High Performance Computing, Network, Storage, and Analysis, pp. 1443-1451. 2023."
   ]
  },
  {
   "cell_type": "code",
   "id": "1",
   "metadata": {
    "ExecuteTime": {
     "end_time": "2025-09-05T02:14:30.845242Z",
     "start_time": "2025-09-05T02:14:30.819189Z"
    }
   },
   "source": [
    "%load_ext autoreload\n",
    "%autoreload 2"
   ],
   "outputs": [],
   "execution_count": 1
  },
  {
   "cell_type": "code",
   "id": "2",
   "metadata": {
    "ExecuteTime": {
     "end_time": "2025-09-05T02:14:31.464390Z",
     "start_time": "2025-09-05T02:14:30.851931Z"
    }
   },
   "source": [
    "import datetime\n",
    "import os\n",
    "import uuid\n",
    "import numpy as np\n",
    "from quapopt import AVAILABLE_SIMULATORS\n",
    "from quapopt import ancillary_functions as anf\n",
    "\n",
    "\n",
    "os.makedirs('../temp', exist_ok=True)"
   ],
   "outputs": [],
   "execution_count": 2
  },
  {
   "cell_type": "markdown",
   "id": "3",
   "metadata": {},
   "source": [
    "### Generate a random Hamiltonian instance"
   ]
  },
  {
   "cell_type": "code",
   "id": "4",
   "metadata": {
    "ExecuteTime": {
     "end_time": "2025-09-05T02:14:33.741924Z",
     "start_time": "2025-09-05T02:14:31.474473Z"
    }
   },
   "source": [
    "from quapopt.hamiltonians.generators import build_hamiltonian_generator\n",
    "from quapopt.data_analysis.data_handling import (CoefficientsType,\n",
    "                                                 CoefficientsDistribution,\n",
    "                                                 CoefficientsDistributionSpecifier,\n",
    "                                                 HamiltonianModels)\n",
    "from quapopt.data_analysis.data_handling import LoggingLevel\n",
    "\n",
    "#more qubits so we observe some effects\n",
    "number_of_qubits = 15\n",
    "seed_cost_hamiltonian = 1\n",
    "\n",
    "coefficients_type = CoefficientsType.DISCRETE\n",
    "coefficients_distribution = CoefficientsDistribution.Uniform\n",
    "coefficients_distribution_properties = {'low': -1, 'high': 1, 'step': 1}\n",
    "coefficients_distribution_specifier = CoefficientsDistributionSpecifier(CoefficientsType=coefficients_type,\n",
    "                                                                        CoefficientsDistributionName=coefficients_distribution,\n",
    "                                                                        CoefficientsDistributionProperties=coefficients_distribution_properties)\n",
    "\n",
    "# We generate a Hamiltonian instance. In this case it's a random Sherrington-Kirkpatrick Hamiltonian\n",
    "hamiltonian_model = HamiltonianModels.SherringtonKirkpatrick\n",
    "localities = (2,)\n",
    "generator_cost_hamiltonian = build_hamiltonian_generator(hamiltonian_model=hamiltonian_model,\n",
    "                                                         localities=localities,\n",
    "                                                         coefficients_distribution_specifier=coefficients_distribution_specifier)\n",
    "\n",
    "cost_hamiltonian = generator_cost_hamiltonian.generate_instance(number_of_qubits=number_of_qubits,\n",
    "                                                                seed=seed_cost_hamiltonian,\n",
    "                                                                read_from_drive_if_present=True)\n",
    "\n",
    "print(\"Class description (cost):\", cost_hamiltonian.hamiltonian_class_description)\n",
    "print(\"Instance description (cost):\", cost_hamiltonian.hamiltonian_instance_description)\n",
    "\n",
    "# if we wish, we can solve the Hamiltonian\n",
    "if cost_hamiltonian.lowest_energy is None:\n",
    "    cost_hamiltonian.solve_hamiltonian(both_directions=True)\n",
    "\n",
    "ground_state_energy = cost_hamiltonian.ground_state_energy\n",
    "highest_energy = cost_hamiltonian.highest_energy\n",
    "\n",
    "cost_hamiltonian.hamiltonian_class_specifier.get_description_string()\n",
    "\n"
   ],
   "outputs": [
    {
     "data": {
      "text/html": [
       "\n",
       "\t\t\t<script type=\"text/javascript\">\n",
       "\t\t\t<!--\n",
       "\t\t\t\t\n",
       "\t\t\t{\n",
       "\t\t\t\tvar element = document.getElementById('NetworKit_script');\n",
       "\t\t\t\tif (element) {\n",
       "\t\t\t\t\telement.parentNode.removeChild(element);\n",
       "\t\t\t\t}\n",
       "\t\t\t\telement = document.createElement('script');\n",
       "\t\t\t\telement.type = 'text/javascript';\n",
       "\t\t\t\telement.innerHTML = 'function NetworKit_pageEmbed(id) { var i, j; var elements; elements = document.getElementById(id).getElementsByClassName(\"Plot\"); for (i=0; i<elements.length; i++) { elements[i].id = id + \"_Plot_\" + i; var data = elements[i].getAttribute(\"data-image\").split(\"|\"); elements[i].removeAttribute(\"data-image\"); var content = \"<div class=\\\\\"Image\\\\\" id=\\\\\"\" + elements[i].id + \"_Image\\\\\" />\"; elements[i].innerHTML = content; elements[i].setAttribute(\"data-image-index\", 0); elements[i].setAttribute(\"data-image-length\", data.length); for (j=0; j<data.length; j++) { elements[i].setAttribute(\"data-image-\" + j, data[j]); } NetworKit_plotUpdate(elements[i]); elements[i].onclick = function (e) { NetworKit_overlayShow((e.target) ? e.target : e.srcElement); } } elements = document.getElementById(id).getElementsByClassName(\"HeatCell\"); for (i=0; i<elements.length; i++) { var data = parseFloat(elements[i].getAttribute(\"data-heat\")); var color = \"#00FF00\"; if (data <= 1 && data > 0) { color = \"hsla(0, 100%, 75%, \" + (data) + \")\"; } else if (data <= 0 && data >= -1) { color = \"hsla(240, 100%, 75%, \" + (-data) + \")\"; } elements[i].style.backgroundColor = color; } elements = document.getElementById(id).getElementsByClassName(\"Details\"); for (i=0; i<elements.length; i++) { elements[i].setAttribute(\"data-title\", \"-\"); NetworKit_toggleDetails(elements[i]); elements[i].onclick = function (e) { NetworKit_toggleDetails((e.target) ? e.target : e.srcElement); } } elements = document.getElementById(id).getElementsByClassName(\"MathValue\"); for (i=elements.length-1; i>=0; i--) { value = elements[i].innerHTML.trim(); if (value === \"nan\") { elements[i].parentNode.innerHTML = \"\" } } elements = document.getElementById(id).getElementsByClassName(\"SubCategory\"); for (i=elements.length-1; i>=0; i--) { value = elements[i].innerHTML.trim(); if (value === \"\") { elements[i].parentNode.removeChild(elements[i]) } } elements = document.getElementById(id).getElementsByClassName(\"Category\"); for (i=elements.length-1; i>=0; i--) { value = elements[i].innerHTML.trim(); if (value === \"\") { elements[i].parentNode.removeChild(elements[i]) } } var isFirefox = false; try { isFirefox = typeof InstallTrigger !== \"undefined\"; } catch (e) {} if (!isFirefox) { alert(\"Currently the function\\'s output is only fully supported by Firefox.\"); } } function NetworKit_plotUpdate(source) { var index = source.getAttribute(\"data-image-index\"); var data = source.getAttribute(\"data-image-\" + index); var image = document.getElementById(source.id + \"_Image\"); image.style.backgroundImage = \"url(\" + data + \")\"; } function NetworKit_showElement(id, show) { var element = document.getElementById(id); element.style.display = (show) ? \"block\" : \"none\"; } function NetworKit_overlayShow(source) { NetworKit_overlayUpdate(source); NetworKit_showElement(\"NetworKit_Overlay\", true); } function NetworKit_overlayUpdate(source) { document.getElementById(\"NetworKit_Overlay_Title\").innerHTML = source.title; var index = source.getAttribute(\"data-image-index\"); var data = source.getAttribute(\"data-image-\" + index); var image = document.getElementById(\"NetworKit_Overlay_Image\"); image.setAttribute(\"data-id\", source.id); image.style.backgroundImage = \"url(\" + data + \")\"; var link = document.getElementById(\"NetworKit_Overlay_Toolbar_Bottom_Save\"); link.href = data; link.download = source.title + \".svg\"; } function NetworKit_overlayImageShift(delta) { var image = document.getElementById(\"NetworKit_Overlay_Image\"); var source = document.getElementById(image.getAttribute(\"data-id\")); var index = parseInt(source.getAttribute(\"data-image-index\")); var length = parseInt(source.getAttribute(\"data-image-length\")); var index = (index+delta) % length; if (index < 0) { index = length + index; } source.setAttribute(\"data-image-index\", index); NetworKit_overlayUpdate(source); } function NetworKit_toggleDetails(source) { var childs = source.children; var show = false; if (source.getAttribute(\"data-title\") == \"-\") { source.setAttribute(\"data-title\", \"+\"); show = false; } else { source.setAttribute(\"data-title\", \"-\"); show = true; } for (i=0; i<childs.length; i++) { if (show) { childs[i].style.display = \"block\"; } else { childs[i].style.display = \"none\"; } } }';\n",
       "\t\t\t\telement.setAttribute('id', 'NetworKit_script');\n",
       "\t\t\t\tdocument.head.appendChild(element);\n",
       "\t\t\t}\n",
       "\t\t\n",
       "\t\t\t\t\n",
       "\t\t\t{\n",
       "\t\t\t\tvar element = document.getElementById('NetworKit_style');\n",
       "\t\t\t\tif (element) {\n",
       "\t\t\t\t\telement.parentNode.removeChild(element);\n",
       "\t\t\t\t}\n",
       "\t\t\t\telement = document.createElement('style');\n",
       "\t\t\t\telement.type = 'text/css';\n",
       "\t\t\t\telement.innerHTML = '.NetworKit_Page { font-family: Arial, Helvetica, sans-serif; font-size: 14px; } .NetworKit_Page .Value:before { font-family: Arial, Helvetica, sans-serif; font-size: 1.05em; content: attr(data-title) \":\"; margin-left: -2.5em; padding-right: 0.5em; } .NetworKit_Page .Details .Value:before { display: block; } .NetworKit_Page .Value { font-family: monospace; white-space: pre; padding-left: 2.5em; white-space: -moz-pre-wrap !important; white-space: -pre-wrap; white-space: -o-pre-wrap; white-space: pre-wrap; word-wrap: break-word; tab-size: 4; -moz-tab-size: 4; } .NetworKit_Page .Category { clear: both; padding-left: 1em; margin-bottom: 1.5em; } .NetworKit_Page .Category:before { content: attr(data-title); font-size: 1.75em; display: block; margin-left: -0.8em; margin-bottom: 0.5em; } .NetworKit_Page .SubCategory { margin-bottom: 1.5em; padding-left: 1em; } .NetworKit_Page .SubCategory:before { font-size: 1.6em; display: block; margin-left: -0.8em; margin-bottom: 0.5em; } .NetworKit_Page .SubCategory[data-title]:before { content: attr(data-title); } .NetworKit_Page .Block { display: block; } .NetworKit_Page .Block:after { content: \".\"; visibility: hidden; display: block; height: 0; clear: both; } .NetworKit_Page .Block .Thumbnail_Overview, .NetworKit_Page .Block .Thumbnail_ScatterPlot { width: 260px; float: left; } .NetworKit_Page .Block .Thumbnail_Overview img, .NetworKit_Page .Block .Thumbnail_ScatterPlot img { width: 260px; } .NetworKit_Page .Block .Thumbnail_Overview:before, .NetworKit_Page .Block .Thumbnail_ScatterPlot:before { display: block; text-align: center; font-weight: bold; } .NetworKit_Page .Block .Thumbnail_Overview:before { content: attr(data-title); } .NetworKit_Page .HeatCell { font-family: \"Courier New\", Courier, monospace; cursor: pointer; } .NetworKit_Page .HeatCell, .NetworKit_Page .HeatCellName { display: inline; padding: 0.1em; margin-right: 2px; background-color: #FFFFFF } .NetworKit_Page .HeatCellName { margin-left: 0.25em; } .NetworKit_Page .HeatCell:before { content: attr(data-heat); display: inline-block; color: #000000; width: 4em; text-align: center; } .NetworKit_Page .Measure { clear: both; } .NetworKit_Page .Measure .Details { cursor: pointer; } .NetworKit_Page .Measure .Details:before { content: \"[\" attr(data-title) \"]\"; display: block; } .NetworKit_Page .Measure .Details .Value { border-left: 1px dotted black; margin-left: 0.4em; padding-left: 3.5em; pointer-events: none; } .NetworKit_Page .Measure .Details .Spacer:before { content: \".\"; opacity: 0.0; pointer-events: none; } .NetworKit_Page .Measure .Plot { width: 440px; height: 440px; cursor: pointer; float: left; margin-left: -0.9em; margin-right: 20px; } .NetworKit_Page .Measure .Plot .Image { background-repeat: no-repeat; background-position: center center; background-size: contain; height: 100%; pointer-events: none; } .NetworKit_Page .Measure .Stat { width: 500px; float: left; } .NetworKit_Page .Measure .Stat .Group { padding-left: 1.25em; margin-bottom: 0.75em; } .NetworKit_Page .Measure .Stat .Group .Title { font-size: 1.1em; display: block; margin-bottom: 0.3em; margin-left: -0.75em; border-right-style: dotted; border-right-width: 1px; border-bottom-style: dotted; border-bottom-width: 1px; background-color: #D0D0D0; padding-left: 0.2em; } .NetworKit_Page .Measure .Stat .Group .List { -webkit-column-count: 3; -moz-column-count: 3; column-count: 3; } .NetworKit_Page .Measure .Stat .Group .List .Entry { position: relative; line-height: 1.75em; } .NetworKit_Page .Measure .Stat .Group .List .Entry[data-tooltip]:before { position: absolute; left: 0; top: -40px; background-color: #808080; color: #ffffff; height: 30px; line-height: 30px; border-radius: 5px; padding: 0 15px; content: attr(data-tooltip); white-space: nowrap; display: none; } .NetworKit_Page .Measure .Stat .Group .List .Entry[data-tooltip]:after { position: absolute; left: 15px; top: -10px; border-top: 7px solid #808080; border-left: 7px solid transparent; border-right: 7px solid transparent; content: \"\"; display: none; } .NetworKit_Page .Measure .Stat .Group .List .Entry[data-tooltip]:hover:after, .NetworKit_Page .Measure .Stat .Group .List .Entry[data-tooltip]:hover:before { display: block; } .NetworKit_Page .Measure .Stat .Group .List .Entry .MathValue { font-family: \"Courier New\", Courier, monospace; } .NetworKit_Page .Measure:after { content: \".\"; visibility: hidden; display: block; height: 0; clear: both; } .NetworKit_Page .PartitionPie { clear: both; } .NetworKit_Page .PartitionPie img { width: 600px; } #NetworKit_Overlay { left: 0px; top: 0px; display: none; position: absolute; width: 100%; height: 100%; background-color: rgba(0,0,0,0.6); z-index: 1000; } #NetworKit_Overlay_Title { position: absolute; color: white; transform: rotate(-90deg); width: 32em; height: 32em; padding-right: 0.5em; padding-top: 0.5em; text-align: right; font-size: 40px; } #NetworKit_Overlay .button { background: white; cursor: pointer; } #NetworKit_Overlay .button:before { size: 13px; display: inline-block; text-align: center; margin-top: 0.5em; margin-bottom: 0.5em; width: 1.5em; height: 1.5em; } #NetworKit_Overlay .icon-close:before { content: \"X\"; } #NetworKit_Overlay .icon-previous:before { content: \"P\"; } #NetworKit_Overlay .icon-next:before { content: \"N\"; } #NetworKit_Overlay .icon-save:before { content: \"S\"; } #NetworKit_Overlay_Toolbar_Top, #NetworKit_Overlay_Toolbar_Bottom { position: absolute; width: 40px; right: 13px; text-align: right; z-index: 1100; } #NetworKit_Overlay_Toolbar_Top { top: 0.5em; } #NetworKit_Overlay_Toolbar_Bottom { Bottom: 0.5em; } #NetworKit_Overlay_ImageContainer { position: absolute; top: 5%; left: 5%; height: 90%; width: 90%; background-repeat: no-repeat; background-position: center center; background-size: contain; } #NetworKit_Overlay_Image { height: 100%; width: 100%; background-repeat: no-repeat; background-position: center center; background-size: contain; }';\n",
       "\t\t\t\telement.setAttribute('id', 'NetworKit_style');\n",
       "\t\t\t\tdocument.head.appendChild(element);\n",
       "\t\t\t}\n",
       "\t\t\n",
       "\t\t\t\t\n",
       "\t\t\t{\n",
       "\t\t\t\tvar element = document.getElementById('NetworKit_Overlay');\n",
       "\t\t\t\tif (element) {\n",
       "\t\t\t\t\telement.parentNode.removeChild(element);\n",
       "\t\t\t\t}\n",
       "\t\t\t\telement = document.createElement('div');\n",
       "\t\t\t\telement.innerHTML = '<div id=\"NetworKit_Overlay_Toolbar_Top\"><div class=\"button icon-close\" id=\"NetworKit_Overlay_Close\" /></div><div id=\"NetworKit_Overlay_Title\" /> <div id=\"NetworKit_Overlay_ImageContainer\"> <div id=\"NetworKit_Overlay_Image\" /> </div> <div id=\"NetworKit_Overlay_Toolbar_Bottom\"> <div class=\"button icon-previous\" onclick=\"NetworKit_overlayImageShift(-1)\" /> <div class=\"button icon-next\" onclick=\"NetworKit_overlayImageShift(1)\" /> <a id=\"NetworKit_Overlay_Toolbar_Bottom_Save\"><div class=\"button icon-save\" /></a> </div>';\n",
       "\t\t\t\telement.setAttribute('id', 'NetworKit_Overlay');\n",
       "\t\t\t\tdocument.body.appendChild(element);\n",
       "\t\t\t\tdocument.getElementById('NetworKit_Overlay_Close').onclick = function (e) {\n",
       "\t\t\t\t\tdocument.getElementById('NetworKit_Overlay').style.display = 'none';\n",
       "\t\t\t\t}\n",
       "\t\t\t}\n",
       "\t\t\n",
       "\t\t\t-->\n",
       "\t\t\t</script>\n",
       "\t\t"
      ]
     },
     "metadata": {},
     "output_type": "display_data",
     "jetTransient": {
      "display_id": null
     }
    },
    {
     "name": "stdout",
     "output_type": "stream",
     "text": [
      "File not found!\n",
      "FILE NOT FOUND!\n",
      "Class description (cost): HMN=SK;LOC=(2,);CFD=CT~DIS_CDN~UNI_CDP~low~-1_high~1_step~1\n",
      "Instance description (cost): NOQ=15;HII=1\n"
     ]
    },
    {
     "name": "stderr",
     "output_type": "stream",
     "text": [
      "/home/fipeczek/python_packages/quapopt_versions/current_public/quantum-approximate-optimization/.pixi/envs/quapopt/lib/python3.12/site-packages/numba/cuda/dispatcher.py:536: NumbaPerformanceWarning: \u001B[1mGrid size 43 will likely result in GPU under-utilization due to low occupancy.\u001B[0m\n",
      "  warn(NumbaPerformanceWarning(msg))\n"
     ]
    },
    {
     "data": {
      "text/plain": [
       "'HMN=SK;LOC=(2,);CFD=CT~DIS_CDN~UNI_CDP~low~-1_high~1_step~1'"
      ]
     },
     "execution_count": 3,
     "metadata": {},
     "output_type": "execute_result"
    }
   ],
   "execution_count": 3
  },
  {
   "cell_type": "markdown",
   "id": "5",
   "metadata": {},
   "source": [
    "### Noise-Directed Adaptive Remapping\n",
    "\n",
    "* We will now run NDAR (see Ref.~[1]) in a loop with the optimizer we used in the previous notebook.\n",
    "* We will use stronger readout noise model and fewer samples, because we simulate only 21-qubit system, so it's pretty easy to find ground state even from suboptimal points with noise.\n",
    "* We will use small number of function calls and samples for the same reason.\n",
    "* Again, this noise is not realistic, but it is sufficient to demonstrate the NDAR algorithm."
   ]
  },
  {
   "cell_type": "code",
   "id": "6",
   "metadata": {
    "ExecuteTime": {
     "end_time": "2025-09-05T02:14:35.268801Z",
     "start_time": "2025-09-05T02:14:33.821945Z"
    }
   },
   "source": [
    "from quapopt.optimization.QAOA.implementation.QAOARunnerSampler import QAOARunnerSampler\n",
    "from quapopt.circuits.noise.simulation.ClassicalMeasurementNoiseSampler import \\\n",
    "    ClassicalMeasurementNoiseSampler, MeasurementNoiseType\n",
    "from quapopt.optimization.parameter_setting import OptimizerType\n",
    "from quapopt.optimization.parameter_setting.variational.scipy_tools.ScipyOptimizerWrapped import ScipyOptimizerWrapped\n",
    "\n",
    "#Number of objective function calls\n",
    "number_of_function_calls = 30\n",
    "#Number of measurements to estimate the expectation values\n",
    "number_of_samples = 75\n",
    "\n",
    "#We can specify the QAOA depth here.\n",
    "qaoa_depth = 1\n",
    "\n",
    "#we can specify the details of classical optimizer here.\n",
    "classical_optimizer = ScipyOptimizerWrapped(parameters_bounds=[(-np.pi, np.pi)] * 2*int(qaoa_depth),\n",
    "                                            optimizer_name='COBYLA',\n",
    "                                            optimizer_kwargs=None,\n",
    "                                            basinhopping=True,\n",
    "                                            basinhopping_kwargs={'niter': 3},\n",
    "                                            starting_point=[0.05] * 2*int(qaoa_depth)\n",
    "                                            )\n",
    "\n",
    "# Fully asymmetric noise -- equivalent to amplitude damping at the end of the circuit\n",
    "p_01 = 1 - 1 / number_of_qubits\n",
    "p_10 = None"
   ],
   "outputs": [],
   "execution_count": 4
  },
  {
   "cell_type": "code",
   "id": "7",
   "metadata": {
    "ExecuteTime": {
     "end_time": "2025-09-05T02:14:53.290317Z",
     "start_time": "2025-09-05T02:14:53.259994Z"
    }
   },
   "source": [
    "from quapopt.meta_algorithms.NDAR.NDARRunnerQAOA import NDARRunnerQAOA\n",
    "from quapopt.meta_algorithms.NDAR import (ConvergenceCriterionNames,\n",
    "                                          ConvergenceCriterion)\n",
    "\n",
    "seed_main = 1\n",
    "\n",
    "#Specify the convergence criterion for NDAR\n",
    "#Here we use the maximum number of unsuccessful trials.\n",
    "#If after 5 iterations the NDAR does not find a better solution, it stops.\n",
    "max_iterations = 5\n",
    "ndar_convergence_criterion = ConvergenceCriterion(\n",
    "    convergence_criterion_name=ConvergenceCriterionNames.MaxUnsuccessfulTrials,\n",
    "    convergence_value=max_iterations)\n",
    "#Here we specify the sampler class and its arguments\n",
    "#It is abstract because we sometimes use it with different samplers (not QAOA)\n",
    "qaoa_sampler_class = QAOARunnerSampler\n",
    "\n",
    "#Heuristic parameter for potentially re-gauging towards energy-increasing states.\n",
    "#Value 0.0 means always gauge-transforming.\n",
    "temperature = 0.0\n",
    "\n",
    "experiment_set_id = f\"{anf.create_random_uuid()}\"\n",
    "\n",
    "print(\"Experiment set id:\", experiment_set_id)\n",
    "\n",
    "\n",
    "#Here we specify the logger arguments\n",
    "logger_kwargs_ndar = {'experiment_folders_hierarchy':\n",
    "                          ['SimulationResults',\n",
    "                           'TestingNDAR'],\n",
    "                      'experiment_set_id':experiment_set_id,\n",
    "                      }\n",
    "\n",
    "\n",
    "\n",
    "logging_level = LoggingLevel.DETAILED\n"
   ],
   "outputs": [
    {
     "name": "stdout",
     "output_type": "stream",
     "text": [
      "Experiment set id: be570d3e88aa4d54ae5cd5c677369f90\n"
     ]
    }
   ],
   "execution_count": 11
  },
  {
   "cell_type": "code",
   "id": "8",
   "metadata": {
    "ExecuteTime": {
     "end_time": "2025-09-05T02:14:57.553333Z",
     "start_time": "2025-09-05T02:14:54.708903Z"
    }
   },
   "source": [
    "numpy_rng_sampling = np.random.default_rng(seed=seed_main)\n",
    "numpy_rng_boltzmann = np.random.default_rng(seed=seed_main)\n",
    "numpy_rng_noise = np.random.default_rng(seed=seed_main)\n",
    "qaoa_sampler_kwargs = {'numpy_rng_sampling': numpy_rng_sampling}\n",
    "\n",
    "#Set up the classical measurement noise sampler\n",
    "CMNS = ClassicalMeasurementNoiseSampler(noise_type=MeasurementNoiseType.TP_1q_identical,\n",
    "                                        noise_description={'p_01': p_01,\n",
    "                                                           'p_10': p_10},\n",
    "                                        rng=numpy_rng_noise)\n",
    "\n",
    "\n",
    "\n",
    "input_hamiltonian_representations = [cost_hamiltonian.copy()]\n",
    "\n",
    "# Create the NDAR runner instance.\n",
    "ndar_runner = NDARRunnerQAOA(input_hamiltonian_representations=input_hamiltonian_representations,\n",
    "                             convergence_criterion=ndar_convergence_criterion,\n",
    "                             sampler_class=qaoa_sampler_class,\n",
    "                             attractor_model=None,\n",
    "                             logging_level=logging_level,\n",
    "                             logger_kwargs=logger_kwargs_ndar\n",
    "                             )\n",
    "print(\"GROUNDS STATE ENERGY:\", ground_state_energy)\n",
    "\n",
    "print(\"Experiment set id:\", experiment_set_id)\n",
    "\n",
    "#Note: For the sake of reducing simulation complexity when known solutions are known, the runner will actually break when reaching ground state.\n",
    "best_result_ndar, optimization_history_ndar = ndar_runner.run_NDAR(\n",
    "    #QAOA kwargs\n",
    "    qaoa_depth=qaoa_depth,\n",
    "    number_of_function_calls=number_of_function_calls,\n",
    "        classical_optimizer=classical_optimizer,\n",
    "\n",
    "    number_of_samples_per_function_call=number_of_samples,\n",
    "    measurement_noise=CMNS,\n",
    "    numpy_rng_sampling=numpy_rng_sampling,\n",
    "    ##### NDAR KWARGS\n",
    "    numpy_rng_boltzmann=numpy_rng_boltzmann,\n",
    "    #Generate optimizer seed for each optimization in a loop (argument is iteration index)\n",
    "    step_seed_generator=lambda x: x,\n",
    "    show_progress_bar_ndar=True,\n",
    "    temperature_NDAR=temperature\n",
    ")\n",
    "\n"
   ],
   "outputs": [
    {
     "name": "stdout",
     "output_type": "stream",
     "text": [
      "No existing metadata found for the specified experiment set. \n",
      "GROUNDS STATE ENERGY: -33.0\n",
      "Experiment set id: be570d3e88aa4d54ae5cd5c677369f90\n"
     ]
    },
    {
     "data": {
      "text/plain": [
       "  0%|          | 0/1000 [00:00<?, ?it/s]"
      ],
      "application/vnd.jupyter.widget-view+json": {
       "version_major": 2,
       "version_minor": 0,
       "model_id": "9ce2abb782af47e2bdb691792d9187b5"
      }
     },
     "metadata": {},
     "output_type": "display_data",
     "jetTransient": {
      "display_id": null
     }
    },
    {
     "name": "stdout",
     "output_type": "stream",
     "text": [
      "\u001B[34m\u001B[1mIteration:  \u001B[0m0\n",
      "\u001B[32m\u001B[1mBest energy so far:  \u001B[0m-21.0 (AR: 0.8421)\n",
      "\u001B[34m\u001B[1mIteration:  \u001B[0m1\n",
      "\u001B[32m\u001B[1mBest energy so far:  \u001B[0m-29.0 (AR: 0.9474)\n",
      "\u001B[34m\u001B[1mIteration:  \u001B[0m2\n",
      "\u001B[32m\u001B[1mBest energy so far:  \u001B[0m-33.0 (AR: 1.0)\n",
      "\u001B[36m\u001B[1mFOUND GROUND STATE! \u001B[0mbreaking\n",
      "\n",
      "\u001B[31m\u001B[1mFinished after  \u001B[0m3 iterations.\n",
      "\u001B[31m\u001B[1mFinal best energy: \u001B[0mnp.float64(-33.0)\n",
      "\u001B[31m\u001B[1mOptimization time: \u001B[0m2.3007410430036543\n"
     ]
    }
   ],
   "execution_count": 12
  },
  {
   "cell_type": "code",
   "id": "9",
   "metadata": {
    "ExecuteTime": {
     "end_time": "2025-09-05T02:15:00.349272Z",
     "start_time": "2025-09-05T02:14:59.453588Z"
    }
   },
   "source": [
    "\n",
    "from quapopt.optimization.parameter_setting.variational.QAOAOptimizationRunner import QAOAOptimizationRunner\n",
    "\n",
    "#Here we can check if noiseless QAOA with the same number of samples and function calls would find the ground state\n",
    "qaoa_runner_sampler = qaoa_sampler_class(hamiltonian_representations_cost=[cost_hamiltonian.copy()],\n",
    "                                         hamiltonian_representations_phase=None,\n",
    "                                         **qaoa_sampler_kwargs)\n",
    "if 'cuda' in AVAILABLE_SIMULATORS:\n",
    "    qaoa_runner_sampler.initialize_backend_qokit(qokit_backend='gpu')\n",
    "else:\n",
    "    qaoa_runner_sampler.initialize_backend_qiskit(qaoa_depth=qaoa_depth)\n",
    "\n",
    "qaoa_optimizer = QAOAOptimizationRunner(qaoa_runner=qaoa_runner_sampler)\n",
    "\n",
    "best_n_results_noiseless_qaoa, optimization_result_noiseless_qaoa = qaoa_optimizer.run_optimization(qaoa_depth=qaoa_depth,\n",
    "                                                                      number_of_function_calls=number_of_function_calls * len(\n",
    "                                                                          optimization_history_ndar),\n",
    "                                                                      classical_optimizer=classical_optimizer,\n",
    "                                                                      optimizer_seed=1,\n",
    "                                                                      number_of_samples=number_of_samples,\n",
    "                                                                      numpy_rng_sampling=numpy_rng_sampling,\n",
    "                                                                      show_progress_bar=True,\n",
    "                                                                      measurement_noise=None,\n",
    "                                                                      )\n",
    "anf.cool_print(\"BEST ENERGY OF NOISELESS QAOA:\", best_n_results_noiseless_qaoa[0][0],'blue')\n",
    "anf.cool_print(\"BEST ENERGY OF NDAR:\", best_result_ndar[0],'red')\n",
    "anf.cool_print(\"NDAR better than noiseless QAOA:\", bool(best_result_ndar[0] < best_n_results_noiseless_qaoa[0][0]),'green')\n"
   ],
   "outputs": [
    {
     "data": {
      "text/plain": [
       "COBYLA:   0%|          | 0/90 [00:00<?, ?it/s]"
      ],
      "application/vnd.jupyter.widget-view+json": {
       "version_major": 2,
       "version_minor": 0,
       "model_id": "21013a11493e4beca27c59035ef0e9b0"
      }
     },
     "metadata": {},
     "output_type": "display_data",
     "jetTransient": {
      "display_id": null
     }
    },
    {
     "name": "stdout",
     "output_type": "stream",
     "text": [
      "\u001B[34m\u001B[1mBEST ENERGY OF NOISELESS QAOA: \u001B[0mnp.float64(-33.0)\n",
      "\u001B[31m\u001B[1mBEST ENERGY OF NDAR: \u001B[0mnp.float64(-33.0)\n",
      "\u001B[32m\u001B[1mNDAR better than noiseless QAOA: \u001B[0mFalse\n"
     ]
    }
   ],
   "execution_count": 13
  },
  {
   "cell_type": "markdown",
   "id": "10",
   "metadata": {},
   "source": [
    "### Reading data\n",
    "\n",
    "* In a moment, we will want to visualize data.\n",
    "* We could take the data directly from the output of optimization, but here we will read it from database to test the logging:\n",
    "* To this aim, we use a helper function imported from NDAR submodule"
   ]
  },
  {
   "cell_type": "code",
   "id": "11",
   "metadata": {
    "ExecuteTime": {
     "end_time": "2025-09-05T02:15:01.662667Z",
     "start_time": "2025-09-05T02:15:01.615871Z"
    }
   },
   "source": [
    "from quapopt.data_analysis.data_handling import (STANDARD_NAMES_DATA_TYPES as SNDT,\n",
    "                                                 STANDARD_NAMES_VARIABLES as SNV, )\n",
    "from quapopt.data_analysis.data_handling import ResultsLogger\n",
    "\n",
    "results_logger = ResultsLogger(**logger_kwargs_ndar)\n",
    "ndar_data = results_logger.gather_results(data_type=SNDT.NDAROverview,)\n",
    "ndar_data"
   ],
   "outputs": [
    {
     "data": {
      "text/plain": [
       "   NDARIteration                                            Bitflip  \\\n",
       "0              0  (np.int64(0), np.int64(1), np.int64(0), np.int...   \n",
       "1              1  (np.int64(1), np.int64(0), np.int64(0), np.int...   \n",
       "2              2  (np.int64(0), np.int64(0), np.int64(0), np.int...   \n",
       "\n",
       "  AttractorModel                               ConvergenceCriterion  \\\n",
       "0          ATS=0  COC~ConvergenceCriterionNames.MaxUnsuccessfulT...   \n",
       "1          ATS=0  COC~ConvergenceCriterionNames.MaxUnsuccessfulT...   \n",
       "2          ATS=0  COC~ConvergenceCriterionNames.MaxUnsuccessfulT...   \n",
       "\n",
       "   TrialIndex  HamiltonianRepresentationIndex  Angles-0  Angles-1  EnergyMean  \\\n",
       "0           3                               0  0.214414 -0.026491    2.573333   \n",
       "1          24                               0  0.211248 -0.245837  -18.706667   \n",
       "2           9                               0  0.101147  0.172377  -25.160000   \n",
       "\n",
       "   EnergyBest                                      BitstringBest  \\\n",
       "0       -21.0  (np.int64(0), np.int64(1), np.int64(0), np.int...   \n",
       "1       -29.0  (np.int64(1), np.int64(0), np.int64(0), np.int...   \n",
       "2       -33.0  (np.int64(0), np.int64(0), np.int64(0), np.int...   \n",
       "\n",
       "               ExperimentInstanceID  \\\n",
       "0  dca3dbf5aadb41ca9508a606a064d7b2   \n",
       "1  1ef66bcc3cb04933a5697f7973bffd72   \n",
       "2  258e2a64a5df490caf821997de591bdd   \n",
       "\n",
       "                                     SourceFileName  \\\n",
       "0  ESI=be570d3e88aa4d54ae5cd5c677369f90,dat=ndo.csv   \n",
       "1  ESI=be570d3e88aa4d54ae5cd5c677369f90,dat=ndo.csv   \n",
       "2  ESI=be570d3e88aa4d54ae5cd5c677369f90,dat=ndo.csv   \n",
       "\n",
       "                                      SourceFilePath  \n",
       "0  /home/fipeczek/python_packages/global-data-sto...  \n",
       "1  /home/fipeczek/python_packages/global-data-sto...  \n",
       "2  /home/fipeczek/python_packages/global-data-sto...  "
      ],
      "text/html": [
       "<div>\n",
       "<style scoped>\n",
       "    .dataframe tbody tr th:only-of-type {\n",
       "        vertical-align: middle;\n",
       "    }\n",
       "\n",
       "    .dataframe tbody tr th {\n",
       "        vertical-align: top;\n",
       "    }\n",
       "\n",
       "    .dataframe thead th {\n",
       "        text-align: right;\n",
       "    }\n",
       "</style>\n",
       "<table border=\"1\" class=\"dataframe\">\n",
       "  <thead>\n",
       "    <tr style=\"text-align: right;\">\n",
       "      <th></th>\n",
       "      <th>NDARIteration</th>\n",
       "      <th>Bitflip</th>\n",
       "      <th>AttractorModel</th>\n",
       "      <th>ConvergenceCriterion</th>\n",
       "      <th>TrialIndex</th>\n",
       "      <th>HamiltonianRepresentationIndex</th>\n",
       "      <th>Angles-0</th>\n",
       "      <th>Angles-1</th>\n",
       "      <th>EnergyMean</th>\n",
       "      <th>EnergyBest</th>\n",
       "      <th>BitstringBest</th>\n",
       "      <th>ExperimentInstanceID</th>\n",
       "      <th>SourceFileName</th>\n",
       "      <th>SourceFilePath</th>\n",
       "    </tr>\n",
       "  </thead>\n",
       "  <tbody>\n",
       "    <tr>\n",
       "      <th>0</th>\n",
       "      <td>0</td>\n",
       "      <td>(np.int64(0), np.int64(1), np.int64(0), np.int...</td>\n",
       "      <td>ATS=0</td>\n",
       "      <td>COC~ConvergenceCriterionNames.MaxUnsuccessfulT...</td>\n",
       "      <td>3</td>\n",
       "      <td>0</td>\n",
       "      <td>0.214414</td>\n",
       "      <td>-0.026491</td>\n",
       "      <td>2.573333</td>\n",
       "      <td>-21.0</td>\n",
       "      <td>(np.int64(0), np.int64(1), np.int64(0), np.int...</td>\n",
       "      <td>dca3dbf5aadb41ca9508a606a064d7b2</td>\n",
       "      <td>ESI=be570d3e88aa4d54ae5cd5c677369f90,dat=ndo.csv</td>\n",
       "      <td>/home/fipeczek/python_packages/global-data-sto...</td>\n",
       "    </tr>\n",
       "    <tr>\n",
       "      <th>1</th>\n",
       "      <td>1</td>\n",
       "      <td>(np.int64(1), np.int64(0), np.int64(0), np.int...</td>\n",
       "      <td>ATS=0</td>\n",
       "      <td>COC~ConvergenceCriterionNames.MaxUnsuccessfulT...</td>\n",
       "      <td>24</td>\n",
       "      <td>0</td>\n",
       "      <td>0.211248</td>\n",
       "      <td>-0.245837</td>\n",
       "      <td>-18.706667</td>\n",
       "      <td>-29.0</td>\n",
       "      <td>(np.int64(1), np.int64(0), np.int64(0), np.int...</td>\n",
       "      <td>1ef66bcc3cb04933a5697f7973bffd72</td>\n",
       "      <td>ESI=be570d3e88aa4d54ae5cd5c677369f90,dat=ndo.csv</td>\n",
       "      <td>/home/fipeczek/python_packages/global-data-sto...</td>\n",
       "    </tr>\n",
       "    <tr>\n",
       "      <th>2</th>\n",
       "      <td>2</td>\n",
       "      <td>(np.int64(0), np.int64(0), np.int64(0), np.int...</td>\n",
       "      <td>ATS=0</td>\n",
       "      <td>COC~ConvergenceCriterionNames.MaxUnsuccessfulT...</td>\n",
       "      <td>9</td>\n",
       "      <td>0</td>\n",
       "      <td>0.101147</td>\n",
       "      <td>0.172377</td>\n",
       "      <td>-25.160000</td>\n",
       "      <td>-33.0</td>\n",
       "      <td>(np.int64(0), np.int64(0), np.int64(0), np.int...</td>\n",
       "      <td>258e2a64a5df490caf821997de591bdd</td>\n",
       "      <td>ESI=be570d3e88aa4d54ae5cd5c677369f90,dat=ndo.csv</td>\n",
       "      <td>/home/fipeczek/python_packages/global-data-sto...</td>\n",
       "    </tr>\n",
       "  </tbody>\n",
       "</table>\n",
       "</div>"
      ]
     },
     "execution_count": 14,
     "metadata": {},
     "output_type": "execute_result"
    }
   ],
   "execution_count": 14
  },
  {
   "cell_type": "markdown",
   "id": "12",
   "metadata": {},
   "source": [
    "### Visualization\n",
    "\n",
    "* Let's take a look at a simple visualization of the NDAR optimization."
   ]
  },
  {
   "cell_type": "code",
   "id": "13",
   "metadata": {
    "ExecuteTime": {
     "end_time": "2025-09-05T02:15:03.045310Z",
     "start_time": "2025-09-05T02:15:03.008693Z"
    }
   },
   "source": [
    "import plotly\n",
    "import plotly.graph_objects as go\n",
    "\n",
    "plotly.io.templates.default = \"plotly\"\n",
    "plotly.offline.init_notebook_mode(connected=True)"
   ],
   "outputs": [
    {
     "data": {
      "text/html": [
       "        <script type=\"text/javascript\">\n",
       "        window.PlotlyConfig = {MathJaxConfig: 'local'};\n",
       "        if (window.MathJax && window.MathJax.Hub && window.MathJax.Hub.Config) {window.MathJax.Hub.Config({SVG: {font: \"STIX-Web\"}});}\n",
       "        </script>\n",
       "        <script type=\"module\">import \"https://cdn.plot.ly/plotly-3.1.0.min\"</script>\n",
       "        "
      ]
     },
     "metadata": {},
     "output_type": "display_data",
     "jetTransient": {
      "display_id": null
     }
    }
   ],
   "execution_count": 15
  },
  {
   "cell_type": "code",
   "id": "14",
   "metadata": {
    "ExecuteTime": {
     "end_time": "2025-09-05T02:15:03.999035Z",
     "start_time": "2025-09-05T02:15:03.777882Z"
    }
   },
   "source": [
    "xs = ndar_data[SNV.NDARIteration.id_long].tolist()\n",
    "ys = ndar_data[SNV.EnergyBest.id_long].tolist()\n",
    "#convert to approximation ratios\n",
    "ys = [(highest_energy - Ei) / (highest_energy - ground_state_energy) for Ei in ys]\n",
    "\n",
    "ndar_figure = go.Figure()\n",
    "ndar_figure.add_trace(go.Scatter(x=xs, y=ys, mode='lines+markers', name=f'NDAR p(0|1) = {p_01}'))\n",
    "\n",
    "ndar_figure.update_layout(\n",
    "    title=f\"NDAR (T = {temperature}) Performance for {number_of_qubits} qubits on {cost_hamiltonian.hamiltonian_class_specifier.get_description_string()}\",\n",
    "    xaxis_title=\"NDAR Iteration\",\n",
    "    yaxis_title=\"Approximation Ratio\",\n",
    "    template=\"plotly\",\n",
    "    font=dict(size=14),\n",
    "    hovermode=\"x unified\"\n",
    ")\n",
    "ndar_figure.update_yaxes(range=[0.65, 1.03])\n",
    "#update xticks to only NDAR iterations:\n",
    "ndar_figure.update_xaxes(tickvals=xs)\n",
    "\n",
    "plotly.offline.plot(ndar_figure,\n",
    "                    filename=f'../temp/NDAR_performance.html')\n",
    "ndar_figure.show()"
   ],
   "outputs": [
    {
     "data": {
      "application/vnd.plotly.v1+json": {
       "data": [
        {
         "mode": "lines+markers",
         "name": "NDAR p(0|1) = 0.9333333333333333",
         "x": [
          0,
          1,
          2
         ],
         "y": [
          0.8421052694320679,
          0.9473684430122375,
          1.0
         ],
         "type": "scatter"
        }
       ],
       "layout": {
        "template": {
         "data": {
          "histogram2dcontour": [
           {
            "type": "histogram2dcontour",
            "colorbar": {
             "outlinewidth": 0,
             "ticks": ""
            },
            "colorscale": [
             [
              0.0,
              "#0d0887"
             ],
             [
              0.1111111111111111,
              "#46039f"
             ],
             [
              0.2222222222222222,
              "#7201a8"
             ],
             [
              0.3333333333333333,
              "#9c179e"
             ],
             [
              0.4444444444444444,
              "#bd3786"
             ],
             [
              0.5555555555555556,
              "#d8576b"
             ],
             [
              0.6666666666666666,
              "#ed7953"
             ],
             [
              0.7777777777777778,
              "#fb9f3a"
             ],
             [
              0.8888888888888888,
              "#fdca26"
             ],
             [
              1.0,
              "#f0f921"
             ]
            ]
           }
          ],
          "choropleth": [
           {
            "type": "choropleth",
            "colorbar": {
             "outlinewidth": 0,
             "ticks": ""
            }
           }
          ],
          "histogram2d": [
           {
            "type": "histogram2d",
            "colorbar": {
             "outlinewidth": 0,
             "ticks": ""
            },
            "colorscale": [
             [
              0.0,
              "#0d0887"
             ],
             [
              0.1111111111111111,
              "#46039f"
             ],
             [
              0.2222222222222222,
              "#7201a8"
             ],
             [
              0.3333333333333333,
              "#9c179e"
             ],
             [
              0.4444444444444444,
              "#bd3786"
             ],
             [
              0.5555555555555556,
              "#d8576b"
             ],
             [
              0.6666666666666666,
              "#ed7953"
             ],
             [
              0.7777777777777778,
              "#fb9f3a"
             ],
             [
              0.8888888888888888,
              "#fdca26"
             ],
             [
              1.0,
              "#f0f921"
             ]
            ]
           }
          ],
          "heatmap": [
           {
            "type": "heatmap",
            "colorbar": {
             "outlinewidth": 0,
             "ticks": ""
            },
            "colorscale": [
             [
              0.0,
              "#0d0887"
             ],
             [
              0.1111111111111111,
              "#46039f"
             ],
             [
              0.2222222222222222,
              "#7201a8"
             ],
             [
              0.3333333333333333,
              "#9c179e"
             ],
             [
              0.4444444444444444,
              "#bd3786"
             ],
             [
              0.5555555555555556,
              "#d8576b"
             ],
             [
              0.6666666666666666,
              "#ed7953"
             ],
             [
              0.7777777777777778,
              "#fb9f3a"
             ],
             [
              0.8888888888888888,
              "#fdca26"
             ],
             [
              1.0,
              "#f0f921"
             ]
            ]
           }
          ],
          "contourcarpet": [
           {
            "type": "contourcarpet",
            "colorbar": {
             "outlinewidth": 0,
             "ticks": ""
            }
           }
          ],
          "contour": [
           {
            "type": "contour",
            "colorbar": {
             "outlinewidth": 0,
             "ticks": ""
            },
            "colorscale": [
             [
              0.0,
              "#0d0887"
             ],
             [
              0.1111111111111111,
              "#46039f"
             ],
             [
              0.2222222222222222,
              "#7201a8"
             ],
             [
              0.3333333333333333,
              "#9c179e"
             ],
             [
              0.4444444444444444,
              "#bd3786"
             ],
             [
              0.5555555555555556,
              "#d8576b"
             ],
             [
              0.6666666666666666,
              "#ed7953"
             ],
             [
              0.7777777777777778,
              "#fb9f3a"
             ],
             [
              0.8888888888888888,
              "#fdca26"
             ],
             [
              1.0,
              "#f0f921"
             ]
            ]
           }
          ],
          "surface": [
           {
            "type": "surface",
            "colorbar": {
             "outlinewidth": 0,
             "ticks": ""
            },
            "colorscale": [
             [
              0.0,
              "#0d0887"
             ],
             [
              0.1111111111111111,
              "#46039f"
             ],
             [
              0.2222222222222222,
              "#7201a8"
             ],
             [
              0.3333333333333333,
              "#9c179e"
             ],
             [
              0.4444444444444444,
              "#bd3786"
             ],
             [
              0.5555555555555556,
              "#d8576b"
             ],
             [
              0.6666666666666666,
              "#ed7953"
             ],
             [
              0.7777777777777778,
              "#fb9f3a"
             ],
             [
              0.8888888888888888,
              "#fdca26"
             ],
             [
              1.0,
              "#f0f921"
             ]
            ]
           }
          ],
          "mesh3d": [
           {
            "type": "mesh3d",
            "colorbar": {
             "outlinewidth": 0,
             "ticks": ""
            }
           }
          ],
          "scatter": [
           {
            "fillpattern": {
             "fillmode": "overlay",
             "size": 10,
             "solidity": 0.2
            },
            "type": "scatter"
           }
          ],
          "parcoords": [
           {
            "type": "parcoords",
            "line": {
             "colorbar": {
              "outlinewidth": 0,
              "ticks": ""
             }
            }
           }
          ],
          "scatterpolargl": [
           {
            "type": "scatterpolargl",
            "marker": {
             "colorbar": {
              "outlinewidth": 0,
              "ticks": ""
             }
            }
           }
          ],
          "bar": [
           {
            "error_x": {
             "color": "#2a3f5f"
            },
            "error_y": {
             "color": "#2a3f5f"
            },
            "marker": {
             "line": {
              "color": "#E5ECF6",
              "width": 0.5
             },
             "pattern": {
              "fillmode": "overlay",
              "size": 10,
              "solidity": 0.2
             }
            },
            "type": "bar"
           }
          ],
          "scattergeo": [
           {
            "type": "scattergeo",
            "marker": {
             "colorbar": {
              "outlinewidth": 0,
              "ticks": ""
             }
            }
           }
          ],
          "scatterpolar": [
           {
            "type": "scatterpolar",
            "marker": {
             "colorbar": {
              "outlinewidth": 0,
              "ticks": ""
             }
            }
           }
          ],
          "histogram": [
           {
            "marker": {
             "pattern": {
              "fillmode": "overlay",
              "size": 10,
              "solidity": 0.2
             }
            },
            "type": "histogram"
           }
          ],
          "scattergl": [
           {
            "type": "scattergl",
            "marker": {
             "colorbar": {
              "outlinewidth": 0,
              "ticks": ""
             }
            }
           }
          ],
          "scatter3d": [
           {
            "type": "scatter3d",
            "line": {
             "colorbar": {
              "outlinewidth": 0,
              "ticks": ""
             }
            },
            "marker": {
             "colorbar": {
              "outlinewidth": 0,
              "ticks": ""
             }
            }
           }
          ],
          "scattermap": [
           {
            "type": "scattermap",
            "marker": {
             "colorbar": {
              "outlinewidth": 0,
              "ticks": ""
             }
            }
           }
          ],
          "scattermapbox": [
           {
            "type": "scattermapbox",
            "marker": {
             "colorbar": {
              "outlinewidth": 0,
              "ticks": ""
             }
            }
           }
          ],
          "scatterternary": [
           {
            "type": "scatterternary",
            "marker": {
             "colorbar": {
              "outlinewidth": 0,
              "ticks": ""
             }
            }
           }
          ],
          "scattercarpet": [
           {
            "type": "scattercarpet",
            "marker": {
             "colorbar": {
              "outlinewidth": 0,
              "ticks": ""
             }
            }
           }
          ],
          "carpet": [
           {
            "aaxis": {
             "endlinecolor": "#2a3f5f",
             "gridcolor": "white",
             "linecolor": "white",
             "minorgridcolor": "white",
             "startlinecolor": "#2a3f5f"
            },
            "baxis": {
             "endlinecolor": "#2a3f5f",
             "gridcolor": "white",
             "linecolor": "white",
             "minorgridcolor": "white",
             "startlinecolor": "#2a3f5f"
            },
            "type": "carpet"
           }
          ],
          "table": [
           {
            "cells": {
             "fill": {
              "color": "#EBF0F8"
             },
             "line": {
              "color": "white"
             }
            },
            "header": {
             "fill": {
              "color": "#C8D4E3"
             },
             "line": {
              "color": "white"
             }
            },
            "type": "table"
           }
          ],
          "barpolar": [
           {
            "marker": {
             "line": {
              "color": "#E5ECF6",
              "width": 0.5
             },
             "pattern": {
              "fillmode": "overlay",
              "size": 10,
              "solidity": 0.2
             }
            },
            "type": "barpolar"
           }
          ],
          "pie": [
           {
            "automargin": true,
            "type": "pie"
           }
          ]
         },
         "layout": {
          "autotypenumbers": "strict",
          "colorway": [
           "#636efa",
           "#EF553B",
           "#00cc96",
           "#ab63fa",
           "#FFA15A",
           "#19d3f3",
           "#FF6692",
           "#B6E880",
           "#FF97FF",
           "#FECB52"
          ],
          "font": {
           "color": "#2a3f5f"
          },
          "hovermode": "closest",
          "hoverlabel": {
           "align": "left"
          },
          "paper_bgcolor": "white",
          "plot_bgcolor": "#E5ECF6",
          "polar": {
           "bgcolor": "#E5ECF6",
           "angularaxis": {
            "gridcolor": "white",
            "linecolor": "white",
            "ticks": ""
           },
           "radialaxis": {
            "gridcolor": "white",
            "linecolor": "white",
            "ticks": ""
           }
          },
          "ternary": {
           "bgcolor": "#E5ECF6",
           "aaxis": {
            "gridcolor": "white",
            "linecolor": "white",
            "ticks": ""
           },
           "baxis": {
            "gridcolor": "white",
            "linecolor": "white",
            "ticks": ""
           },
           "caxis": {
            "gridcolor": "white",
            "linecolor": "white",
            "ticks": ""
           }
          },
          "coloraxis": {
           "colorbar": {
            "outlinewidth": 0,
            "ticks": ""
           }
          },
          "colorscale": {
           "sequential": [
            [
             0.0,
             "#0d0887"
            ],
            [
             0.1111111111111111,
             "#46039f"
            ],
            [
             0.2222222222222222,
             "#7201a8"
            ],
            [
             0.3333333333333333,
             "#9c179e"
            ],
            [
             0.4444444444444444,
             "#bd3786"
            ],
            [
             0.5555555555555556,
             "#d8576b"
            ],
            [
             0.6666666666666666,
             "#ed7953"
            ],
            [
             0.7777777777777778,
             "#fb9f3a"
            ],
            [
             0.8888888888888888,
             "#fdca26"
            ],
            [
             1.0,
             "#f0f921"
            ]
           ],
           "sequentialminus": [
            [
             0.0,
             "#0d0887"
            ],
            [
             0.1111111111111111,
             "#46039f"
            ],
            [
             0.2222222222222222,
             "#7201a8"
            ],
            [
             0.3333333333333333,
             "#9c179e"
            ],
            [
             0.4444444444444444,
             "#bd3786"
            ],
            [
             0.5555555555555556,
             "#d8576b"
            ],
            [
             0.6666666666666666,
             "#ed7953"
            ],
            [
             0.7777777777777778,
             "#fb9f3a"
            ],
            [
             0.8888888888888888,
             "#fdca26"
            ],
            [
             1.0,
             "#f0f921"
            ]
           ],
           "diverging": [
            [
             0,
             "#8e0152"
            ],
            [
             0.1,
             "#c51b7d"
            ],
            [
             0.2,
             "#de77ae"
            ],
            [
             0.3,
             "#f1b6da"
            ],
            [
             0.4,
             "#fde0ef"
            ],
            [
             0.5,
             "#f7f7f7"
            ],
            [
             0.6,
             "#e6f5d0"
            ],
            [
             0.7,
             "#b8e186"
            ],
            [
             0.8,
             "#7fbc41"
            ],
            [
             0.9,
             "#4d9221"
            ],
            [
             1,
             "#276419"
            ]
           ]
          },
          "xaxis": {
           "gridcolor": "white",
           "linecolor": "white",
           "ticks": "",
           "title": {
            "standoff": 15
           },
           "zerolinecolor": "white",
           "automargin": true,
           "zerolinewidth": 2
          },
          "yaxis": {
           "gridcolor": "white",
           "linecolor": "white",
           "ticks": "",
           "title": {
            "standoff": 15
           },
           "zerolinecolor": "white",
           "automargin": true,
           "zerolinewidth": 2
          },
          "scene": {
           "xaxis": {
            "backgroundcolor": "#E5ECF6",
            "gridcolor": "white",
            "linecolor": "white",
            "showbackground": true,
            "ticks": "",
            "zerolinecolor": "white",
            "gridwidth": 2
           },
           "yaxis": {
            "backgroundcolor": "#E5ECF6",
            "gridcolor": "white",
            "linecolor": "white",
            "showbackground": true,
            "ticks": "",
            "zerolinecolor": "white",
            "gridwidth": 2
           },
           "zaxis": {
            "backgroundcolor": "#E5ECF6",
            "gridcolor": "white",
            "linecolor": "white",
            "showbackground": true,
            "ticks": "",
            "zerolinecolor": "white",
            "gridwidth": 2
           }
          },
          "shapedefaults": {
           "line": {
            "color": "#2a3f5f"
           }
          },
          "annotationdefaults": {
           "arrowcolor": "#2a3f5f",
           "arrowhead": 0,
           "arrowwidth": 1
          },
          "geo": {
           "bgcolor": "white",
           "landcolor": "#E5ECF6",
           "subunitcolor": "white",
           "showland": true,
           "showlakes": true,
           "lakecolor": "white"
          },
          "title": {
           "x": 0.05
          },
          "mapbox": {
           "style": "light"
          }
         }
        },
        "font": {
         "size": 14
        },
        "title": {
         "text": "NDAR (T = 0.0) Performance for 15 qubits on HMN=SK;LOC=(2,);CFD=CT~DIS_CDN~UNI_CDP~low~-1_high~1_step~1"
        },
        "xaxis": {
         "title": {
          "text": "NDAR Iteration"
         },
         "tickvals": [
          0,
          1,
          2
         ]
        },
        "yaxis": {
         "title": {
          "text": "Approximation Ratio"
         },
         "range": [
          0.65,
          1.03
         ]
        },
        "hovermode": "x unified"
       },
       "config": {
        "plotlyServerURL": "https://plot.ly"
       }
      },
      "text/html": [
       "<div>            <script src=\"https://cdnjs.cloudflare.com/ajax/libs/mathjax/2.7.5/MathJax.js?config=TeX-AMS-MML_SVG\"></script><script type=\"text/javascript\">if (window.MathJax && window.MathJax.Hub && window.MathJax.Hub.Config) {window.MathJax.Hub.Config({SVG: {font: \"STIX-Web\"}});}</script>                <script type=\"text/javascript\">window.PlotlyConfig = {MathJaxConfig: 'local'};</script>\n",
       "        <script charset=\"utf-8\" src=\"https://cdn.plot.ly/plotly-3.1.0.min.js\" integrity=\"sha256-Ei4740bWZhaUTQuD6q9yQlgVCMPBz6CZWhevDYPv93A=\" crossorigin=\"anonymous\"></script>                <div id=\"fb853e1d-8baf-4357-951f-4318d9883e4e\" class=\"plotly-graph-div\" style=\"height:525px; width:100%;\"></div>            <script type=\"text/javascript\">                window.PLOTLYENV=window.PLOTLYENV || {};                                if (document.getElementById(\"fb853e1d-8baf-4357-951f-4318d9883e4e\")) {                    Plotly.newPlot(                        \"fb853e1d-8baf-4357-951f-4318d9883e4e\",                        [{\"mode\":\"lines+markers\",\"name\":\"NDAR p(0|1) = 0.9333333333333333\",\"x\":[0,1,2],\"y\":[0.8421052694320679,0.9473684430122375,1.0],\"type\":\"scatter\"}],                        {\"template\":{\"data\":{\"histogram2dcontour\":[{\"type\":\"histogram2dcontour\",\"colorbar\":{\"outlinewidth\":0,\"ticks\":\"\"},\"colorscale\":[[0.0,\"#0d0887\"],[0.1111111111111111,\"#46039f\"],[0.2222222222222222,\"#7201a8\"],[0.3333333333333333,\"#9c179e\"],[0.4444444444444444,\"#bd3786\"],[0.5555555555555556,\"#d8576b\"],[0.6666666666666666,\"#ed7953\"],[0.7777777777777778,\"#fb9f3a\"],[0.8888888888888888,\"#fdca26\"],[1.0,\"#f0f921\"]]}],\"choropleth\":[{\"type\":\"choropleth\",\"colorbar\":{\"outlinewidth\":0,\"ticks\":\"\"}}],\"histogram2d\":[{\"type\":\"histogram2d\",\"colorbar\":{\"outlinewidth\":0,\"ticks\":\"\"},\"colorscale\":[[0.0,\"#0d0887\"],[0.1111111111111111,\"#46039f\"],[0.2222222222222222,\"#7201a8\"],[0.3333333333333333,\"#9c179e\"],[0.4444444444444444,\"#bd3786\"],[0.5555555555555556,\"#d8576b\"],[0.6666666666666666,\"#ed7953\"],[0.7777777777777778,\"#fb9f3a\"],[0.8888888888888888,\"#fdca26\"],[1.0,\"#f0f921\"]]}],\"heatmap\":[{\"type\":\"heatmap\",\"colorbar\":{\"outlinewidth\":0,\"ticks\":\"\"},\"colorscale\":[[0.0,\"#0d0887\"],[0.1111111111111111,\"#46039f\"],[0.2222222222222222,\"#7201a8\"],[0.3333333333333333,\"#9c179e\"],[0.4444444444444444,\"#bd3786\"],[0.5555555555555556,\"#d8576b\"],[0.6666666666666666,\"#ed7953\"],[0.7777777777777778,\"#fb9f3a\"],[0.8888888888888888,\"#fdca26\"],[1.0,\"#f0f921\"]]}],\"contourcarpet\":[{\"type\":\"contourcarpet\",\"colorbar\":{\"outlinewidth\":0,\"ticks\":\"\"}}],\"contour\":[{\"type\":\"contour\",\"colorbar\":{\"outlinewidth\":0,\"ticks\":\"\"},\"colorscale\":[[0.0,\"#0d0887\"],[0.1111111111111111,\"#46039f\"],[0.2222222222222222,\"#7201a8\"],[0.3333333333333333,\"#9c179e\"],[0.4444444444444444,\"#bd3786\"],[0.5555555555555556,\"#d8576b\"],[0.6666666666666666,\"#ed7953\"],[0.7777777777777778,\"#fb9f3a\"],[0.8888888888888888,\"#fdca26\"],[1.0,\"#f0f921\"]]}],\"surface\":[{\"type\":\"surface\",\"colorbar\":{\"outlinewidth\":0,\"ticks\":\"\"},\"colorscale\":[[0.0,\"#0d0887\"],[0.1111111111111111,\"#46039f\"],[0.2222222222222222,\"#7201a8\"],[0.3333333333333333,\"#9c179e\"],[0.4444444444444444,\"#bd3786\"],[0.5555555555555556,\"#d8576b\"],[0.6666666666666666,\"#ed7953\"],[0.7777777777777778,\"#fb9f3a\"],[0.8888888888888888,\"#fdca26\"],[1.0,\"#f0f921\"]]}],\"mesh3d\":[{\"type\":\"mesh3d\",\"colorbar\":{\"outlinewidth\":0,\"ticks\":\"\"}}],\"scatter\":[{\"fillpattern\":{\"fillmode\":\"overlay\",\"size\":10,\"solidity\":0.2},\"type\":\"scatter\"}],\"parcoords\":[{\"type\":\"parcoords\",\"line\":{\"colorbar\":{\"outlinewidth\":0,\"ticks\":\"\"}}}],\"scatterpolargl\":[{\"type\":\"scatterpolargl\",\"marker\":{\"colorbar\":{\"outlinewidth\":0,\"ticks\":\"\"}}}],\"bar\":[{\"error_x\":{\"color\":\"#2a3f5f\"},\"error_y\":{\"color\":\"#2a3f5f\"},\"marker\":{\"line\":{\"color\":\"#E5ECF6\",\"width\":0.5},\"pattern\":{\"fillmode\":\"overlay\",\"size\":10,\"solidity\":0.2}},\"type\":\"bar\"}],\"scattergeo\":[{\"type\":\"scattergeo\",\"marker\":{\"colorbar\":{\"outlinewidth\":0,\"ticks\":\"\"}}}],\"scatterpolar\":[{\"type\":\"scatterpolar\",\"marker\":{\"colorbar\":{\"outlinewidth\":0,\"ticks\":\"\"}}}],\"histogram\":[{\"marker\":{\"pattern\":{\"fillmode\":\"overlay\",\"size\":10,\"solidity\":0.2}},\"type\":\"histogram\"}],\"scattergl\":[{\"type\":\"scattergl\",\"marker\":{\"colorbar\":{\"outlinewidth\":0,\"ticks\":\"\"}}}],\"scatter3d\":[{\"type\":\"scatter3d\",\"line\":{\"colorbar\":{\"outlinewidth\":0,\"ticks\":\"\"}},\"marker\":{\"colorbar\":{\"outlinewidth\":0,\"ticks\":\"\"}}}],\"scattermap\":[{\"type\":\"scattermap\",\"marker\":{\"colorbar\":{\"outlinewidth\":0,\"ticks\":\"\"}}}],\"scattermapbox\":[{\"type\":\"scattermapbox\",\"marker\":{\"colorbar\":{\"outlinewidth\":0,\"ticks\":\"\"}}}],\"scatterternary\":[{\"type\":\"scatterternary\",\"marker\":{\"colorbar\":{\"outlinewidth\":0,\"ticks\":\"\"}}}],\"scattercarpet\":[{\"type\":\"scattercarpet\",\"marker\":{\"colorbar\":{\"outlinewidth\":0,\"ticks\":\"\"}}}],\"carpet\":[{\"aaxis\":{\"endlinecolor\":\"#2a3f5f\",\"gridcolor\":\"white\",\"linecolor\":\"white\",\"minorgridcolor\":\"white\",\"startlinecolor\":\"#2a3f5f\"},\"baxis\":{\"endlinecolor\":\"#2a3f5f\",\"gridcolor\":\"white\",\"linecolor\":\"white\",\"minorgridcolor\":\"white\",\"startlinecolor\":\"#2a3f5f\"},\"type\":\"carpet\"}],\"table\":[{\"cells\":{\"fill\":{\"color\":\"#EBF0F8\"},\"line\":{\"color\":\"white\"}},\"header\":{\"fill\":{\"color\":\"#C8D4E3\"},\"line\":{\"color\":\"white\"}},\"type\":\"table\"}],\"barpolar\":[{\"marker\":{\"line\":{\"color\":\"#E5ECF6\",\"width\":0.5},\"pattern\":{\"fillmode\":\"overlay\",\"size\":10,\"solidity\":0.2}},\"type\":\"barpolar\"}],\"pie\":[{\"automargin\":true,\"type\":\"pie\"}]},\"layout\":{\"autotypenumbers\":\"strict\",\"colorway\":[\"#636efa\",\"#EF553B\",\"#00cc96\",\"#ab63fa\",\"#FFA15A\",\"#19d3f3\",\"#FF6692\",\"#B6E880\",\"#FF97FF\",\"#FECB52\"],\"font\":{\"color\":\"#2a3f5f\"},\"hovermode\":\"closest\",\"hoverlabel\":{\"align\":\"left\"},\"paper_bgcolor\":\"white\",\"plot_bgcolor\":\"#E5ECF6\",\"polar\":{\"bgcolor\":\"#E5ECF6\",\"angularaxis\":{\"gridcolor\":\"white\",\"linecolor\":\"white\",\"ticks\":\"\"},\"radialaxis\":{\"gridcolor\":\"white\",\"linecolor\":\"white\",\"ticks\":\"\"}},\"ternary\":{\"bgcolor\":\"#E5ECF6\",\"aaxis\":{\"gridcolor\":\"white\",\"linecolor\":\"white\",\"ticks\":\"\"},\"baxis\":{\"gridcolor\":\"white\",\"linecolor\":\"white\",\"ticks\":\"\"},\"caxis\":{\"gridcolor\":\"white\",\"linecolor\":\"white\",\"ticks\":\"\"}},\"coloraxis\":{\"colorbar\":{\"outlinewidth\":0,\"ticks\":\"\"}},\"colorscale\":{\"sequential\":[[0.0,\"#0d0887\"],[0.1111111111111111,\"#46039f\"],[0.2222222222222222,\"#7201a8\"],[0.3333333333333333,\"#9c179e\"],[0.4444444444444444,\"#bd3786\"],[0.5555555555555556,\"#d8576b\"],[0.6666666666666666,\"#ed7953\"],[0.7777777777777778,\"#fb9f3a\"],[0.8888888888888888,\"#fdca26\"],[1.0,\"#f0f921\"]],\"sequentialminus\":[[0.0,\"#0d0887\"],[0.1111111111111111,\"#46039f\"],[0.2222222222222222,\"#7201a8\"],[0.3333333333333333,\"#9c179e\"],[0.4444444444444444,\"#bd3786\"],[0.5555555555555556,\"#d8576b\"],[0.6666666666666666,\"#ed7953\"],[0.7777777777777778,\"#fb9f3a\"],[0.8888888888888888,\"#fdca26\"],[1.0,\"#f0f921\"]],\"diverging\":[[0,\"#8e0152\"],[0.1,\"#c51b7d\"],[0.2,\"#de77ae\"],[0.3,\"#f1b6da\"],[0.4,\"#fde0ef\"],[0.5,\"#f7f7f7\"],[0.6,\"#e6f5d0\"],[0.7,\"#b8e186\"],[0.8,\"#7fbc41\"],[0.9,\"#4d9221\"],[1,\"#276419\"]]},\"xaxis\":{\"gridcolor\":\"white\",\"linecolor\":\"white\",\"ticks\":\"\",\"title\":{\"standoff\":15},\"zerolinecolor\":\"white\",\"automargin\":true,\"zerolinewidth\":2},\"yaxis\":{\"gridcolor\":\"white\",\"linecolor\":\"white\",\"ticks\":\"\",\"title\":{\"standoff\":15},\"zerolinecolor\":\"white\",\"automargin\":true,\"zerolinewidth\":2},\"scene\":{\"xaxis\":{\"backgroundcolor\":\"#E5ECF6\",\"gridcolor\":\"white\",\"linecolor\":\"white\",\"showbackground\":true,\"ticks\":\"\",\"zerolinecolor\":\"white\",\"gridwidth\":2},\"yaxis\":{\"backgroundcolor\":\"#E5ECF6\",\"gridcolor\":\"white\",\"linecolor\":\"white\",\"showbackground\":true,\"ticks\":\"\",\"zerolinecolor\":\"white\",\"gridwidth\":2},\"zaxis\":{\"backgroundcolor\":\"#E5ECF6\",\"gridcolor\":\"white\",\"linecolor\":\"white\",\"showbackground\":true,\"ticks\":\"\",\"zerolinecolor\":\"white\",\"gridwidth\":2}},\"shapedefaults\":{\"line\":{\"color\":\"#2a3f5f\"}},\"annotationdefaults\":{\"arrowcolor\":\"#2a3f5f\",\"arrowhead\":0,\"arrowwidth\":1},\"geo\":{\"bgcolor\":\"white\",\"landcolor\":\"#E5ECF6\",\"subunitcolor\":\"white\",\"showland\":true,\"showlakes\":true,\"lakecolor\":\"white\"},\"title\":{\"x\":0.05},\"mapbox\":{\"style\":\"light\"}}},\"font\":{\"size\":14},\"title\":{\"text\":\"NDAR (T = 0.0) Performance for 15 qubits on HMN=SK;LOC=(2,);CFD=CT~DIS_CDN~UNI_CDP~low~-1_high~1_step~1\"},\"xaxis\":{\"title\":{\"text\":\"NDAR Iteration\"},\"tickvals\":[0,1,2]},\"yaxis\":{\"title\":{\"text\":\"Approximation Ratio\"},\"range\":[0.65,1.03]},\"hovermode\":\"x unified\"},                        {\"responsive\": true}                    ).then(function(){\n",
       "                            \n",
       "var gd = document.getElementById('fb853e1d-8baf-4357-951f-4318d9883e4e');\n",
       "var x = new MutationObserver(function (mutations, observer) {{\n",
       "        var display = window.getComputedStyle(gd).display;\n",
       "        if (!display || display === 'none') {{\n",
       "            console.log([gd, 'removed!']);\n",
       "            Plotly.purge(gd);\n",
       "            observer.disconnect();\n",
       "        }}\n",
       "}});\n",
       "\n",
       "// Listen for the removal of the full notebook cells\n",
       "var notebookContainer = gd.closest('#notebook-container');\n",
       "if (notebookContainer) {{\n",
       "    x.observe(notebookContainer, {childList: true});\n",
       "}}\n",
       "\n",
       "// Listen for the clearing of the current output cell\n",
       "var outputEl = gd.closest('.output');\n",
       "if (outputEl) {{\n",
       "    x.observe(outputEl, {childList: true});\n",
       "}}\n",
       "\n",
       "                        })                };            </script>        </div>"
      ]
     },
     "metadata": {},
     "output_type": "display_data",
     "jetTransient": {
      "display_id": null
     }
    }
   ],
   "execution_count": 16
  },
  {
   "cell_type": "code",
   "id": "15",
   "metadata": {
    "ExecuteTime": {
     "end_time": "2025-09-05T02:14:43.608775Z",
     "start_time": "2025-09-05T02:14:43.604978Z"
    }
   },
   "source": [],
   "outputs": [],
   "execution_count": null
  }
 ],
 "metadata": {
  "kernelspec": {
   "display_name": "Python 3",
   "language": "python",
   "name": "python3"
  },
  "language_info": {
   "codemirror_mode": {
    "name": "ipython",
    "version": 2
   },
   "file_extension": ".py",
   "mimetype": "text/x-python",
   "name": "python",
   "nbconvert_exporter": "python",
   "pygments_lexer": "ipython2",
   "version": "2.7.6"
  }
 },
 "nbformat": 4,
 "nbformat_minor": 5
}
