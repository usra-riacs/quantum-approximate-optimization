{
 "cells": [
  {
   "cell_type": "code",
   "id": "0",
   "metadata": {
    "ExecuteTime": {
     "end_time": "2025-09-05T02:08:47.503228Z",
     "start_time": "2025-09-05T02:08:47.479392Z"
    }
   },
   "source": [
    "%load_ext autoreload\n",
    "%autoreload 2"
   ],
   "outputs": [],
   "execution_count": 1
  },
  {
   "cell_type": "code",
   "id": "1",
   "metadata": {
    "ExecuteTime": {
     "end_time": "2025-09-05T02:08:51.117219Z",
     "start_time": "2025-09-05T02:08:47.508829Z"
    }
   },
   "source": [
    "import numpy as np\n",
    "from quapopt.data_analysis.data_handling import (CoefficientsType,\n",
    "                                                 CoefficientsDistribution,\n",
    "                                                 CoefficientsDistributionSpecifier,\n",
    "                                                 HamiltonianModels)\n",
    "from quapopt.hamiltonians.generators import build_hamiltonian_generator\n",
    "from quapopt.optimization.QAOA.simulation.QAOARunnerExpValues import QAOARunnerExpValues\n",
    "from quapopt.optimization.parameter_setting import (OptimizerType)\n",
    "from quapopt.optimization.parameter_setting.variational.QAOAOptimizationRunner import QAOAOptimizationRunner\n",
    "from quapopt.optimization.parameter_setting.variational.scipy_tools.ScipyOptimizerWrapped import ScipyOptimizerWrapped\n",
    "from quapopt.optimization.parameter_setting.non_adaptive_optimization.SimpleGridOptimizer import SimpleGridOptimizer\n",
    "from quapopt.optimization.parameter_setting import (ParametersBoundType as PBT)"
   ],
   "outputs": [
    {
     "data": {
      "text/html": [
       "\n",
       "\t\t\t<script type=\"text/javascript\">\n",
       "\t\t\t<!--\n",
       "\t\t\t\t\n",
       "\t\t\t{\n",
       "\t\t\t\tvar element = document.getElementById('NetworKit_script');\n",
       "\t\t\t\tif (element) {\n",
       "\t\t\t\t\telement.parentNode.removeChild(element);\n",
       "\t\t\t\t}\n",
       "\t\t\t\telement = document.createElement('script');\n",
       "\t\t\t\telement.type = 'text/javascript';\n",
       "\t\t\t\telement.innerHTML = 'function NetworKit_pageEmbed(id) { var i, j; var elements; elements = document.getElementById(id).getElementsByClassName(\"Plot\"); for (i=0; i<elements.length; i++) { elements[i].id = id + \"_Plot_\" + i; var data = elements[i].getAttribute(\"data-image\").split(\"|\"); elements[i].removeAttribute(\"data-image\"); var content = \"<div class=\\\\\"Image\\\\\" id=\\\\\"\" + elements[i].id + \"_Image\\\\\" />\"; elements[i].innerHTML = content; elements[i].setAttribute(\"data-image-index\", 0); elements[i].setAttribute(\"data-image-length\", data.length); for (j=0; j<data.length; j++) { elements[i].setAttribute(\"data-image-\" + j, data[j]); } NetworKit_plotUpdate(elements[i]); elements[i].onclick = function (e) { NetworKit_overlayShow((e.target) ? e.target : e.srcElement); } } elements = document.getElementById(id).getElementsByClassName(\"HeatCell\"); for (i=0; i<elements.length; i++) { var data = parseFloat(elements[i].getAttribute(\"data-heat\")); var color = \"#00FF00\"; if (data <= 1 && data > 0) { color = \"hsla(0, 100%, 75%, \" + (data) + \")\"; } else if (data <= 0 && data >= -1) { color = \"hsla(240, 100%, 75%, \" + (-data) + \")\"; } elements[i].style.backgroundColor = color; } elements = document.getElementById(id).getElementsByClassName(\"Details\"); for (i=0; i<elements.length; i++) { elements[i].setAttribute(\"data-title\", \"-\"); NetworKit_toggleDetails(elements[i]); elements[i].onclick = function (e) { NetworKit_toggleDetails((e.target) ? e.target : e.srcElement); } } elements = document.getElementById(id).getElementsByClassName(\"MathValue\"); for (i=elements.length-1; i>=0; i--) { value = elements[i].innerHTML.trim(); if (value === \"nan\") { elements[i].parentNode.innerHTML = \"\" } } elements = document.getElementById(id).getElementsByClassName(\"SubCategory\"); for (i=elements.length-1; i>=0; i--) { value = elements[i].innerHTML.trim(); if (value === \"\") { elements[i].parentNode.removeChild(elements[i]) } } elements = document.getElementById(id).getElementsByClassName(\"Category\"); for (i=elements.length-1; i>=0; i--) { value = elements[i].innerHTML.trim(); if (value === \"\") { elements[i].parentNode.removeChild(elements[i]) } } var isFirefox = false; try { isFirefox = typeof InstallTrigger !== \"undefined\"; } catch (e) {} if (!isFirefox) { alert(\"Currently the function\\'s output is only fully supported by Firefox.\"); } } function NetworKit_plotUpdate(source) { var index = source.getAttribute(\"data-image-index\"); var data = source.getAttribute(\"data-image-\" + index); var image = document.getElementById(source.id + \"_Image\"); image.style.backgroundImage = \"url(\" + data + \")\"; } function NetworKit_showElement(id, show) { var element = document.getElementById(id); element.style.display = (show) ? \"block\" : \"none\"; } function NetworKit_overlayShow(source) { NetworKit_overlayUpdate(source); NetworKit_showElement(\"NetworKit_Overlay\", true); } function NetworKit_overlayUpdate(source) { document.getElementById(\"NetworKit_Overlay_Title\").innerHTML = source.title; var index = source.getAttribute(\"data-image-index\"); var data = source.getAttribute(\"data-image-\" + index); var image = document.getElementById(\"NetworKit_Overlay_Image\"); image.setAttribute(\"data-id\", source.id); image.style.backgroundImage = \"url(\" + data + \")\"; var link = document.getElementById(\"NetworKit_Overlay_Toolbar_Bottom_Save\"); link.href = data; link.download = source.title + \".svg\"; } function NetworKit_overlayImageShift(delta) { var image = document.getElementById(\"NetworKit_Overlay_Image\"); var source = document.getElementById(image.getAttribute(\"data-id\")); var index = parseInt(source.getAttribute(\"data-image-index\")); var length = parseInt(source.getAttribute(\"data-image-length\")); var index = (index+delta) % length; if (index < 0) { index = length + index; } source.setAttribute(\"data-image-index\", index); NetworKit_overlayUpdate(source); } function NetworKit_toggleDetails(source) { var childs = source.children; var show = false; if (source.getAttribute(\"data-title\") == \"-\") { source.setAttribute(\"data-title\", \"+\"); show = false; } else { source.setAttribute(\"data-title\", \"-\"); show = true; } for (i=0; i<childs.length; i++) { if (show) { childs[i].style.display = \"block\"; } else { childs[i].style.display = \"none\"; } } }';\n",
       "\t\t\t\telement.setAttribute('id', 'NetworKit_script');\n",
       "\t\t\t\tdocument.head.appendChild(element);\n",
       "\t\t\t}\n",
       "\t\t\n",
       "\t\t\t\t\n",
       "\t\t\t{\n",
       "\t\t\t\tvar element = document.getElementById('NetworKit_style');\n",
       "\t\t\t\tif (element) {\n",
       "\t\t\t\t\telement.parentNode.removeChild(element);\n",
       "\t\t\t\t}\n",
       "\t\t\t\telement = document.createElement('style');\n",
       "\t\t\t\telement.type = 'text/css';\n",
       "\t\t\t\telement.innerHTML = '.NetworKit_Page { font-family: Arial, Helvetica, sans-serif; font-size: 14px; } .NetworKit_Page .Value:before { font-family: Arial, Helvetica, sans-serif; font-size: 1.05em; content: attr(data-title) \":\"; margin-left: -2.5em; padding-right: 0.5em; } .NetworKit_Page .Details .Value:before { display: block; } .NetworKit_Page .Value { font-family: monospace; white-space: pre; padding-left: 2.5em; white-space: -moz-pre-wrap !important; white-space: -pre-wrap; white-space: -o-pre-wrap; white-space: pre-wrap; word-wrap: break-word; tab-size: 4; -moz-tab-size: 4; } .NetworKit_Page .Category { clear: both; padding-left: 1em; margin-bottom: 1.5em; } .NetworKit_Page .Category:before { content: attr(data-title); font-size: 1.75em; display: block; margin-left: -0.8em; margin-bottom: 0.5em; } .NetworKit_Page .SubCategory { margin-bottom: 1.5em; padding-left: 1em; } .NetworKit_Page .SubCategory:before { font-size: 1.6em; display: block; margin-left: -0.8em; margin-bottom: 0.5em; } .NetworKit_Page .SubCategory[data-title]:before { content: attr(data-title); } .NetworKit_Page .Block { display: block; } .NetworKit_Page .Block:after { content: \".\"; visibility: hidden; display: block; height: 0; clear: both; } .NetworKit_Page .Block .Thumbnail_Overview, .NetworKit_Page .Block .Thumbnail_ScatterPlot { width: 260px; float: left; } .NetworKit_Page .Block .Thumbnail_Overview img, .NetworKit_Page .Block .Thumbnail_ScatterPlot img { width: 260px; } .NetworKit_Page .Block .Thumbnail_Overview:before, .NetworKit_Page .Block .Thumbnail_ScatterPlot:before { display: block; text-align: center; font-weight: bold; } .NetworKit_Page .Block .Thumbnail_Overview:before { content: attr(data-title); } .NetworKit_Page .HeatCell { font-family: \"Courier New\", Courier, monospace; cursor: pointer; } .NetworKit_Page .HeatCell, .NetworKit_Page .HeatCellName { display: inline; padding: 0.1em; margin-right: 2px; background-color: #FFFFFF } .NetworKit_Page .HeatCellName { margin-left: 0.25em; } .NetworKit_Page .HeatCell:before { content: attr(data-heat); display: inline-block; color: #000000; width: 4em; text-align: center; } .NetworKit_Page .Measure { clear: both; } .NetworKit_Page .Measure .Details { cursor: pointer; } .NetworKit_Page .Measure .Details:before { content: \"[\" attr(data-title) \"]\"; display: block; } .NetworKit_Page .Measure .Details .Value { border-left: 1px dotted black; margin-left: 0.4em; padding-left: 3.5em; pointer-events: none; } .NetworKit_Page .Measure .Details .Spacer:before { content: \".\"; opacity: 0.0; pointer-events: none; } .NetworKit_Page .Measure .Plot { width: 440px; height: 440px; cursor: pointer; float: left; margin-left: -0.9em; margin-right: 20px; } .NetworKit_Page .Measure .Plot .Image { background-repeat: no-repeat; background-position: center center; background-size: contain; height: 100%; pointer-events: none; } .NetworKit_Page .Measure .Stat { width: 500px; float: left; } .NetworKit_Page .Measure .Stat .Group { padding-left: 1.25em; margin-bottom: 0.75em; } .NetworKit_Page .Measure .Stat .Group .Title { font-size: 1.1em; display: block; margin-bottom: 0.3em; margin-left: -0.75em; border-right-style: dotted; border-right-width: 1px; border-bottom-style: dotted; border-bottom-width: 1px; background-color: #D0D0D0; padding-left: 0.2em; } .NetworKit_Page .Measure .Stat .Group .List { -webkit-column-count: 3; -moz-column-count: 3; column-count: 3; } .NetworKit_Page .Measure .Stat .Group .List .Entry { position: relative; line-height: 1.75em; } .NetworKit_Page .Measure .Stat .Group .List .Entry[data-tooltip]:before { position: absolute; left: 0; top: -40px; background-color: #808080; color: #ffffff; height: 30px; line-height: 30px; border-radius: 5px; padding: 0 15px; content: attr(data-tooltip); white-space: nowrap; display: none; } .NetworKit_Page .Measure .Stat .Group .List .Entry[data-tooltip]:after { position: absolute; left: 15px; top: -10px; border-top: 7px solid #808080; border-left: 7px solid transparent; border-right: 7px solid transparent; content: \"\"; display: none; } .NetworKit_Page .Measure .Stat .Group .List .Entry[data-tooltip]:hover:after, .NetworKit_Page .Measure .Stat .Group .List .Entry[data-tooltip]:hover:before { display: block; } .NetworKit_Page .Measure .Stat .Group .List .Entry .MathValue { font-family: \"Courier New\", Courier, monospace; } .NetworKit_Page .Measure:after { content: \".\"; visibility: hidden; display: block; height: 0; clear: both; } .NetworKit_Page .PartitionPie { clear: both; } .NetworKit_Page .PartitionPie img { width: 600px; } #NetworKit_Overlay { left: 0px; top: 0px; display: none; position: absolute; width: 100%; height: 100%; background-color: rgba(0,0,0,0.6); z-index: 1000; } #NetworKit_Overlay_Title { position: absolute; color: white; transform: rotate(-90deg); width: 32em; height: 32em; padding-right: 0.5em; padding-top: 0.5em; text-align: right; font-size: 40px; } #NetworKit_Overlay .button { background: white; cursor: pointer; } #NetworKit_Overlay .button:before { size: 13px; display: inline-block; text-align: center; margin-top: 0.5em; margin-bottom: 0.5em; width: 1.5em; height: 1.5em; } #NetworKit_Overlay .icon-close:before { content: \"X\"; } #NetworKit_Overlay .icon-previous:before { content: \"P\"; } #NetworKit_Overlay .icon-next:before { content: \"N\"; } #NetworKit_Overlay .icon-save:before { content: \"S\"; } #NetworKit_Overlay_Toolbar_Top, #NetworKit_Overlay_Toolbar_Bottom { position: absolute; width: 40px; right: 13px; text-align: right; z-index: 1100; } #NetworKit_Overlay_Toolbar_Top { top: 0.5em; } #NetworKit_Overlay_Toolbar_Bottom { Bottom: 0.5em; } #NetworKit_Overlay_ImageContainer { position: absolute; top: 5%; left: 5%; height: 90%; width: 90%; background-repeat: no-repeat; background-position: center center; background-size: contain; } #NetworKit_Overlay_Image { height: 100%; width: 100%; background-repeat: no-repeat; background-position: center center; background-size: contain; }';\n",
       "\t\t\t\telement.setAttribute('id', 'NetworKit_style');\n",
       "\t\t\t\tdocument.head.appendChild(element);\n",
       "\t\t\t}\n",
       "\t\t\n",
       "\t\t\t\t\n",
       "\t\t\t{\n",
       "\t\t\t\tvar element = document.getElementById('NetworKit_Overlay');\n",
       "\t\t\t\tif (element) {\n",
       "\t\t\t\t\telement.parentNode.removeChild(element);\n",
       "\t\t\t\t}\n",
       "\t\t\t\telement = document.createElement('div');\n",
       "\t\t\t\telement.innerHTML = '<div id=\"NetworKit_Overlay_Toolbar_Top\"><div class=\"button icon-close\" id=\"NetworKit_Overlay_Close\" /></div><div id=\"NetworKit_Overlay_Title\" /> <div id=\"NetworKit_Overlay_ImageContainer\"> <div id=\"NetworKit_Overlay_Image\" /> </div> <div id=\"NetworKit_Overlay_Toolbar_Bottom\"> <div class=\"button icon-previous\" onclick=\"NetworKit_overlayImageShift(-1)\" /> <div class=\"button icon-next\" onclick=\"NetworKit_overlayImageShift(1)\" /> <a id=\"NetworKit_Overlay_Toolbar_Bottom_Save\"><div class=\"button icon-save\" /></a> </div>';\n",
       "\t\t\t\telement.setAttribute('id', 'NetworKit_Overlay');\n",
       "\t\t\t\tdocument.body.appendChild(element);\n",
       "\t\t\t\tdocument.getElementById('NetworKit_Overlay_Close').onclick = function (e) {\n",
       "\t\t\t\t\tdocument.getElementById('NetworKit_Overlay').style.display = 'none';\n",
       "\t\t\t\t}\n",
       "\t\t\t}\n",
       "\t\t\n",
       "\t\t\t-->\n",
       "\t\t\t</script>\n",
       "\t\t"
      ]
     },
     "metadata": {},
     "output_type": "display_data",
     "jetTransient": {
      "display_id": null
     }
    },
    {
     "name": "stderr",
     "output_type": "stream",
     "text": [
      "/home/fipeczek/python_packages/quapopt_versions/current_public/quantum-approximate-optimization/quapopt/optimization/QAOA/simulation/QAOARunnerExpValues.py:50: SyntaxWarning: invalid escape sequence '\\g'\n",
      "  - Option to optimize only over phase separator angle (\\gamma), while mixer angle (\\beta) is computed analytically\n"
     ]
    }
   ],
   "execution_count": 2
  },
  {
   "cell_type": "code",
   "id": "2",
   "metadata": {
    "ExecuteTime": {
     "end_time": "2025-09-05T02:08:51.305523Z",
     "start_time": "2025-09-05T02:08:51.239556Z"
    }
   },
   "source": [
    "coefficients_type = CoefficientsType.DISCRETE\n",
    "coefficients_distribution = CoefficientsDistribution.Uniform\n",
    "coefficients_distribution_properties = {'low': -1, 'high': 1, 'step': 1}\n",
    "coefficients_distribution_specifier = CoefficientsDistributionSpecifier(CoefficientsType=coefficients_type,\n",
    "                                                                        CoefficientsDistributionName=coefficients_distribution,\n",
    "                                                                        CoefficientsDistributionProperties=coefficients_distribution_properties)\n",
    "\n",
    "# We generate a Hamiltonian instance. In this case it's a random Sherrington-Kirkpatrick Hamiltonian\n",
    "hamiltonian_model = HamiltonianModels.SherringtonKirkpatrick\n",
    "localities = (1, 2,)\n",
    "\n",
    "generator_cost_hamiltonian = build_hamiltonian_generator(hamiltonian_model=hamiltonian_model,\n",
    "                                                         localities=localities,\n",
    "                                                         coefficients_distribution_specifier=coefficients_distribution_specifier)\n",
    "\n",
    "\n",
    "\n"
   ],
   "outputs": [],
   "execution_count": 3
  },
  {
   "cell_type": "markdown",
   "id": "3",
   "metadata": {},
   "source": [
    "## Large-scale p=1 QAOA simulation\n",
    "* Here we will test simulation of p=1 2-local expected values on large number of qubits.\n",
    "* NOTE: this is optimized for GPUs, so if you don't have CUDA, it might be slow for more than 100 qubits\n",
    "* To make it more interesting, we will use analytical expressions for optimal betas for each gamma, so we only need to optimize over single parameter. (note that this works only in simulation)"
   ]
  },
  {
   "cell_type": "code",
   "id": "4",
   "metadata": {
    "ExecuteTime": {
     "end_time": "2025-09-05T02:09:03.679900Z",
     "start_time": "2025-09-05T02:09:01.071051Z"
    }
   },
   "source": [
    "number_of_qubits = 500\n",
    "seed_cost_hamiltonian = 1\n",
    "\n",
    "cost_hamiltonian = generator_cost_hamiltonian.generate_instance(number_of_qubits=number_of_qubits,\n",
    "                                                                seed=seed_cost_hamiltonian,\n",
    "                                                                read_from_drive_if_present=True,\n",
    "\n",
    "                                                                )\n",
    "cost_hamiltonian.solve_hamiltonian()\n",
    "\n",
    "\n",
    "print(\"Ground state energy:\",cost_hamiltonian.lowest_energy)"
   ],
   "outputs": [
    {
     "name": "stdout",
     "output_type": "stream",
     "text": [
      "File not found!\n",
      "FILE NOT FOUND!\n"
     ]
    },
    {
     "name": "stderr",
     "output_type": "stream",
     "text": [
      "/home/fipeczek/python_packages/quapopt_versions/current_public/quantum-approximate-optimization/quapopt/hamiltonians/representation/problem_formulations.py:29: SyntaxWarning: invalid escape sequence '\\s'\n",
      "  \\sum_{i<=j} J_{ij} (1-2*x_i)*(1-2*xj) + \\sum_i h_i (1-2xi)\n"
     ]
    },
    {
     "name": "stdout",
     "output_type": "stream",
     "text": [
      "Ground state energy: -8440.0\n"
     ]
    }
   ],
   "execution_count": 4
  },
  {
   "cell_type": "code",
   "id": "5",
   "metadata": {
    "ExecuteTime": {
     "end_time": "2025-09-05T02:09:20.176653Z",
     "start_time": "2025-09-05T02:09:20.150602Z"
    }
   },
   "source": [
    "number_of_function_calls = 100\n",
    "\n",
    "single_bound = (0, np.pi)\n",
    "\n",
    "#let's use grid search optimizer\n",
    "#just single parameter\n",
    "classical_optimizer = SimpleGridOptimizer(parameter_bounds=[(PBT.RANGE, single_bound)],\n",
    "                                            max_trials=number_of_function_calls)\n",
    "\n",
    "#uncomment to use COBYLA optimizer instead\n",
    "# classical_optimizer = ScipyOptimizerWrapped(parameters_bounds=[single_bound],\n",
    "#                                             argument_names = ['Angles-0'],\n",
    "                                            # optimizer_name='COBYLA',\n",
    "                                            # optimizer_kwargs=None,\n",
    "                                            # basinhopping=True,\n",
    "                                            # basinhopping_kwargs={'niter': 3},\n",
    "                                            # starting_point=[0.05]\n",
    "                                            # )"
   ],
   "outputs": [],
   "execution_count": 5
  },
  {
   "cell_type": "code",
   "id": "6",
   "metadata": {
    "ExecuteTime": {
     "end_time": "2025-09-05T02:10:33.039853Z",
     "start_time": "2025-09-05T02:10:17.736521Z"
    }
   },
   "source": [
    "#if set to None, the simulator will be chosen automatically\n",
    "simulator = None\n",
    "precision = np.float32\n",
    "\n",
    "qaoa_runner_analytical = QAOARunnerExpValues(hamiltonian_representations_cost=[cost_hamiltonian],\n",
    "                                             store_full_information_in_history=True,\n",
    "                                             simulator_name=simulator,\n",
    "                                             precision_float=precision)\n",
    "qaoa_optimizer_analytical = QAOAOptimizationRunner(qaoa_runner_analytical)\n",
    "\n",
    "#whether to store all 2-local expected values in memory\n",
    "store_correlators = True\n",
    "\n",
    "#whether to optimize over betas or use analytical betas; if False, you also need to adjust optimizer setting in previous cell to include two parameters instead of one\n",
    "analytical_betas = True\n",
    "best_result_analytical, optimization_res_analytical = qaoa_optimizer_analytical.run_optimization(qaoa_depth=1,\n",
    "                                                                                                 number_of_function_calls=number_of_function_calls,\n",
    "                                                                                                 classical_optimizer=classical_optimizer,\n",
    "                                                                                                 measurement_noise=None,\n",
    "                                                                                                 show_progress_bar=True,\n",
    "                                                                                                 verbosity=0,\n",
    "                                                                                                 analytical_betas=analytical_betas,\n",
    "                                                                                                 store_correlators=store_correlators)\n",
    "print(best_result_analytical)\n"
   ],
   "outputs": [
    {
     "data": {
      "text/plain": [
       "  0%|          | 0/100 [00:00<?, ?it/s]"
      ],
      "application/vnd.jupyter.widget-view+json": {
       "version_major": 2,
       "version_minor": 0,
       "model_id": "e6b81412a74b4855b6868102942cb8f8"
      }
     },
     "metadata": {},
     "output_type": "display_data",
     "jetTransient": {
      "display_id": null
     }
    },
    {
     "name": "stdout",
     "output_type": "stream",
     "text": [
      "[(np.float32(-3081.276), (None, <quapopt.optimization.QAOA.QAOAResult object at 0x7b6be12a92b0>))]\n"
     ]
    }
   ],
   "execution_count": 6
  },
  {
   "cell_type": "code",
   "id": "7",
   "metadata": {
    "ExecuteTime": {
     "end_time": "2025-09-05T02:10:33.992417Z",
     "start_time": "2025-09-05T02:10:33.935750Z"
    }
   },
   "source": [
    "print(best_result_analytical[0])\n",
    "#accessing correlators\n",
    "#Note: THOSE ARE REALLY WEIGHTED CORRELATORS (LOCAL EXPECTED VALUES), i.e., J_{ij} * Z_iZ_j;\n",
    "#To get ZiZj, please divide by coefficients\n",
    "best_correlators =  best_result_analytical[0][1][1].correlators\n",
    "best_energy = best_result_analytical[0][0]\n",
    "\n",
    "\n",
    "print('best energy:', best_energy)\n",
    "print(np.round(best_result_analytical[0][1][1].correlators,3))"
   ],
   "outputs": [
    {
     "name": "stdout",
     "output_type": "stream",
     "text": [
      "(np.float32(-3081.276), (None, <quapopt.optimization.QAOA.QAOAResult object at 0x7b6be12a92b0>))\n",
      "best energy: -3081.276\n",
      "[[-0.017 -0.027 -0.026 ... -0.029 -0.02  -0.034]\n",
      " [ 0.    -0.017 -0.024 ... -0.024 -0.04  -0.03 ]\n",
      " [ 0.     0.    -0.017 ... -0.021 -0.025 -0.012]\n",
      " ...\n",
      " [ 0.     0.     0.    ... -0.017 -0.018 -0.01 ]\n",
      " [ 0.     0.     0.    ...  0.    -0.017 -0.018]\n",
      " [ 0.     0.     0.    ...  0.     0.    -0.017]]\n"
     ]
    }
   ],
   "execution_count": 7
  },
  {
   "cell_type": "markdown",
   "id": "8",
   "metadata": {},
   "source": [
    "### Quantum Relax and Round (QRR) algorithm\n",
    "\n",
    "We can also apply QRR algorithm to obtain candidate solutions from exp-values of the cost Hamiltonian. The QRR algorithm is based on a matrix of 2-local correlations. The algorithm is described in Ref [1].\n",
    "\n",
    "[1] Dupont, Maxime, and Bhuvanesh Sundar. \"Extending relax-and-round combinatorial optimization solvers with quantum correlations.\" Physical Review A 109, no. 1 (2024): 012429."
   ]
  },
  {
   "cell_type": "code",
   "id": "9",
   "metadata": {
    "ExecuteTime": {
     "end_time": "2025-09-05T02:10:41.131940Z",
     "start_time": "2025-09-05T02:10:35.472386Z"
    }
   },
   "source": [
    "if store_correlators:\n",
    "    #This is possible only if we stored correlators\n",
    "    best_result_qrr, (\n",
    "    opt_res_qrr, best_bitstrings_qrr, _) = qaoa_optimizer_analytical.apply_QRR_to_optimization_results(\n",
    "        return_full_history=False,\n",
    "        show_progress_bar=True)\n"
   ],
   "outputs": [
    {
     "data": {
      "text/plain": [
       "  0%|          | 0/100 [00:00<?, ?it/s]"
      ],
      "application/vnd.jupyter.widget-view+json": {
       "version_major": 2,
       "version_minor": 0,
       "model_id": "a2d1d9afd94242ff99e4cf3fe6a1e5ac"
      }
     },
     "metadata": {},
     "output_type": "display_data",
     "jetTransient": {
      "display_id": null
     }
    }
   ],
   "execution_count": 8
  },
  {
   "cell_type": "code",
   "id": "10",
   "metadata": {
    "ExecuteTime": {
     "end_time": "2025-09-05T02:10:41.167810Z",
     "start_time": "2025-09-05T02:10:41.142111Z"
    }
   },
   "source": [
    "xs_qrr = [x[0] for x in opt_res_qrr.trials_dataframe['Angles'].values]\n",
    "ys_qrr = opt_res_qrr.trials_dataframe['Energy']"
   ],
   "outputs": [],
   "execution_count": 9
  },
  {
   "cell_type": "markdown",
   "id": "11",
   "metadata": {},
   "source": [
    "### Visualization\n",
    "\n",
    "* Let's take a look at a simple visualization of the NDAR optimization.\n"
   ]
  },
  {
   "cell_type": "code",
   "id": "12",
   "metadata": {
    "ExecuteTime": {
     "end_time": "2025-09-05T02:10:45.632084Z",
     "start_time": "2025-09-05T02:10:43.474538Z"
    }
   },
   "source": [
    "import plotly\n",
    "import plotly.graph_objects as go\n",
    "plotly.io.templates.default = \"plotly\"\n",
    "plotly.offline.init_notebook_mode(connected=True)"
   ],
   "outputs": [
    {
     "data": {
      "text/html": [
       "        <script type=\"text/javascript\">\n",
       "        window.PlotlyConfig = {MathJaxConfig: 'local'};\n",
       "        if (window.MathJax && window.MathJax.Hub && window.MathJax.Hub.Config) {window.MathJax.Hub.Config({SVG: {font: \"STIX-Web\"}});}\n",
       "        </script>\n",
       "        <script type=\"module\">import \"https://cdn.plot.ly/plotly-3.1.0.min\"</script>\n",
       "        "
      ]
     },
     "metadata": {},
     "output_type": "display_data",
     "jetTransient": {
      "display_id": null
     }
    }
   ],
   "execution_count": 10
  },
  {
   "cell_type": "code",
   "id": "13",
   "metadata": {
    "ExecuteTime": {
     "end_time": "2025-09-05T02:10:45.963963Z",
     "start_time": "2025-09-05T02:10:45.658895Z"
    }
   },
   "source": [
    "xs = optimization_res_analytical.trials_dataframe['ARG-0']\n",
    "ys = optimization_res_analytical.trials_dataframe['FunctionValue']\n",
    "\n",
    "fig = go.Figure()\n",
    "fig.add_trace(go.Scatter(x=xs, y=ys, mode='markers', name='QAOA p=1'))\n",
    "if store_correlators:\n",
    "    fig.add_trace(go.Scatter(x=xs_qrr, y=ys_qrr, mode='markers', name='QAOA p=1 + QRR'))\n",
    "\n",
    "fig.update_layout(\n",
    "    title=f\"QAOA p=1 with analytical betas performance for {number_of_qubits} qubits on {cost_hamiltonian.hamiltonian_class_specifier.get_description_string()}\",\n",
    "    xaxis_title=\"\\gamma\",\n",
    "    yaxis_title=\"Energy\",\n",
    "    template=\"plotly\",\n",
    "    font=dict(size=14),\n",
    "    hovermode=\"x unified\")\n",
    "\n",
    "plotly.offline.plot(fig,\n",
    "                    filename=f'../temp/p1_simulator_analytical_betas_n={number_of_qubits}.html')\n",
    "fig.show()"
   ],
   "outputs": [
    {
     "name": "stderr",
     "output_type": "stream",
     "text": [
      "<>:11: SyntaxWarning:\n",
      "\n",
      "invalid escape sequence '\\g'\n",
      "\n",
      "<>:11: SyntaxWarning:\n",
      "\n",
      "invalid escape sequence '\\g'\n",
      "\n",
      "/tmp/ipykernel_104294/3280062010.py:11: SyntaxWarning:\n",
      "\n",
      "invalid escape sequence '\\g'\n",
      "\n"
     ]
    },
    {
     "data": {
      "application/vnd.plotly.v1+json": {
       "data": [
        {
         "mode": "markers",
         "name": "QAOA p=1",
         "x": {
          "dtype": "f8",
          "bdata": "AAAAAAAAAACRGkt8Vz+gP5EaS3xXP7A/2qdwOgNfuD+RGkt8Vz/APzXhXVstT8Q/2qdwOgNfyD9+boMZ2W7MP5EaS3xXP9A/433Ua0JH0j814V1bLU/UP4dE50oYV9Y/2qdwOgNf2D8sC/op7mbaP35ugxnZbtw/0NEMCcR23j+RGkt8Vz/gPzrMD/RMQ+E/433Ua0JH4j+ML5njN0vjPzXhXVstT+Q/3pIi0yJT5T+HROdKGFfmPzD2q8INW+c/2qdwOgNf6D+DWTWy+GLpPywL+inuZuo/1by+oeNq6z9+boMZ2W7sPycgSJHOcu0/0NEMCcR27j95g9GAuXrvP5EaS3xXP/A/ZnMtOFLB8D86zA/0TEPxPw8l8q9HxfE/433Ua0JH8j+41rYnPcnyP4wvmeM3S/M/YYh7nzLN8z814V1bLU/0Pwo6QBco0fQ/3pIi0yJT9T+z6wSPHdX1P4dE50oYV/Y/XJ3JBhPZ9j8w9qvCDVv3PwVPjn4I3fc/2qdwOgNf+D+uAFP2/eD4P4NZNbL4Yvk/V7IXbvPk+T8sC/op7mb6PwBk3OXo6Po/1by+oeNq+z+pFaFd3uz7P35ugxnZbvw/Usdl1dPw/D8nIEiRznL9P/t4Kk3J9P0/0NEMCcR2/j+kKu/Evvj+P3mD0YC5ev8/TdyzPLT8/z+RGkt8Vz8AQPtGPNpUgABAZnMtOFLBAEDQnx6WTwIBQDrMD/RMQwFApPgAUkqEAUAPJfKvR8UBQHlR4w1FBgJA433Ua0JHAkBNqsXJP4gCQLjWtic9yQJAIgOohToKA0CML5njN0sDQPZbikE1jANAYYh7nzLNA0DLtGz9Lw4EQDXhXVstTwRAoA1PuSqQBEAKOkAXKNEEQHRmMXUlEgVA3pIi0yJTBUBJvxMxIJQFQLPrBI8d1QVAHRj27BoWBkCHROdKGFcGQPJw2KgVmAZAXJ3JBhPZBkDGybpkEBoHQDD2q8INWwdAmyKdIAucB0AFT45+CN0HQG97f9wFHghA2qdwOgNfCEBE1GGYAKAIQK4AU/b94AhAGC1EVPshCUA="
         },
         "y": {
          "dtype": "f4",
          "bdata": "AAAAALwSNcUAAAAAAAAAAF14M7sAAAAAAAAAAAAAAAAAAAAAAAAAAAAAAAAAAAAAAAAAAAAAAAAAAAAAAAAAAAAAAAAAAAAAAAAAAAAAAAAsXUALPuohGJqYDyG8BeUmdP80KoTn8ioSHtkoK5ZPJBEMCB3M1lQSp/ubmwAAAAAAAAAAAAAAAAAAAAAAAAAAAAAAAAAAAAAAAAAAAAAAAAAAAAAAAAAAhen6nAAAAAAAAAAAOqshuBdS5b0AAAAAYEeaxCWUQMVqlEDFW0eaxAAAAAAOUuW9OashuAAAAAAAAAAAY+f6nAAAAAAAAAAAAAAAAAAAAAAAAAAAAAAAAAAAAAAAAAAAAAAAAAAAAAAAAAAAPP2bm0rTVBIQCwgdt5RPJEUd2SiE5/IqdP80KoYG5SaamA8hn+khGCxdQAsAAAAAAAAAAAAAAAAAAAAAAAAAAAAAAAAAAAAAAAAAAAAAAAAAAAAAAAAAAAAAAAAAAAAAAAAAAAAAAADCeTO7AAAAAAAAAACfEjXFvTCzvA=="
         },
         "type": "scatter"
        },
        {
         "mode": "markers",
         "name": "QAOA p=1 + QRR",
         "x": [
          0.0,
          0.03173325955867767,
          0.06346651911735535,
          0.09519977867603302,
          0.1269330382347107,
          0.15866629779338837,
          0.19039955735206604,
          0.2221328169107437,
          0.2538660764694214,
          0.28559932112693787,
          0.31733259558677673,
          0.3490658402442932,
          0.3807991147041321,
          0.41253235936164856,
          0.4442656338214874,
          0.4759988784790039,
          0.5077321529388428,
          0.5394654273986816,
          0.5711986422538757,
          0.6029319167137146,
          0.6346651911735535,
          0.6663984656333923,
          0.6981316804885864,
          0.7298649549484253,
          0.7615982294082642,
          0.793331503868103,
          0.8250647187232971,
          0.856797993183136,
          0.8885312676429749,
          0.9202645421028137,
          0.9519977569580078,
          0.9837310314178467,
          1.0154643058776855,
          1.0471975803375244,
          1.0789308547973633,
          1.1106640100479126,
          1.1423972845077515,
          1.1741305589675903,
          1.2058638334274292,
          1.237597107887268,
          1.269330382347107,
          1.3010636568069458,
          1.3327969312667847,
          1.364530086517334,
          1.3962633609771729,
          1.4279966354370117,
          1.4597299098968506,
          1.4914631843566895,
          1.5231964588165283,
          1.5549297332763672,
          1.586663007736206,
          1.6183961629867554,
          1.6501294374465942,
          1.681862711906433,
          1.713595986366272,
          1.7453292608261108,
          1.7770625352859497,
          1.8087958097457886,
          1.8405290842056274,
          1.8722622394561768,
          1.9039955139160156,
          1.9357287883758545,
          1.9674620628356934,
          1.9991953372955322,
          2.030928611755371,
          2.06266188621521,
          2.094395160675049,
          2.1261284351348877,
          2.1578617095947266,
          2.1895949840545654,
          2.221328020095825,
          2.253061294555664,
          2.284794569015503,
          2.316527843475342,
          2.3482611179351807,
          2.3799943923950195,
          2.4117276668548584,
          2.4434609413146973,
          2.475194215774536,
          2.506927490234375,
          2.538660764694214,
          2.5703940391540527,
          2.6021273136138916,
          2.6338605880737305,
          2.6655938625335693,
          2.697327136993408,
          2.729060173034668,
          2.760793447494507,
          2.7925267219543457,
          2.8242599964141846,
          2.8559932708740234,
          2.8877265453338623,
          2.919459819793701,
          2.95119309425354,
          2.982926368713379,
          3.0146596431732178,
          3.0463929176330566,
          3.0781261920928955,
          3.1098594665527344,
          3.1415927410125732
         ],
         "y": {
          "dtype": "f8",
          "bdata": "AAAAAAAAa8AAAAAAANC8wAAAAAAAAGvAAAAAAAAAa8AAAAAAAMS8wAAAAAAAAGvAAAAAAAAAa8AAAAAAAABrwAAAAAAAAGvAAAAAAAAAa8AAAAAAAABrwAAAAAAAAGvAAAAAAAAAa8AAAAAAAABrwAAAAAAAAGvAAAAAAAAAa8AAAAAAAABrwAAAAAAAAGvAAAAAAAAAa8AAAAAAAABrwAAAAAAAYJLAAAAAAACgkcAAAAAAAGCPwAAAAAAAcJDAAAAAAACwkMAAAAAAAFCQwAAAAAAAYI/AAAAAAAAQkcAAAAAAACCWwAAAAAAA8JDAAAAAAADgjsAAAAAAAABrwAAAAAAAAGvAAAAAAAAAa8AAAAAAAABrwAAAAAAAAGvAAAAAAAAAa8AAAAAAAABrwAAAAAAAAGvAAAAAAAAAa8AAAAAAAABrwAAAAAAAAGvAAAAAAADEvMAAAAAAAABrwAAAAAAAAGvAAAAAAADEvMAAAAAAAMS8wAAAAAAAAGvAAAAAAAD8vMAAAAAAANC8wAAAAAAA0LzAAAAAAAD8vMAAAAAAAABrwAAAAAAAxLzAAAAAAADEvMAAAAAAAABrwAAAAAAAAGvAAAAAAADEvMAAAAAAAABrwAAAAAAAAGvAAAAAAAAAa8AAAAAAAABrwAAAAAAAAGvAAAAAAAAAa8AAAAAAAABrwAAAAAAAAGvAAAAAAAAAa8AAAAAAAABrwAAAAAAAAGvAAAAAAADgjsAAAAAAAPCQwAAAAAAAIJbAAAAAAAAQkcAAAAAAAGCPwAAAAAAAUJDAAAAAAACwkMAAAAAAAHCQwAAAAAAAYI/AAAAAAACgkcAAAAAAAGCSwAAAAAAAAGvAAAAAAAAAa8AAAAAAAABrwAAAAAAAAGvAAAAAAAAAa8AAAAAAAABrwAAAAAAAAGvAAAAAAAAAa8AAAAAAAABrwAAAAAAAAGvAAAAAAAAAa8AAAAAAAABrwAAAAAAAAGvAAAAAAAAAa8AAAAAAAABrwAAAAAAAxLzAAAAAAAAAa8AAAAAAAABrwAAAAAAA0LzAAAAAAADEvMA="
         },
         "type": "scatter"
        }
       ],
       "layout": {
        "template": {
         "data": {
          "histogram2dcontour": [
           {
            "type": "histogram2dcontour",
            "colorbar": {
             "outlinewidth": 0,
             "ticks": ""
            },
            "colorscale": [
             [
              0.0,
              "#0d0887"
             ],
             [
              0.1111111111111111,
              "#46039f"
             ],
             [
              0.2222222222222222,
              "#7201a8"
             ],
             [
              0.3333333333333333,
              "#9c179e"
             ],
             [
              0.4444444444444444,
              "#bd3786"
             ],
             [
              0.5555555555555556,
              "#d8576b"
             ],
             [
              0.6666666666666666,
              "#ed7953"
             ],
             [
              0.7777777777777778,
              "#fb9f3a"
             ],
             [
              0.8888888888888888,
              "#fdca26"
             ],
             [
              1.0,
              "#f0f921"
             ]
            ]
           }
          ],
          "choropleth": [
           {
            "type": "choropleth",
            "colorbar": {
             "outlinewidth": 0,
             "ticks": ""
            }
           }
          ],
          "histogram2d": [
           {
            "type": "histogram2d",
            "colorbar": {
             "outlinewidth": 0,
             "ticks": ""
            },
            "colorscale": [
             [
              0.0,
              "#0d0887"
             ],
             [
              0.1111111111111111,
              "#46039f"
             ],
             [
              0.2222222222222222,
              "#7201a8"
             ],
             [
              0.3333333333333333,
              "#9c179e"
             ],
             [
              0.4444444444444444,
              "#bd3786"
             ],
             [
              0.5555555555555556,
              "#d8576b"
             ],
             [
              0.6666666666666666,
              "#ed7953"
             ],
             [
              0.7777777777777778,
              "#fb9f3a"
             ],
             [
              0.8888888888888888,
              "#fdca26"
             ],
             [
              1.0,
              "#f0f921"
             ]
            ]
           }
          ],
          "heatmap": [
           {
            "type": "heatmap",
            "colorbar": {
             "outlinewidth": 0,
             "ticks": ""
            },
            "colorscale": [
             [
              0.0,
              "#0d0887"
             ],
             [
              0.1111111111111111,
              "#46039f"
             ],
             [
              0.2222222222222222,
              "#7201a8"
             ],
             [
              0.3333333333333333,
              "#9c179e"
             ],
             [
              0.4444444444444444,
              "#bd3786"
             ],
             [
              0.5555555555555556,
              "#d8576b"
             ],
             [
              0.6666666666666666,
              "#ed7953"
             ],
             [
              0.7777777777777778,
              "#fb9f3a"
             ],
             [
              0.8888888888888888,
              "#fdca26"
             ],
             [
              1.0,
              "#f0f921"
             ]
            ]
           }
          ],
          "contourcarpet": [
           {
            "type": "contourcarpet",
            "colorbar": {
             "outlinewidth": 0,
             "ticks": ""
            }
           }
          ],
          "contour": [
           {
            "type": "contour",
            "colorbar": {
             "outlinewidth": 0,
             "ticks": ""
            },
            "colorscale": [
             [
              0.0,
              "#0d0887"
             ],
             [
              0.1111111111111111,
              "#46039f"
             ],
             [
              0.2222222222222222,
              "#7201a8"
             ],
             [
              0.3333333333333333,
              "#9c179e"
             ],
             [
              0.4444444444444444,
              "#bd3786"
             ],
             [
              0.5555555555555556,
              "#d8576b"
             ],
             [
              0.6666666666666666,
              "#ed7953"
             ],
             [
              0.7777777777777778,
              "#fb9f3a"
             ],
             [
              0.8888888888888888,
              "#fdca26"
             ],
             [
              1.0,
              "#f0f921"
             ]
            ]
           }
          ],
          "surface": [
           {
            "type": "surface",
            "colorbar": {
             "outlinewidth": 0,
             "ticks": ""
            },
            "colorscale": [
             [
              0.0,
              "#0d0887"
             ],
             [
              0.1111111111111111,
              "#46039f"
             ],
             [
              0.2222222222222222,
              "#7201a8"
             ],
             [
              0.3333333333333333,
              "#9c179e"
             ],
             [
              0.4444444444444444,
              "#bd3786"
             ],
             [
              0.5555555555555556,
              "#d8576b"
             ],
             [
              0.6666666666666666,
              "#ed7953"
             ],
             [
              0.7777777777777778,
              "#fb9f3a"
             ],
             [
              0.8888888888888888,
              "#fdca26"
             ],
             [
              1.0,
              "#f0f921"
             ]
            ]
           }
          ],
          "mesh3d": [
           {
            "type": "mesh3d",
            "colorbar": {
             "outlinewidth": 0,
             "ticks": ""
            }
           }
          ],
          "scatter": [
           {
            "fillpattern": {
             "fillmode": "overlay",
             "size": 10,
             "solidity": 0.2
            },
            "type": "scatter"
           }
          ],
          "parcoords": [
           {
            "type": "parcoords",
            "line": {
             "colorbar": {
              "outlinewidth": 0,
              "ticks": ""
             }
            }
           }
          ],
          "scatterpolargl": [
           {
            "type": "scatterpolargl",
            "marker": {
             "colorbar": {
              "outlinewidth": 0,
              "ticks": ""
             }
            }
           }
          ],
          "bar": [
           {
            "error_x": {
             "color": "#2a3f5f"
            },
            "error_y": {
             "color": "#2a3f5f"
            },
            "marker": {
             "line": {
              "color": "#E5ECF6",
              "width": 0.5
             },
             "pattern": {
              "fillmode": "overlay",
              "size": 10,
              "solidity": 0.2
             }
            },
            "type": "bar"
           }
          ],
          "scattergeo": [
           {
            "type": "scattergeo",
            "marker": {
             "colorbar": {
              "outlinewidth": 0,
              "ticks": ""
             }
            }
           }
          ],
          "scatterpolar": [
           {
            "type": "scatterpolar",
            "marker": {
             "colorbar": {
              "outlinewidth": 0,
              "ticks": ""
             }
            }
           }
          ],
          "histogram": [
           {
            "marker": {
             "pattern": {
              "fillmode": "overlay",
              "size": 10,
              "solidity": 0.2
             }
            },
            "type": "histogram"
           }
          ],
          "scattergl": [
           {
            "type": "scattergl",
            "marker": {
             "colorbar": {
              "outlinewidth": 0,
              "ticks": ""
             }
            }
           }
          ],
          "scatter3d": [
           {
            "type": "scatter3d",
            "line": {
             "colorbar": {
              "outlinewidth": 0,
              "ticks": ""
             }
            },
            "marker": {
             "colorbar": {
              "outlinewidth": 0,
              "ticks": ""
             }
            }
           }
          ],
          "scattermap": [
           {
            "type": "scattermap",
            "marker": {
             "colorbar": {
              "outlinewidth": 0,
              "ticks": ""
             }
            }
           }
          ],
          "scattermapbox": [
           {
            "type": "scattermapbox",
            "marker": {
             "colorbar": {
              "outlinewidth": 0,
              "ticks": ""
             }
            }
           }
          ],
          "scatterternary": [
           {
            "type": "scatterternary",
            "marker": {
             "colorbar": {
              "outlinewidth": 0,
              "ticks": ""
             }
            }
           }
          ],
          "scattercarpet": [
           {
            "type": "scattercarpet",
            "marker": {
             "colorbar": {
              "outlinewidth": 0,
              "ticks": ""
             }
            }
           }
          ],
          "carpet": [
           {
            "aaxis": {
             "endlinecolor": "#2a3f5f",
             "gridcolor": "white",
             "linecolor": "white",
             "minorgridcolor": "white",
             "startlinecolor": "#2a3f5f"
            },
            "baxis": {
             "endlinecolor": "#2a3f5f",
             "gridcolor": "white",
             "linecolor": "white",
             "minorgridcolor": "white",
             "startlinecolor": "#2a3f5f"
            },
            "type": "carpet"
           }
          ],
          "table": [
           {
            "cells": {
             "fill": {
              "color": "#EBF0F8"
             },
             "line": {
              "color": "white"
             }
            },
            "header": {
             "fill": {
              "color": "#C8D4E3"
             },
             "line": {
              "color": "white"
             }
            },
            "type": "table"
           }
          ],
          "barpolar": [
           {
            "marker": {
             "line": {
              "color": "#E5ECF6",
              "width": 0.5
             },
             "pattern": {
              "fillmode": "overlay",
              "size": 10,
              "solidity": 0.2
             }
            },
            "type": "barpolar"
           }
          ],
          "pie": [
           {
            "automargin": true,
            "type": "pie"
           }
          ]
         },
         "layout": {
          "autotypenumbers": "strict",
          "colorway": [
           "#636efa",
           "#EF553B",
           "#00cc96",
           "#ab63fa",
           "#FFA15A",
           "#19d3f3",
           "#FF6692",
           "#B6E880",
           "#FF97FF",
           "#FECB52"
          ],
          "font": {
           "color": "#2a3f5f"
          },
          "hovermode": "closest",
          "hoverlabel": {
           "align": "left"
          },
          "paper_bgcolor": "white",
          "plot_bgcolor": "#E5ECF6",
          "polar": {
           "bgcolor": "#E5ECF6",
           "angularaxis": {
            "gridcolor": "white",
            "linecolor": "white",
            "ticks": ""
           },
           "radialaxis": {
            "gridcolor": "white",
            "linecolor": "white",
            "ticks": ""
           }
          },
          "ternary": {
           "bgcolor": "#E5ECF6",
           "aaxis": {
            "gridcolor": "white",
            "linecolor": "white",
            "ticks": ""
           },
           "baxis": {
            "gridcolor": "white",
            "linecolor": "white",
            "ticks": ""
           },
           "caxis": {
            "gridcolor": "white",
            "linecolor": "white",
            "ticks": ""
           }
          },
          "coloraxis": {
           "colorbar": {
            "outlinewidth": 0,
            "ticks": ""
           }
          },
          "colorscale": {
           "sequential": [
            [
             0.0,
             "#0d0887"
            ],
            [
             0.1111111111111111,
             "#46039f"
            ],
            [
             0.2222222222222222,
             "#7201a8"
            ],
            [
             0.3333333333333333,
             "#9c179e"
            ],
            [
             0.4444444444444444,
             "#bd3786"
            ],
            [
             0.5555555555555556,
             "#d8576b"
            ],
            [
             0.6666666666666666,
             "#ed7953"
            ],
            [
             0.7777777777777778,
             "#fb9f3a"
            ],
            [
             0.8888888888888888,
             "#fdca26"
            ],
            [
             1.0,
             "#f0f921"
            ]
           ],
           "sequentialminus": [
            [
             0.0,
             "#0d0887"
            ],
            [
             0.1111111111111111,
             "#46039f"
            ],
            [
             0.2222222222222222,
             "#7201a8"
            ],
            [
             0.3333333333333333,
             "#9c179e"
            ],
            [
             0.4444444444444444,
             "#bd3786"
            ],
            [
             0.5555555555555556,
             "#d8576b"
            ],
            [
             0.6666666666666666,
             "#ed7953"
            ],
            [
             0.7777777777777778,
             "#fb9f3a"
            ],
            [
             0.8888888888888888,
             "#fdca26"
            ],
            [
             1.0,
             "#f0f921"
            ]
           ],
           "diverging": [
            [
             0,
             "#8e0152"
            ],
            [
             0.1,
             "#c51b7d"
            ],
            [
             0.2,
             "#de77ae"
            ],
            [
             0.3,
             "#f1b6da"
            ],
            [
             0.4,
             "#fde0ef"
            ],
            [
             0.5,
             "#f7f7f7"
            ],
            [
             0.6,
             "#e6f5d0"
            ],
            [
             0.7,
             "#b8e186"
            ],
            [
             0.8,
             "#7fbc41"
            ],
            [
             0.9,
             "#4d9221"
            ],
            [
             1,
             "#276419"
            ]
           ]
          },
          "xaxis": {
           "gridcolor": "white",
           "linecolor": "white",
           "ticks": "",
           "title": {
            "standoff": 15
           },
           "zerolinecolor": "white",
           "automargin": true,
           "zerolinewidth": 2
          },
          "yaxis": {
           "gridcolor": "white",
           "linecolor": "white",
           "ticks": "",
           "title": {
            "standoff": 15
           },
           "zerolinecolor": "white",
           "automargin": true,
           "zerolinewidth": 2
          },
          "scene": {
           "xaxis": {
            "backgroundcolor": "#E5ECF6",
            "gridcolor": "white",
            "linecolor": "white",
            "showbackground": true,
            "ticks": "",
            "zerolinecolor": "white",
            "gridwidth": 2
           },
           "yaxis": {
            "backgroundcolor": "#E5ECF6",
            "gridcolor": "white",
            "linecolor": "white",
            "showbackground": true,
            "ticks": "",
            "zerolinecolor": "white",
            "gridwidth": 2
           },
           "zaxis": {
            "backgroundcolor": "#E5ECF6",
            "gridcolor": "white",
            "linecolor": "white",
            "showbackground": true,
            "ticks": "",
            "zerolinecolor": "white",
            "gridwidth": 2
           }
          },
          "shapedefaults": {
           "line": {
            "color": "#2a3f5f"
           }
          },
          "annotationdefaults": {
           "arrowcolor": "#2a3f5f",
           "arrowhead": 0,
           "arrowwidth": 1
          },
          "geo": {
           "bgcolor": "white",
           "landcolor": "#E5ECF6",
           "subunitcolor": "white",
           "showland": true,
           "showlakes": true,
           "lakecolor": "white"
          },
          "title": {
           "x": 0.05
          },
          "mapbox": {
           "style": "light"
          }
         }
        },
        "font": {
         "size": 14
        },
        "title": {
         "text": "QAOA p=1 with analytical betas performance for 500 qubits on HMN=SK;LOC=(1, 2);CFD=CT~DIS_CDN~UNI_CDP~low~-1_high~1_step~1"
        },
        "xaxis": {
         "title": {
          "text": "\\gamma"
         }
        },
        "yaxis": {
         "title": {
          "text": "Energy"
         }
        },
        "hovermode": "x unified"
       },
       "config": {
        "plotlyServerURL": "https://plot.ly"
       }
      },
      "text/html": [
       "<div>            <script src=\"https://cdnjs.cloudflare.com/ajax/libs/mathjax/2.7.5/MathJax.js?config=TeX-AMS-MML_SVG\"></script><script type=\"text/javascript\">if (window.MathJax && window.MathJax.Hub && window.MathJax.Hub.Config) {window.MathJax.Hub.Config({SVG: {font: \"STIX-Web\"}});}</script>                <script type=\"text/javascript\">window.PlotlyConfig = {MathJaxConfig: 'local'};</script>\n",
       "        <script charset=\"utf-8\" src=\"https://cdn.plot.ly/plotly-3.1.0.min.js\" integrity=\"sha256-Ei4740bWZhaUTQuD6q9yQlgVCMPBz6CZWhevDYPv93A=\" crossorigin=\"anonymous\"></script>                <div id=\"2deaba10-4019-45e1-91ab-11247f89e880\" class=\"plotly-graph-div\" style=\"height:525px; width:100%;\"></div>            <script type=\"text/javascript\">                window.PLOTLYENV=window.PLOTLYENV || {};                                if (document.getElementById(\"2deaba10-4019-45e1-91ab-11247f89e880\")) {                    Plotly.newPlot(                        \"2deaba10-4019-45e1-91ab-11247f89e880\",                        [{\"mode\":\"markers\",\"name\":\"QAOA p=1\",\"x\":{\"dtype\":\"f8\",\"bdata\":\"AAAAAAAAAACRGkt8Vz+gP5EaS3xXP7A\\u002f2qdwOgNfuD+RGkt8Vz\\u002fAPzXhXVstT8Q\\u002f2qdwOgNfyD9+boMZ2W7MP5EaS3xXP9A\\u002f433Ua0JH0j814V1bLU\\u002fUP4dE50oYV9Y\\u002f2qdwOgNf2D8sC\\u002fop7mbaP35ugxnZbtw\\u002f0NEMCcR23j+RGkt8Vz\\u002fgPzrMD\\u002fRMQ+E\\u002f433Ua0JH4j+ML5njN0vjPzXhXVstT+Q\\u002f3pIi0yJT5T+HROdKGFfmPzD2q8INW+c\\u002f2qdwOgNf6D+DWTWy+GLpPywL+inuZuo\\u002f1by+oeNq6z9+boMZ2W7sPycgSJHOcu0\\u002f0NEMCcR27j95g9GAuXrvP5EaS3xXP\\u002fA\\u002fZnMtOFLB8D86zA\\u002f0TEPxPw8l8q9HxfE\\u002f433Ua0JH8j+41rYnPcnyP4wvmeM3S\\u002fM\\u002fYYh7nzLN8z814V1bLU\\u002f0Pwo6QBco0fQ\\u002f3pIi0yJT9T+z6wSPHdX1P4dE50oYV\\u002fY\\u002fXJ3JBhPZ9j8w9qvCDVv3PwVPjn4I3fc\\u002f2qdwOgNf+D+uAFP2\\u002feD4P4NZNbL4Yvk\\u002fV7IXbvPk+T8sC\\u002fop7mb6PwBk3OXo6Po\\u002f1by+oeNq+z+pFaFd3uz7P35ugxnZbvw\\u002fUsdl1dPw\\u002fD8nIEiRznL9P\\u002ft4Kk3J9P0\\u002f0NEMCcR2\\u002fj+kKu\\u002fEvvj+P3mD0YC5ev8\\u002fTdyzPLT8\\u002fz+RGkt8Vz8AQPtGPNpUgABAZnMtOFLBAEDQnx6WTwIBQDrMD\\u002fRMQwFApPgAUkqEAUAPJfKvR8UBQHlR4w1FBgJA433Ua0JHAkBNqsXJP4gCQLjWtic9yQJAIgOohToKA0CML5njN0sDQPZbikE1jANAYYh7nzLNA0DLtGz9Lw4EQDXhXVstTwRAoA1PuSqQBEAKOkAXKNEEQHRmMXUlEgVA3pIi0yJTBUBJvxMxIJQFQLPrBI8d1QVAHRj27BoWBkCHROdKGFcGQPJw2KgVmAZAXJ3JBhPZBkDGybpkEBoHQDD2q8INWwdAmyKdIAucB0AFT45+CN0HQG97f9wFHghA2qdwOgNfCEBE1GGYAKAIQK4AU\\u002fb94AhAGC1EVPshCUA=\"},\"y\":{\"dtype\":\"f4\",\"bdata\":\"AAAAALwSNcUAAAAAAAAAAF14M7sAAAAAAAAAAAAAAAAAAAAAAAAAAAAAAAAAAAAAAAAAAAAAAAAAAAAAAAAAAAAAAAAAAAAAAAAAAAAAAAAsXUALPuohGJqYDyG8BeUmdP80KoTn8ioSHtkoK5ZPJBEMCB3M1lQSp\\u002fubmwAAAAAAAAAAAAAAAAAAAAAAAAAAAAAAAAAAAAAAAAAAAAAAAAAAAAAAAAAAhen6nAAAAAAAAAAAOqshuBdS5b0AAAAAYEeaxCWUQMVqlEDFW0eaxAAAAAAOUuW9OashuAAAAAAAAAAAY+f6nAAAAAAAAAAAAAAAAAAAAAAAAAAAAAAAAAAAAAAAAAAAAAAAAAAAAAAAAAAAPP2bm0rTVBIQCwgdt5RPJEUd2SiE5\\u002fIqdP80KoYG5SaamA8hn+khGCxdQAsAAAAAAAAAAAAAAAAAAAAAAAAAAAAAAAAAAAAAAAAAAAAAAAAAAAAAAAAAAAAAAAAAAAAAAAAAAAAAAADCeTO7AAAAAAAAAACfEjXFvTCzvA==\"},\"type\":\"scatter\"},{\"mode\":\"markers\",\"name\":\"QAOA p=1 + QRR\",\"x\":[0.0,0.03173325955867767,0.06346651911735535,0.09519977867603302,0.1269330382347107,0.15866629779338837,0.19039955735206604,0.2221328169107437,0.2538660764694214,0.28559932112693787,0.31733259558677673,0.3490658402442932,0.3807991147041321,0.41253235936164856,0.4442656338214874,0.4759988784790039,0.5077321529388428,0.5394654273986816,0.5711986422538757,0.6029319167137146,0.6346651911735535,0.6663984656333923,0.6981316804885864,0.7298649549484253,0.7615982294082642,0.793331503868103,0.8250647187232971,0.856797993183136,0.8885312676429749,0.9202645421028137,0.9519977569580078,0.9837310314178467,1.0154643058776855,1.0471975803375244,1.0789308547973633,1.1106640100479126,1.1423972845077515,1.1741305589675903,1.2058638334274292,1.237597107887268,1.269330382347107,1.3010636568069458,1.3327969312667847,1.364530086517334,1.3962633609771729,1.4279966354370117,1.4597299098968506,1.4914631843566895,1.5231964588165283,1.5549297332763672,1.586663007736206,1.6183961629867554,1.6501294374465942,1.681862711906433,1.713595986366272,1.7453292608261108,1.7770625352859497,1.8087958097457886,1.8405290842056274,1.8722622394561768,1.9039955139160156,1.9357287883758545,1.9674620628356934,1.9991953372955322,2.030928611755371,2.06266188621521,2.094395160675049,2.1261284351348877,2.1578617095947266,2.1895949840545654,2.221328020095825,2.253061294555664,2.284794569015503,2.316527843475342,2.3482611179351807,2.3799943923950195,2.4117276668548584,2.4434609413146973,2.475194215774536,2.506927490234375,2.538660764694214,2.5703940391540527,2.6021273136138916,2.6338605880737305,2.6655938625335693,2.697327136993408,2.729060173034668,2.760793447494507,2.7925267219543457,2.8242599964141846,2.8559932708740234,2.8877265453338623,2.919459819793701,2.95119309425354,2.982926368713379,3.0146596431732178,3.0463929176330566,3.0781261920928955,3.1098594665527344,3.1415927410125732],\"y\":{\"dtype\":\"f8\",\"bdata\":\"AAAAAAAAa8AAAAAAANC8wAAAAAAAAGvAAAAAAAAAa8AAAAAAAMS8wAAAAAAAAGvAAAAAAAAAa8AAAAAAAABrwAAAAAAAAGvAAAAAAAAAa8AAAAAAAABrwAAAAAAAAGvAAAAAAAAAa8AAAAAAAABrwAAAAAAAAGvAAAAAAAAAa8AAAAAAAABrwAAAAAAAAGvAAAAAAAAAa8AAAAAAAABrwAAAAAAAYJLAAAAAAACgkcAAAAAAAGCPwAAAAAAAcJDAAAAAAACwkMAAAAAAAFCQwAAAAAAAYI\\u002fAAAAAAAAQkcAAAAAAACCWwAAAAAAA8JDAAAAAAADgjsAAAAAAAABrwAAAAAAAAGvAAAAAAAAAa8AAAAAAAABrwAAAAAAAAGvAAAAAAAAAa8AAAAAAAABrwAAAAAAAAGvAAAAAAAAAa8AAAAAAAABrwAAAAAAAAGvAAAAAAADEvMAAAAAAAABrwAAAAAAAAGvAAAAAAADEvMAAAAAAAMS8wAAAAAAAAGvAAAAAAAD8vMAAAAAAANC8wAAAAAAA0LzAAAAAAAD8vMAAAAAAAABrwAAAAAAAxLzAAAAAAADEvMAAAAAAAABrwAAAAAAAAGvAAAAAAADEvMAAAAAAAABrwAAAAAAAAGvAAAAAAAAAa8AAAAAAAABrwAAAAAAAAGvAAAAAAAAAa8AAAAAAAABrwAAAAAAAAGvAAAAAAAAAa8AAAAAAAABrwAAAAAAAAGvAAAAAAADgjsAAAAAAAPCQwAAAAAAAIJbAAAAAAAAQkcAAAAAAAGCPwAAAAAAAUJDAAAAAAACwkMAAAAAAAHCQwAAAAAAAYI\\u002fAAAAAAACgkcAAAAAAAGCSwAAAAAAAAGvAAAAAAAAAa8AAAAAAAABrwAAAAAAAAGvAAAAAAAAAa8AAAAAAAABrwAAAAAAAAGvAAAAAAAAAa8AAAAAAAABrwAAAAAAAAGvAAAAAAAAAa8AAAAAAAABrwAAAAAAAAGvAAAAAAAAAa8AAAAAAAABrwAAAAAAAxLzAAAAAAAAAa8AAAAAAAABrwAAAAAAA0LzAAAAAAADEvMA=\"},\"type\":\"scatter\"}],                        {\"template\":{\"data\":{\"histogram2dcontour\":[{\"type\":\"histogram2dcontour\",\"colorbar\":{\"outlinewidth\":0,\"ticks\":\"\"},\"colorscale\":[[0.0,\"#0d0887\"],[0.1111111111111111,\"#46039f\"],[0.2222222222222222,\"#7201a8\"],[0.3333333333333333,\"#9c179e\"],[0.4444444444444444,\"#bd3786\"],[0.5555555555555556,\"#d8576b\"],[0.6666666666666666,\"#ed7953\"],[0.7777777777777778,\"#fb9f3a\"],[0.8888888888888888,\"#fdca26\"],[1.0,\"#f0f921\"]]}],\"choropleth\":[{\"type\":\"choropleth\",\"colorbar\":{\"outlinewidth\":0,\"ticks\":\"\"}}],\"histogram2d\":[{\"type\":\"histogram2d\",\"colorbar\":{\"outlinewidth\":0,\"ticks\":\"\"},\"colorscale\":[[0.0,\"#0d0887\"],[0.1111111111111111,\"#46039f\"],[0.2222222222222222,\"#7201a8\"],[0.3333333333333333,\"#9c179e\"],[0.4444444444444444,\"#bd3786\"],[0.5555555555555556,\"#d8576b\"],[0.6666666666666666,\"#ed7953\"],[0.7777777777777778,\"#fb9f3a\"],[0.8888888888888888,\"#fdca26\"],[1.0,\"#f0f921\"]]}],\"heatmap\":[{\"type\":\"heatmap\",\"colorbar\":{\"outlinewidth\":0,\"ticks\":\"\"},\"colorscale\":[[0.0,\"#0d0887\"],[0.1111111111111111,\"#46039f\"],[0.2222222222222222,\"#7201a8\"],[0.3333333333333333,\"#9c179e\"],[0.4444444444444444,\"#bd3786\"],[0.5555555555555556,\"#d8576b\"],[0.6666666666666666,\"#ed7953\"],[0.7777777777777778,\"#fb9f3a\"],[0.8888888888888888,\"#fdca26\"],[1.0,\"#f0f921\"]]}],\"contourcarpet\":[{\"type\":\"contourcarpet\",\"colorbar\":{\"outlinewidth\":0,\"ticks\":\"\"}}],\"contour\":[{\"type\":\"contour\",\"colorbar\":{\"outlinewidth\":0,\"ticks\":\"\"},\"colorscale\":[[0.0,\"#0d0887\"],[0.1111111111111111,\"#46039f\"],[0.2222222222222222,\"#7201a8\"],[0.3333333333333333,\"#9c179e\"],[0.4444444444444444,\"#bd3786\"],[0.5555555555555556,\"#d8576b\"],[0.6666666666666666,\"#ed7953\"],[0.7777777777777778,\"#fb9f3a\"],[0.8888888888888888,\"#fdca26\"],[1.0,\"#f0f921\"]]}],\"surface\":[{\"type\":\"surface\",\"colorbar\":{\"outlinewidth\":0,\"ticks\":\"\"},\"colorscale\":[[0.0,\"#0d0887\"],[0.1111111111111111,\"#46039f\"],[0.2222222222222222,\"#7201a8\"],[0.3333333333333333,\"#9c179e\"],[0.4444444444444444,\"#bd3786\"],[0.5555555555555556,\"#d8576b\"],[0.6666666666666666,\"#ed7953\"],[0.7777777777777778,\"#fb9f3a\"],[0.8888888888888888,\"#fdca26\"],[1.0,\"#f0f921\"]]}],\"mesh3d\":[{\"type\":\"mesh3d\",\"colorbar\":{\"outlinewidth\":0,\"ticks\":\"\"}}],\"scatter\":[{\"fillpattern\":{\"fillmode\":\"overlay\",\"size\":10,\"solidity\":0.2},\"type\":\"scatter\"}],\"parcoords\":[{\"type\":\"parcoords\",\"line\":{\"colorbar\":{\"outlinewidth\":0,\"ticks\":\"\"}}}],\"scatterpolargl\":[{\"type\":\"scatterpolargl\",\"marker\":{\"colorbar\":{\"outlinewidth\":0,\"ticks\":\"\"}}}],\"bar\":[{\"error_x\":{\"color\":\"#2a3f5f\"},\"error_y\":{\"color\":\"#2a3f5f\"},\"marker\":{\"line\":{\"color\":\"#E5ECF6\",\"width\":0.5},\"pattern\":{\"fillmode\":\"overlay\",\"size\":10,\"solidity\":0.2}},\"type\":\"bar\"}],\"scattergeo\":[{\"type\":\"scattergeo\",\"marker\":{\"colorbar\":{\"outlinewidth\":0,\"ticks\":\"\"}}}],\"scatterpolar\":[{\"type\":\"scatterpolar\",\"marker\":{\"colorbar\":{\"outlinewidth\":0,\"ticks\":\"\"}}}],\"histogram\":[{\"marker\":{\"pattern\":{\"fillmode\":\"overlay\",\"size\":10,\"solidity\":0.2}},\"type\":\"histogram\"}],\"scattergl\":[{\"type\":\"scattergl\",\"marker\":{\"colorbar\":{\"outlinewidth\":0,\"ticks\":\"\"}}}],\"scatter3d\":[{\"type\":\"scatter3d\",\"line\":{\"colorbar\":{\"outlinewidth\":0,\"ticks\":\"\"}},\"marker\":{\"colorbar\":{\"outlinewidth\":0,\"ticks\":\"\"}}}],\"scattermap\":[{\"type\":\"scattermap\",\"marker\":{\"colorbar\":{\"outlinewidth\":0,\"ticks\":\"\"}}}],\"scattermapbox\":[{\"type\":\"scattermapbox\",\"marker\":{\"colorbar\":{\"outlinewidth\":0,\"ticks\":\"\"}}}],\"scatterternary\":[{\"type\":\"scatterternary\",\"marker\":{\"colorbar\":{\"outlinewidth\":0,\"ticks\":\"\"}}}],\"scattercarpet\":[{\"type\":\"scattercarpet\",\"marker\":{\"colorbar\":{\"outlinewidth\":0,\"ticks\":\"\"}}}],\"carpet\":[{\"aaxis\":{\"endlinecolor\":\"#2a3f5f\",\"gridcolor\":\"white\",\"linecolor\":\"white\",\"minorgridcolor\":\"white\",\"startlinecolor\":\"#2a3f5f\"},\"baxis\":{\"endlinecolor\":\"#2a3f5f\",\"gridcolor\":\"white\",\"linecolor\":\"white\",\"minorgridcolor\":\"white\",\"startlinecolor\":\"#2a3f5f\"},\"type\":\"carpet\"}],\"table\":[{\"cells\":{\"fill\":{\"color\":\"#EBF0F8\"},\"line\":{\"color\":\"white\"}},\"header\":{\"fill\":{\"color\":\"#C8D4E3\"},\"line\":{\"color\":\"white\"}},\"type\":\"table\"}],\"barpolar\":[{\"marker\":{\"line\":{\"color\":\"#E5ECF6\",\"width\":0.5},\"pattern\":{\"fillmode\":\"overlay\",\"size\":10,\"solidity\":0.2}},\"type\":\"barpolar\"}],\"pie\":[{\"automargin\":true,\"type\":\"pie\"}]},\"layout\":{\"autotypenumbers\":\"strict\",\"colorway\":[\"#636efa\",\"#EF553B\",\"#00cc96\",\"#ab63fa\",\"#FFA15A\",\"#19d3f3\",\"#FF6692\",\"#B6E880\",\"#FF97FF\",\"#FECB52\"],\"font\":{\"color\":\"#2a3f5f\"},\"hovermode\":\"closest\",\"hoverlabel\":{\"align\":\"left\"},\"paper_bgcolor\":\"white\",\"plot_bgcolor\":\"#E5ECF6\",\"polar\":{\"bgcolor\":\"#E5ECF6\",\"angularaxis\":{\"gridcolor\":\"white\",\"linecolor\":\"white\",\"ticks\":\"\"},\"radialaxis\":{\"gridcolor\":\"white\",\"linecolor\":\"white\",\"ticks\":\"\"}},\"ternary\":{\"bgcolor\":\"#E5ECF6\",\"aaxis\":{\"gridcolor\":\"white\",\"linecolor\":\"white\",\"ticks\":\"\"},\"baxis\":{\"gridcolor\":\"white\",\"linecolor\":\"white\",\"ticks\":\"\"},\"caxis\":{\"gridcolor\":\"white\",\"linecolor\":\"white\",\"ticks\":\"\"}},\"coloraxis\":{\"colorbar\":{\"outlinewidth\":0,\"ticks\":\"\"}},\"colorscale\":{\"sequential\":[[0.0,\"#0d0887\"],[0.1111111111111111,\"#46039f\"],[0.2222222222222222,\"#7201a8\"],[0.3333333333333333,\"#9c179e\"],[0.4444444444444444,\"#bd3786\"],[0.5555555555555556,\"#d8576b\"],[0.6666666666666666,\"#ed7953\"],[0.7777777777777778,\"#fb9f3a\"],[0.8888888888888888,\"#fdca26\"],[1.0,\"#f0f921\"]],\"sequentialminus\":[[0.0,\"#0d0887\"],[0.1111111111111111,\"#46039f\"],[0.2222222222222222,\"#7201a8\"],[0.3333333333333333,\"#9c179e\"],[0.4444444444444444,\"#bd3786\"],[0.5555555555555556,\"#d8576b\"],[0.6666666666666666,\"#ed7953\"],[0.7777777777777778,\"#fb9f3a\"],[0.8888888888888888,\"#fdca26\"],[1.0,\"#f0f921\"]],\"diverging\":[[0,\"#8e0152\"],[0.1,\"#c51b7d\"],[0.2,\"#de77ae\"],[0.3,\"#f1b6da\"],[0.4,\"#fde0ef\"],[0.5,\"#f7f7f7\"],[0.6,\"#e6f5d0\"],[0.7,\"#b8e186\"],[0.8,\"#7fbc41\"],[0.9,\"#4d9221\"],[1,\"#276419\"]]},\"xaxis\":{\"gridcolor\":\"white\",\"linecolor\":\"white\",\"ticks\":\"\",\"title\":{\"standoff\":15},\"zerolinecolor\":\"white\",\"automargin\":true,\"zerolinewidth\":2},\"yaxis\":{\"gridcolor\":\"white\",\"linecolor\":\"white\",\"ticks\":\"\",\"title\":{\"standoff\":15},\"zerolinecolor\":\"white\",\"automargin\":true,\"zerolinewidth\":2},\"scene\":{\"xaxis\":{\"backgroundcolor\":\"#E5ECF6\",\"gridcolor\":\"white\",\"linecolor\":\"white\",\"showbackground\":true,\"ticks\":\"\",\"zerolinecolor\":\"white\",\"gridwidth\":2},\"yaxis\":{\"backgroundcolor\":\"#E5ECF6\",\"gridcolor\":\"white\",\"linecolor\":\"white\",\"showbackground\":true,\"ticks\":\"\",\"zerolinecolor\":\"white\",\"gridwidth\":2},\"zaxis\":{\"backgroundcolor\":\"#E5ECF6\",\"gridcolor\":\"white\",\"linecolor\":\"white\",\"showbackground\":true,\"ticks\":\"\",\"zerolinecolor\":\"white\",\"gridwidth\":2}},\"shapedefaults\":{\"line\":{\"color\":\"#2a3f5f\"}},\"annotationdefaults\":{\"arrowcolor\":\"#2a3f5f\",\"arrowhead\":0,\"arrowwidth\":1},\"geo\":{\"bgcolor\":\"white\",\"landcolor\":\"#E5ECF6\",\"subunitcolor\":\"white\",\"showland\":true,\"showlakes\":true,\"lakecolor\":\"white\"},\"title\":{\"x\":0.05},\"mapbox\":{\"style\":\"light\"}}},\"font\":{\"size\":14},\"title\":{\"text\":\"QAOA p=1 with analytical betas performance for 500 qubits on HMN=SK;LOC=(1, 2);CFD=CT~DIS_CDN~UNI_CDP~low~-1_high~1_step~1\"},\"xaxis\":{\"title\":{\"text\":\"\\\\gamma\"}},\"yaxis\":{\"title\":{\"text\":\"Energy\"}},\"hovermode\":\"x unified\"},                        {\"responsive\": true}                    ).then(function(){\n",
       "                            \n",
       "var gd = document.getElementById('2deaba10-4019-45e1-91ab-11247f89e880');\n",
       "var x = new MutationObserver(function (mutations, observer) {{\n",
       "        var display = window.getComputedStyle(gd).display;\n",
       "        if (!display || display === 'none') {{\n",
       "            console.log([gd, 'removed!']);\n",
       "            Plotly.purge(gd);\n",
       "            observer.disconnect();\n",
       "        }}\n",
       "}});\n",
       "\n",
       "// Listen for the removal of the full notebook cells\n",
       "var notebookContainer = gd.closest('#notebook-container');\n",
       "if (notebookContainer) {{\n",
       "    x.observe(notebookContainer, {childList: true});\n",
       "}}\n",
       "\n",
       "// Listen for the clearing of the current output cell\n",
       "var outputEl = gd.closest('.output');\n",
       "if (outputEl) {{\n",
       "    x.observe(outputEl, {childList: true});\n",
       "}}\n",
       "\n",
       "                        })                };            </script>        </div>"
      ]
     },
     "metadata": {},
     "output_type": "display_data",
     "jetTransient": {
      "display_id": null
     }
    }
   ],
   "execution_count": 11
  },
  {
   "cell_type": "code",
   "execution_count": null,
   "id": "14",
   "metadata": {},
   "outputs": [],
   "source": []
  },
  {
   "cell_type": "code",
   "execution_count": null,
   "id": "15",
   "metadata": {},
   "outputs": [],
   "source": []
  }
 ],
 "metadata": {
  "kernelspec": {
   "display_name": "Python 3",
   "language": "python",
   "name": "python3"
  },
  "language_info": {
   "codemirror_mode": {
    "name": "ipython",
    "version": 2
   },
   "file_extension": ".py",
   "mimetype": "text/x-python",
   "name": "python",
   "nbconvert_exporter": "python",
   "pygments_lexer": "ipython2",
   "version": "2.7.6"
  }
 },
 "nbformat": 4,
 "nbformat_minor": 5
}
