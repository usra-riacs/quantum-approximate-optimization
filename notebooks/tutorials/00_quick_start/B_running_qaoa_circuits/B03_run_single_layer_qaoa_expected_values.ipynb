{
 "cells": [
  {
   "cell_type": "code",
   "id": "0",
   "metadata": {},
   "source": [
    "%load_ext autoreload\n",
    "%autoreload 2"
   ],
   "outputs": [],
   "execution_count": null
  },
  {
   "cell_type": "code",
   "id": "1",
   "metadata": {},
   "source": [
    "import numpy as np\n",
    "from quapopt.data_analysis.data_handling import (COEFFICIENTS_TYPE,\n",
    "                                                 COEFFICIENTS_DISTRIBUTION,\n",
    "                                                 CoefficientsDistributionSpecifier,\n",
    "                                                 HAMILTONIAN_MODELS)\n",
    "from quapopt.hamiltonians.generators import build_hamiltonian_generator\n",
    "from quapopt.optimization.QAOA.simulation.QAOARunnerExpValues import QAOARunnerExpValues\n",
    "from quapopt.optimization.parameter_setting import (OptimizerType)\n",
    "from quapopt.optimization.parameter_setting.variational.QAOAOptimizationRunner import QAOAOptimizationRunner\n",
    "from quapopt.optimization.parameter_setting.variational.scipy_tools.ScipyOptimizerWrapped import ScipyOptimizerWrapped\n",
    "from quapopt.optimization.parameter_setting.non_adaptive_optimization.SimpleGridOptimizer import SimpleGridOptimizer\n",
    "from quapopt.optimization.parameter_setting import (ParametersBoundType as PBT)"
   ],
   "outputs": [],
   "execution_count": null
  },
  {
   "cell_type": "code",
   "id": "2",
   "metadata": {},
   "source": [
    "coefficients_type = COEFFICIENTS_TYPE.DISCRETE\n",
    "coefficients_distribution = COEFFICIENTS_DISTRIBUTION.Uniform\n",
    "coefficients_distribution_properties = {'low': -1, 'high': 1, 'step': 1}\n",
    "coefficients_distribution_specifier = CoefficientsDistributionSpecifier(CoefficientsType=coefficients_type,\n",
    "                                                                        CoefficientsDistributionName=coefficients_distribution,\n",
    "                                                                        CoefficientsDistributionProperties=coefficients_distribution_properties)\n",
    "\n",
    "# We generate a Hamiltonian instance. In this case it's a random Sherrington-Kirkpatrick Hamiltonian\n",
    "hamiltonian_model = HAMILTONIAN_MODELS.SherringtonKirkpatrick\n",
    "localities = (1, 2,)\n",
    "\n",
    "generator_cost_hamiltonian = build_hamiltonian_generator(hamiltonian_model=hamiltonian_model,\n",
    "                                                         localities=localities,\n",
    "                                                         coefficients_distribution_specifier=coefficients_distribution_specifier)\n",
    "\n",
    "\n",
    "\n"
   ],
   "outputs": [],
   "execution_count": null
  },
  {
   "cell_type": "markdown",
   "id": "3",
   "metadata": {},
   "source": [
    "## Large-scale p=1 QAOA simulation\n",
    "* Here we will test simulation of p=1 2-local expected values on large number of qubits.\n",
    "* NOTE: this is optimized for GPUs, so if you don't have CUDA, it might be slow for more than 100 qubits\n",
    "* To make it more interesting, we will use analytical expressions for optimal betas for each gamma, so we only need to optimize over single parameter. (note that this works only in simulation)"
   ]
  },
  {
   "cell_type": "code",
   "id": "4",
   "metadata": {},
   "source": [
    "\n",
    "number_of_qubits = 100\n",
    "seed_cost_hamiltonian = 1\n",
    "\n",
    "cost_hamiltonian = generator_cost_hamiltonian.generate_instance(number_of_qubits=number_of_qubits,\n",
    "                                                                seed=seed_cost_hamiltonian,\n",
    "                                                                read_from_drive_if_present=True,\n",
    "                                                                #clause_density=1.2,\n",
    "                                                                #graph_degree=4\n",
    "                                                                )\n",
    "cost_hamiltonian.solve_hamiltonian()\n",
    "\n",
    "#cost_hamiltonian.localities\n",
    "cost_hamiltonian.lowest_energy\n"
   ],
   "outputs": [],
   "execution_count": null
  },
  {
   "cell_type": "code",
   "id": "5",
   "metadata": {},
   "source": [
    "\n",
    "number_of_function_calls = 1000\n",
    "\n",
    "single_bound = (0, np.pi)\n",
    "\n",
    "#let's use grid search optimizer\n",
    "#just single parameter\n",
    "classical_optimizer = SimpleGridOptimizer(parameter_bounds=[(PBT.RANGE, single_bound)],\n",
    "                                            max_trials=number_of_function_calls)\n",
    "\n",
    "#uncomment to use COBYLA optimizer instead\n",
    "# classical_optimizer = ScipyOptimizerWrapped(parameters_bounds=[single_bound],\n",
    "#                                             argument_names = ['Angles-0'],\n",
    "                                            # optimizer_name='COBYLA',\n",
    "                                            # optimizer_kwargs=None,\n",
    "                                            # basinhopping=True,\n",
    "                                            # basinhopping_kwargs={'niter': 3},\n",
    "                                            # starting_point=[0.05]\n",
    "                                            # )"
   ],
   "outputs": [],
   "execution_count": null
  },
  {
   "cell_type": "code",
   "id": "6",
   "metadata": {},
   "source": [
    "#if set to None, the simulator will be chosen automatically\n",
    "simulator = None\n",
    "precision = np.float32\n",
    "\n",
    "qaoa_runner_analytical = QAOARunnerExpValues(hamiltonian_representations_cost=[cost_hamiltonian],\n",
    "                                             store_full_information_in_history=True,\n",
    "                                             simulator_name=simulator,\n",
    "                                             precision_float=precision)\n",
    "qaoa_optimizer_analytical = QAOAOptimizationRunner(qaoa_runner_analytical)\n",
    "\n",
    "#whether to store all 2-local expected values in memory\n",
    "store_correlators = True\n",
    "\n",
    "#whether to optimize over betas or use analytical betas; if False, you also need to adjust optimizer setting in previous cell to include two parameters instead of one\n",
    "analytical_betas = True\n",
    "best_result_analytical, optimization_res_analytical = qaoa_optimizer_analytical.run_optimization(qaoa_depth=1,\n",
    "                                                                                                 number_of_function_calls=number_of_function_calls,\n",
    "                                                                                                 classical_optimizer=classical_optimizer,\n",
    "                                                                                                 measurement_noise=None,\n",
    "                                                                                                 show_progress_bar=True,\n",
    "                                                                                                 verbosity=0,\n",
    "                                                                                                 analytical_betas=analytical_betas,\n",
    "                                                                                                 store_correlators=store_correlators)\n",
    "print(best_result_analytical)\n"
   ],
   "outputs": [],
   "execution_count": null
  },
  {
   "cell_type": "code",
   "id": "7",
   "metadata": {},
   "source": [
    "print(best_result_analytical[0])\n",
    "#accessing correlators\n",
    "#Note: THOSE ARE REALLY WEIGHTED CORRELATORS (LOCAL EXPECTED VALUES), i.e., J_{ij} * Z_iZ_j;\n",
    "#To get ZiZj, please divide by coefficients\n",
    "best_correlators =  best_result_analytical[0][1][1].correlators\n",
    "best_energy = best_result_analytical[0][0]\n",
    "\n",
    "\n",
    "print('best energy:', best_energy)\n",
    "print(np.round(best_result_analytical[0][1][1].correlators,3))"
   ],
   "outputs": [],
   "execution_count": null
  },
  {
   "cell_type": "markdown",
   "id": "8",
   "metadata": {},
   "source": [
    "### Quantum Relax and Round (QRR) algorithm\n",
    "\n",
    "We can also apply QRR algorithm to obtain candidate solutions from exp-values of the cost Hamiltonian. The QRR algorithm is based on a matrix of 2-local correlations. The algorithm is described in Ref [1].\n",
    "\n",
    "[1] Dupont, Maxime, and Bhuvanesh Sundar. \"Extending relax-and-round combinatorial optimization solvers with quantum correlations.\" Physical Review A 109, no. 1 (2024): 012429."
   ]
  },
  {
   "cell_type": "code",
   "id": "9",
   "metadata": {},
   "source": [
    "if store_correlators:\n",
    "    #This is possible only if we stored correlators\n",
    "    best_result_qrr, (\n",
    "    opt_res_qrr, best_bitstrings_qrr, _) = qaoa_optimizer_analytical.apply_QRR_to_optimization_results(\n",
    "        return_full_history=False,\n",
    "        show_progress_bar=True)\n"
   ],
   "outputs": [],
   "execution_count": null
  },
  {
   "cell_type": "code",
   "id": "10",
   "metadata": {},
   "source": [
    "xs_qrr = [x[0] for x in opt_res_qrr.trials_dataframe['Angles'].values]\n",
    "ys_qrr = opt_res_qrr.trials_dataframe['Energy']"
   ],
   "outputs": [],
   "execution_count": null
  },
  {
   "cell_type": "code",
   "id": "11",
   "metadata": {},
   "source": [
    "import plotly\n",
    "\n",
    "plotly.io.templates.default = \"plotly\"\n",
    "plotly.offline.init_notebook_mode(connected=True)"
   ],
   "outputs": [],
   "execution_count": null
  },
  {
   "cell_type": "markdown",
   "id": "12",
   "metadata": {},
   "source": [
    "### Visualization\n",
    "\n",
    "* Let's take a look at a simple visualization of the NDAR optimization.\n"
   ]
  },
  {
   "cell_type": "code",
   "id": "13",
   "metadata": {},
   "source": [
    "import plotly\n",
    "import plotly.graph_objects as go\n",
    "\n",
    "plotly.io.templates.default = \"plotly\"\n",
    "plotly.offline.init_notebook_mode(connected=True)"
   ],
   "outputs": [],
   "execution_count": null
  },
  {
   "cell_type": "code",
   "id": "14",
   "metadata": {},
   "source": [
    "xs = optimization_res_analytical.trials_dataframe['ARG-0']\n",
    "ys = optimization_res_analytical.trials_dataframe['FunctionValue']\n",
    "\n",
    "fig = go.Figure()\n",
    "fig.add_trace(go.Scatter(x=xs, y=ys, mode='markers', name='QAOA p=1'))\n",
    "if store_correlators:\n",
    "    fig.add_trace(go.Scatter(x=xs_qrr, y=ys_qrr, mode='markers', name='QAOA p=1 + QRR'))\n",
    "\n",
    "fig.update_layout(\n",
    "    title=f\"QAOA p=1 with analytical betas performance for {number_of_qubits} qubits on {cost_hamiltonian.hamiltonian_class_specifier.get_description_string()}\",\n",
    "    xaxis_title=\"\\gamma\",\n",
    "    yaxis_title=\"Energy\",\n",
    "    template=\"plotly\",\n",
    "    font=dict(size=14),\n",
    "    hovermode=\"x unified\")\n",
    "\n",
    "plotly.offline.plot(fig,\n",
    "                    filename=f'../temp/p1_simulator_analytical_betas_n={number_of_qubits}.html')\n",
    "fig.show()"
   ],
   "outputs": [],
   "execution_count": null
  },
  {
   "cell_type": "code",
   "id": "15",
   "metadata": {},
   "source": [],
   "outputs": [],
   "execution_count": null
  },
  {
   "cell_type": "code",
   "id": "16",
   "metadata": {},
   "source": [],
   "outputs": [],
   "execution_count": null
  }
 ],
 "metadata": {
  "kernelspec": {
   "display_name": "Python 3",
   "language": "python",
   "name": "python3"
  },
  "language_info": {
   "codemirror_mode": {
    "name": "ipython",
    "version": 2
   },
   "file_extension": ".py",
   "mimetype": "text/x-python",
   "name": "python",
   "nbconvert_exporter": "python",
   "pygments_lexer": "ipython2",
   "version": "2.7.6"
  }
 },
 "nbformat": 4,
 "nbformat_minor": 5
}
