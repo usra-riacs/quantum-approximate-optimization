{
 "cells": [
  {
   "cell_type": "code",
   "execution_count": null,
   "id": "0",
   "metadata": {},
   "outputs": [],
   "source": [
    "\n",
    "%load_ext autoreload\n",
    "%autoreload 2"
   ]
  },
  {
   "cell_type": "code",
   "execution_count": null,
   "id": "1",
   "metadata": {},
   "outputs": [],
   "source": [
    "import os\n",
    "\n",
    "import numpy as np\n",
    "from dotenv import load_dotenv\n",
    "\n",
    "load_dotenv();"
   ]
  },
  {
   "cell_type": "markdown",
   "id": "2",
   "metadata": {},
   "source": [
    "### Generate a random Hamiltonian instance\n",
    "\n",
    "* In this example, we generate a random Sherrington-Kirkpatrick Hamiltonian.\n",
    "* In general, we can generate other classes, or read the instances from file.\n",
    "* We can also solve the Hamiltonian classicaly, to get the ground state energy and the highest energy. (this, of course, should be done offline, before running the QAOA)\n"
   ]
  },
  {
   "cell_type": "code",
   "execution_count": null,
   "id": "3",
   "metadata": {},
   "outputs": [],
   "source": [
    "from quapopt.hamiltonians.generators import build_hamiltonian_generator\n",
    "from quapopt.data_analysis.data_handling import (COEFFICIENTS_TYPE,\n",
    "                                                 COEFFICIENTS_DISTRIBUTION,\n",
    "                                                 CoefficientsDistributionSpecifier,\n",
    "                                                 HAMILTONIAN_MODELS)\n",
    "\n",
    "number_of_qubits = 5\n",
    "seed_cost_hamiltonian = 1\n",
    "\n",
    "coefficients_type = COEFFICIENTS_TYPE.DISCRETE\n",
    "coefficients_distribution = COEFFICIENTS_DISTRIBUTION.Uniform\n",
    "coefficients_distribution_properties = {'low': -1, 'high': 1, 'step': 1}\n",
    "coefficients_distribution_specifier = CoefficientsDistributionSpecifier(CoefficientsType=coefficients_type,\n",
    "                                                                        CoefficientsDistributionName=coefficients_distribution,\n",
    "                                                                        CoefficientsDistributionProperties=coefficients_distribution_properties)\n",
    "\n",
    "# We generate a Hamiltonian instance. In this case it's a random Sherrington-Kirkpatrick Hamiltonian\n",
    "hamiltonian_model = HAMILTONIAN_MODELS.SherringtonKirkpatrick\n",
    "localities = (1, 2)\n",
    "generator_cost_hamiltonian = build_hamiltonian_generator(hamiltonian_model=hamiltonian_model,\n",
    "                                                         localities=localities,\n",
    "                                                         coefficients_distribution_specifier=coefficients_distribution_specifier)\n",
    "\n",
    "cost_hamiltonian = generator_cost_hamiltonian.generate_instance(number_of_qubits=number_of_qubits,\n",
    "                                                                seed=seed_cost_hamiltonian,\n",
    "                                                                read_from_drive_if_present=True)\n",
    "\n",
    "print(\"Class description (cost):\", cost_hamiltonian.hamiltonian_class_description)\n",
    "print(\"Instance description (cost):\", cost_hamiltonian.hamiltonian_instance_description)\n",
    "\n",
    "if cost_hamiltonian.lowest_energy is None:\n",
    "    print(\"SOLVING THE HAMILTONIAN CLASSICALLY\")\n",
    "    # if we wish, we can solve the Hamiltonian classically\n",
    "    cost_hamiltonian.solve_hamiltonian(both_directions=True)\n",
    "\n",
    "ground_state_energy = cost_hamiltonian.ground_state_energy\n",
    "highest_energy = cost_hamiltonian.highest_energy"
   ]
  },
  {
   "cell_type": "markdown",
   "id": "4",
   "metadata": {},
   "source": [
    "### Specify the QAOA ansatz parameters\n",
    "* The specification aims to be a bit general so in the future we can add more ansatze.\n",
    "\n",
    "Parameters that are specified include:\n",
    "1. The phase type; in QAOA, this is just $$exp(-i*H*t)$$\n",
    "2. The mixer type; in QAOA, RX rotations\n",
    "3. The qubit routing type. Currently supported Linear Chain SWAP network, Fully Connected topology, or SABRE heuristic for qiskit compilation.\n",
    "4. For linear chain, optional parameters is \"linear_chains_pair_device\" -- this is a list of tuples, where each tuple is a pair of qubits that are connected in the device. This is used to build the SWAP network.\n",
    "5. Gate builder -- this is the class that creates the buidling blocks of the quantum circuit. Here we use logical gates builder\n",
    "6. Ansatz depth -- the number of layers of the QAOA circuit;\n",
    "7. Time block size (optional) -- the number of gates in a block. This is a \"truncated QAOA\" ansatz that our team worked with previously.\n"
   ]
  },
  {
   "cell_type": "code",
   "execution_count": null,
   "id": "5",
   "metadata": {},
   "outputs": [],
   "source": [
    "from quapopt.circuits.gates.logical.LogicalGateBuilderQiskit import LogicalGateBuilderQiskit\n",
    "from quapopt.optimization.QAOA import PhaseSeparatorType, MixerType\n",
    "\n",
    "#gate builder for qiskit\n",
    "gate_builder = LogicalGateBuilderQiskit()\n",
    "qaoa_depth = 1\n",
    "\n",
    "# Parameters of the ansatz\n",
    "time_block_size = None\n",
    "phase_separator_type = PhaseSeparatorType.QAOA\n",
    "mixer_type = MixerType.QAOA\n"
   ]
  },
  {
   "cell_type": "code",
   "execution_count": null,
   "id": "6",
   "metadata": {},
   "outputs": [],
   "source": [
    "from quapopt.optimization.QAOA.circuits.LinearSwapNetworkQAOACircuit import LinearSwapNetworkQAOACircuit\n",
    "\n",
    "ansatz_LSN = LinearSwapNetworkQAOACircuit(sdk_name='qiskit',\n",
    "                                          depth=1,\n",
    "                                          hamiltonian_phase=cost_hamiltonian,\n",
    "                                          program_gate_builder=gate_builder,\n",
    "                                          time_block_size=time_block_size,\n",
    "                                          phase_separator_type=phase_separator_type,\n",
    "                                          mixer_type=mixer_type)\n",
    "#the \"QAOACircuit\" class is a bit more general; it has an attribute that is proper qiskit's circuit\n",
    "ansatz_circuit_LSN = ansatz_LSN.quantum_circuit\n",
    "print(ansatz_circuit_LSN.qregs, ansatz_circuit_LSN.cregs)\n",
    "ansatz_circuit_LSN = gate_builder.add_measurements(quantum_circuit=ansatz_circuit_LSN,\n",
    "                                                   qubit_indices=list(range(number_of_qubits)),\n",
    "                                                   classical_indices=list(range(number_of_qubits))\n",
    "                                                   )\n",
    "ansatz_circuit_LSN.draw('mpl')"
   ]
  },
  {
   "cell_type": "code",
   "execution_count": null,
   "id": "7",
   "metadata": {},
   "outputs": [],
   "source": [
    "from quapopt.optimization.QAOA.circuits.FullyConnectedQAOACircuit import FullyConnectedQAOACircuit\n",
    "\n",
    "ansatz_FC = FullyConnectedQAOACircuit(sdk_name='qiskit',\n",
    "                                      depth=1,\n",
    "                                      hamiltonian_phase=cost_hamiltonian,\n",
    "                                      program_gate_builder=gate_builder,\n",
    "                                      time_block_size=time_block_size,\n",
    "                                      phase_separator_type=phase_separator_type,\n",
    "                                      mixer_type=mixer_type,\n",
    "                                      every_gate_has_its_own_parameter=False,\n",
    "                                      add_barriers=True)\n",
    "\n",
    "ansatz_circuit_FC = ansatz_FC.quantum_circuit\n",
    "ansatz_circuit_FC = gate_builder.add_measurements(quantum_circuit=ansatz_circuit_FC,\n",
    "                                                  qubit_indices=list(range(number_of_qubits)),\n",
    "                                                  classical_indices=list(range(number_of_qubits))[::-1]\n",
    "                                                  )\n",
    "ansatz_circuit_FC.draw('mpl')\n"
   ]
  },
  {
   "cell_type": "code",
   "execution_count": null,
   "id": "8",
   "metadata": {},
   "outputs": [],
   "source": [
    "from quapopt.optimization.QAOA.circuits.SabreMappedQAOACircuit import SabreMappedQAOACircuit\n",
    "from quapopt.optimization.QAOA import QubitMappingType\n",
    "from quapopt.circuits import backend_utilities as bck_utils\n",
    "\n",
    "#Change to your actual instance and account name; here we assume it's set in the environment variables\n",
    "instance_name_ibm = os.getenv('IBM_INSTANCE_NAME')\n",
    "account_name_ibm = os.getenv('IBM_ACCOUNT_NAME')\n",
    "\n",
    "#get the provider for the IBM Qiskit backend; we need it to run the SABRE pass manager\n",
    "provider_ibm = bck_utils.get_qiskit_provider(instance_ibm=instance_name_ibm,\n",
    "                                             account_name=account_name_ibm)\n",
    "\n",
    "qiskit_backend_noiseless, pass_manager_noiseless, qubit_indices_physical_noiseless, pass_manager_kwargs_noiseless = bck_utils.get_default_qiskit_backend_and_pass_manager(\n",
    "    provider=provider_ibm,\n",
    "    backend_name='aer',\n",
    "    simulation=True,\n",
    "    qubit_mapping_type=QubitMappingType.sabre,\n",
    "    number_of_qubits=number_of_qubits,\n",
    "    backend_kwargs=None,  #use defaults\n",
    "    pass_manager_kwargs=None,  #use defaults\n",
    "    )\n"
   ]
  },
  {
   "cell_type": "code",
   "execution_count": null,
   "id": "9",
   "metadata": {},
   "outputs": [],
   "source": [
    "ansatz_SABRE = SabreMappedQAOACircuit(  #sdk_name='qiskit', #sabre is available only for qiskit\n",
    "    depth=1,\n",
    "    qiskit_pass_manager=pass_manager_noiseless,\n",
    "    hamiltonian_phase=cost_hamiltonian,\n",
    "    #program_gate_builder=gate_builder, #sabre takes care of the gate building for us\n",
    "    time_block_size=time_block_size,\n",
    "    phase_separator_type=phase_separator_type,\n",
    "    mixer_type=mixer_type,\n",
    "    # add_barriers=True # #sabre takes care of the barriers for us\n",
    ")\n",
    "ansatz_circuit_SABRE = ansatz_SABRE.quantum_circuit\n",
    "ansatz_circuit_SABRE = gate_builder.add_measurements(quantum_circuit=ansatz_circuit_SABRE,\n",
    "                                                     qubit_indices=list(range(number_of_qubits)),\n",
    "                                                     classical_indices=list(range(number_of_qubits))\n",
    "                                                     )\n",
    "#if we used real device topology (not aer backend, but real device), SABRE would map the circuit to the device topology\n",
    "ansatz_circuit_SABRE.draw('mpl')\n"
   ]
  },
  {
   "cell_type": "markdown",
   "id": "10",
   "metadata": {},
   "source": [
    "### Translate the QAOA circuit to an ISA circuit"
   ]
  },
  {
   "cell_type": "code",
   "execution_count": null,
   "id": "11",
   "metadata": {},
   "outputs": [],
   "source": [
    "#here we're using simulator to translate the circuit to the ISA of AthensV2 device (5 qubits)\n",
    "from qiskit.transpiler.preset_passmanagers import generate_preset_pass_manager\n",
    "from qiskit_aer.backends.aer_simulator import AerSimulator\n",
    "\n",
    "qiskit_backend = AerSimulator(method='statevector',\n",
    "                              device=\"CPU\")\n",
    "\n",
    "#TODO: verify how well the automatic optimization works. Beware the cases where the structure of the ansatz is not preserved (important for optimization over symmetry tranformations).\n",
    "qiskit_pass_manager = generate_preset_pass_manager(backend=qiskit_backend,\n",
    "                                                   optimization_level=0)\n",
    "isa_circuit = qiskit_pass_manager.run(ansatz_circuit_LSN)\n",
    "isa_circuit.draw('mpl')\n"
   ]
  },
  {
   "cell_type": "markdown",
   "id": "12",
   "metadata": {},
   "source": [
    "### Now set the parameters to specific value"
   ]
  },
  {
   "cell_type": "code",
   "execution_count": null,
   "id": "13",
   "metadata": {},
   "outputs": [],
   "source": [
    "angles_phase_test = [0]\n",
    "angles_mixer_test = [-np.pi / 8]\n",
    "\n",
    "angles_dict = {ansatz_LSN.parameters[0]: angles_phase_test,\n",
    "               ansatz_LSN.parameters[1]: angles_mixer_test}\n",
    "\n",
    "isa_circuit_resolved = gate_builder.parameters_resolver(quantum_circuit=isa_circuit,\n",
    "                                                        memory_map=angles_dict)\n",
    "isa_circuit_resolved.draw('mpl')"
   ]
  },
  {
   "cell_type": "markdown",
   "id": "14",
   "metadata": {},
   "source": [
    "### Run qiskit job"
   ]
  },
  {
   "cell_type": "code",
   "execution_count": null,
   "id": "15",
   "metadata": {},
   "outputs": [],
   "source": [
    "from qiskit import visualization as qiskit_vis\n",
    "\n",
    "job = qiskit_backend.run(isa_circuit_resolved, shots=5)\n",
    "results = job.result()\n",
    "\n",
    "if not results.success:\n",
    "    raise ValueError(\"Whoops, something went wrong!\")\n",
    "\n",
    "counts_dict = results.get_counts(0)\n",
    "print(counts_dict)\n",
    "qiskit_vis.plot_histogram(data=counts_dict)\n"
   ]
  },
  {
   "cell_type": "markdown",
   "id": "16",
   "metadata": {},
   "source": [
    "### Wrapper for qiskit simulator\n",
    "\n",
    "All the above operations can be done in a more convenient way using the wrapper for qiskit simulator."
   ]
  },
  {
   "cell_type": "code",
   "execution_count": null,
   "id": "17",
   "metadata": {},
   "outputs": [],
   "source": [
    "from quapopt.optimization.QAOA.implementation.QAOARunnerQiskit import QAOARunnerQiskit\n",
    "\n",
    "#just set up the whole simulator automatically\n",
    "qaoa_simulator_qiskit = QAOARunnerQiskit(hamiltonian_phase=cost_hamiltonian,\n",
    "                                         qiskit_pass_manager=qiskit_pass_manager,\n",
    "                                         qiskit_backend=qiskit_backend,\n",
    "                                         program_gate_builder=gate_builder,\n",
    "                                         qubit_mapping_type=QubitMappingType.linear_swap_network,\n",
    "                                         qaoa_depth=qaoa_depth,\n",
    "                                         time_block_size=time_block_size,\n",
    "                                         phase_separator_type=phase_separator_type,\n",
    "                                         mixer_type=mixer_type,\n",
    "                                         )\n",
    "\n",
    "#returns the raw job results; but also bitstrings converted to the format used across repo (array of 0s and 1s)\n",
    "job_object, bitstrings_array = qaoa_simulator_qiskit.run_qaoa(angles_PHASE=angles_phase_test,\n",
    "                                                              angles_MIXER=angles_mixer_test,\n",
    "                                                              number_of_samples=5)\n",
    "bitstrings_array"
   ]
  },
  {
   "cell_type": "markdown",
   "id": "18",
   "metadata": {},
   "source": [
    "### Wrapper for QAOA Sampler\n",
    "* In the context of QAOA, we can wrap the simulator a bit more so it's a part of more abstract framework useful in further optimization.\n",
    "* The \"QAOARunnerSampler\" is an abstract class that can be used to run the QAOA with different backends (here we will be interested mostly in qiskit though).\n",
    "* The optimization is a bit more general -- a) we can optimize over ansatz for which phase is not the same as cost; b) we can optimize over multiple representations of the Hamiltonian (e.g., permutations or bitflip gauges); note that b) requires classical optimizer that can actually support it.\n"
   ]
  },
  {
   "cell_type": "code",
   "execution_count": null,
   "id": "19",
   "metadata": {},
   "outputs": [],
   "source": [
    "from quapopt.optimization.QAOA.implementation.QAOARunnerSampler import QAOARunnerSampler\n",
    "#TODO FBM: input format should be handled automatically\n",
    "from quapopt.optimization.QAOA import QAOAFunctionInputFormat as FIFormat\n",
    "\n",
    "#Set up the raw sampler with Hamiltonians as an input\n",
    "qaoa_sampler = QAOARunnerSampler(\n",
    "    hamiltonian_representations_cost=[cost_hamiltonian],\n",
    "    hamiltonian_representations_phase=None,\n",
    "    store_n_best_results=1,\n",
    "    #this might be important in the future\n",
    "    store_full_information_in_history=False,\n",
    "    numpy_rng_sampling=None)\n",
    "\n",
    "#Here we basically run the same thing as before but inside the class; so the ansatze are set up for possibly multiple cost Hamiltonians\n",
    "qaoa_sampler.initialize_backend_qiskit(qiskit_pass_manager=qiskit_pass_manager,\n",
    "                                       qiskit_backend=qiskit_backend,\n",
    "                                       program_gate_builder=gate_builder,\n",
    "                                       qaoa_depth=qaoa_depth,\n",
    "                                       time_block_size=time_block_size,\n",
    "                                       phase_separator_type=phase_separator_type,\n",
    "                                       mixer_type=mixer_type,\n",
    "                                       qubit_indices_physical=None,\n",
    "                                       classical_indices=None)\n",
    "# qaoa_sampler.initialize_backend_qokit()\n",
    "\n",
    "angles_input = [angles_phase_test, angles_mixer_test]\n",
    "hamiltonian_representation_index_input = 0\n",
    "print(angles_input)\n",
    "#Run the QAOA\n",
    "#This returns an internal \"result\" object that stores some information about the run\n",
    "result_ideal, qiskit_job_ideal = qaoa_sampler.run_qaoa(angles_input,\n",
    "                                                       hamiltonian_representation_index_input,\n",
    "                                                       qaoa_depth=qaoa_depth,\n",
    "                                                       return_raw_result=True,\n",
    "                                                       number_of_samples=5000,\n",
    "                                                       #TODO: handle this automatically\n",
    "                                                       input_format=FIFormat.direct_QAOA)\n",
    "\n",
    "print('Mean energy:', result_ideal.energy_mean)\n",
    "print('Best energy:', result_ideal.energy_best)\n",
    "print('GS energy:', ground_state_energy)\n",
    "\n",
    "result = qiskit_job_ideal.result()[0]\n",
    "# a bit of data conversion here\n",
    "counts_dict_tuples = bck_utils.get_counts_from_bit_array(result.data.c,\n",
    "                                                         return_dict=True)\n",
    "counts_dict_str = {''.join(map(str, k)): v for k, v in counts_dict_tuples.items()}\n",
    "\n",
    "qiskit_vis.plot_histogram(data=counts_dict_str)"
   ]
  },
  {
   "cell_type": "markdown",
   "id": "20",
   "metadata": {},
   "source": [
    "### Add measurement noise\n",
    "\n",
    "* We can add classical measurement noise to the simulation. Here we will emulate amplitude damping at the very end of the circuit."
   ]
  },
  {
   "cell_type": "code",
   "execution_count": null,
   "id": "21",
   "metadata": {},
   "outputs": [],
   "source": [
    "from quapopt.circuits.noise.simulation.ClassicalMeasurementNoiseSampler import ClassicalMeasurementNoiseSampler, \\\n",
    "    MeasurementNoiseType\n",
    "from collections import Counter\n",
    "\n",
    "# Fully asymmetric noise -- equivalent to amplitude damping at the end of the circuit\n",
    "p_01 = 0.8\n",
    "p_10 = None\n",
    "CMNS = ClassicalMeasurementNoiseSampler(noise_type=MeasurementNoiseType.TP_1q_identical,\n",
    "                                        noise_description={'p_01': p_01,\n",
    "                                                           'p_10': p_10})\n",
    "\n",
    "result_noisy, _ = qaoa_sampler.run_qaoa(angles_input,\n",
    "                                        hamiltonian_representation_index_input,\n",
    "                                        qaoa_depth=qaoa_depth,\n",
    "                                        return_raw_result=True,\n",
    "                                        number_of_samples=5000,\n",
    "                                        measurement_noise=CMNS,\n",
    "                                        input_format=FIFormat.direct_QAOA)\n",
    "\n",
    "bitstrings_array_noisy = result_noisy.bitstrings_array\n",
    "#alternative data conversion\n",
    "bitstrings_histogram_noisy = Counter([''.join([str(s) for s in bts]) for bts in bitstrings_array_noisy])\n",
    "\n",
    "print('Mean energy:', result_ideal.energy_mean)\n",
    "print('Best energy:', result_ideal.energy_best)\n",
    "print('GS energy:', ground_state_energy)\n",
    "\n",
    "qiskit_vis.plot_histogram(data=bitstrings_histogram_noisy)\n"
   ]
  },
  {
   "cell_type": "code",
   "execution_count": null,
   "id": "22",
   "metadata": {},
   "outputs": [],
   "source": []
  }
 ],
 "metadata": {
  "kernelspec": {
   "display_name": "Python 3",
   "language": "python",
   "name": "python3"
  },
  "language_info": {
   "codemirror_mode": {
    "name": "ipython",
    "version": 2
   },
   "file_extension": ".py",
   "mimetype": "text/x-python",
   "name": "python",
   "nbconvert_exporter": "python",
   "pygments_lexer": "ipython2",
   "version": "2.7.6"
  }
 },
 "nbformat": 4,
 "nbformat_minor": 5
}
