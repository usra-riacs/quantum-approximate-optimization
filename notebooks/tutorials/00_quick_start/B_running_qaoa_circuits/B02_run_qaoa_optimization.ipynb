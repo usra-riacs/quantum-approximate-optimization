{
 "cells": [
  {
   "cell_type": "code",
   "execution_count": null,
   "id": "0",
   "metadata": {},
   "outputs": [],
   "source": [
    "%load_ext autoreload\n",
    "%autoreload 2"
   ]
  },
  {
   "cell_type": "code",
   "execution_count": null,
   "id": "1",
   "metadata": {},
   "outputs": [],
   "source": [
    "import numpy as np\n",
    "import os\n",
    "import datetime\n",
    "from dotenv import load_dotenv\n",
    "load_dotenv();"
   ]
  },
  {
   "cell_type": "code",
   "execution_count": null,
   "id": "2",
   "metadata": {},
   "outputs": [],
   "source": []
  },
  {
   "cell_type": "markdown",
   "id": "3",
   "metadata": {},
   "source": [
    "### Generate a random Hamiltonian instance\n",
    "\n",
    "* In this example, we generate a random Sherrington-Kirkpatrick Hamiltonian.\n",
    "* In general, we can generate other classes, or read the instances from file.\n",
    "* We can also solve the Hamiltonian classicaly, to get the ground state energy and the highest energy. (this, of course, should be done offline, before running the QAOA)\n",
    "\n"
   ]
  },
  {
   "cell_type": "code",
   "execution_count": null,
   "id": "4",
   "metadata": {},
   "outputs": [],
   "source": [
    "from quapopt.hamiltonians.generators import build_hamiltonian_generator\n",
    "from quapopt.data_analysis.data_handling import (COEFFICIENTS_TYPE,\n",
    "                                                 COEFFICIENTS_DISTRIBUTION,\n",
    "                                                 CoefficientsDistributionSpecifier,\n",
    "                                                 HAMILTONIAN_MODELS)\n",
    "\n",
    "number_of_qubits = 10\n",
    "seed_cost_hamiltonian = 1\n",
    "\n",
    "coefficients_type = COEFFICIENTS_TYPE.CONTINUOUS\n",
    "coefficients_distribution = COEFFICIENTS_DISTRIBUTION.Uniform\n",
    "coefficients_distribution_properties = {'low': -1, 'high': 1, 'step': 1}\n",
    "coefficients_distribution_specifier = CoefficientsDistributionSpecifier(CoefficientsType=coefficients_type,\n",
    "                                                                        CoefficientsDistributionName=coefficients_distribution,\n",
    "                                                                        CoefficientsDistributionProperties=coefficients_distribution_properties)\n",
    "\n",
    "# We generate a Hamiltonian instance. In this case it's a random Sherrington-Kirkpatrick Hamiltonian\n",
    "hamiltonian_model = HAMILTONIAN_MODELS.SherringtonKirkpatrick\n",
    "localities = (2,)\n",
    "generator_cost_hamiltonian = build_hamiltonian_generator(hamiltonian_model=hamiltonian_model,\n",
    "                                                         localities=localities,\n",
    "                                                         coefficients_distribution_specifier=coefficients_distribution_specifier)\n",
    "\n",
    "cost_hamiltonian = generator_cost_hamiltonian.generate_instance(number_of_qubits=number_of_qubits,\n",
    "                                                                seed=seed_cost_hamiltonian,\n",
    "                                                                read_from_drive_if_present=True)\n",
    "\n",
    "print(\"Class description (cost):\", cost_hamiltonian.hamiltonian_class_description)\n",
    "print(\"Instance description (cost):\", cost_hamiltonian.hamiltonian_instance_description)\n",
    "\n",
    "if cost_hamiltonian.lowest_energy is None:\n",
    "    print(\"SOLVING THE HAMILTONIAN CLASSICALLY\")\n",
    "    # if we wish, we can solve the Hamiltonian classically\n",
    "    cost_hamiltonian.solve_hamiltonian(both_directions=True)\n",
    "\n",
    "ground_state_energy = cost_hamiltonian.ground_state_energy\n",
    "highest_energy = cost_hamiltonian.highest_energy"
   ]
  },
  {
   "cell_type": "markdown",
   "id": "5",
   "metadata": {},
   "source": [
    "### Wrapper for QAOA Sampler\n",
    "* In the context of QAOA, we can wrap the simulator a bit more so it's a part of more abstract framework useful in further optimization.\n",
    "* The \"QAOARunnerSampler\" is an abstract class that can be used to run the QAOA with different backends (here we will be interested mostly in qiskit though).\n",
    "* The optimization is a bit more general -- a) we can optimize over ansatz for which phase is not the same as cost; b) we can optimize over multiple representations of the Hamiltonian (e.g., permutations or bitflip gauges); note that b) requires classical optimizer that can actually support it.\n"
   ]
  },
  {
   "cell_type": "code",
   "execution_count": null,
   "id": "6",
   "metadata": {},
   "outputs": [],
   "source": [
    "from quapopt.optimization.QAOA.implementation.QAOARunnerSampler import QAOARunnerSampler\n",
    "from quapopt.data_analysis.data_handling import LoggingLevel\n",
    "\n",
    "#Specify some kwargs for logging (this is generally not required, but here we want to log the results in a specific folder)\n",
    "experiment_set_name = 'QAOAOptimization'\n",
    "experiment_set_id = 'TestRuns1'\n",
    "\n",
    "logging_level = LoggingLevel.DETAILED\n",
    "\n",
    "\n",
    "#The logger will create subfolders specified here\n",
    "logger_kwargs_main = {'experiment_folders_hierarchy': ['SimulationResults',\n",
    "                                                       'TestingQAOAOptimization',\n",
    "                                                       f'TestRuns_{datetime.datetime.today().strftime(\"%Y-%m-%d\")}_{np.random.randint(1000)}'],\n",
    "                      'experiment_set_name':experiment_set_name, #Used to group the experiments\n",
    "                      'experiment_set_id':experiment_set_id, #Used to group the experiments\n",
    "                      }\n",
    "\n",
    "print(logger_kwargs_main)\n",
    "\n"
   ]
  },
  {
   "cell_type": "code",
   "execution_count": null,
   "id": "7",
   "metadata": {},
   "outputs": [],
   "source": [
    "sampler_backend = 'Qiskit'"
   ]
  },
  {
   "cell_type": "code",
   "execution_count": null,
   "id": "8",
   "metadata": {},
   "outputs": [],
   "source": [
    "logger_kwargs_sampler = {**logger_kwargs_main,\n",
    "                         **{'experiment_instance_id': f\"IdealSampling{sampler_backend.upper()}\"}}\n",
    "\n",
    "\n",
    "\n",
    "numpy_rng_sampling = np.random.default_rng(seed=0)\n",
    "#Set up the raw sampler with Hamiltonians as an input\n",
    "qaoa_sampler = QAOARunnerSampler(\n",
    "    hamiltonian_representations_cost=[cost_hamiltonian],\n",
    "    hamiltonian_representations_phase=None,\n",
    "    store_n_best_results=1,\n",
    "    store_full_information_in_history=False,\n",
    "    numpy_rng_sampling=numpy_rng_sampling,\n",
    "    logger_kwargs=logger_kwargs_sampler,\n",
    "    logging_level=logging_level\n",
    ")\n",
    "\n",
    "#Here we basically run the same thing as before but inside the class;\n",
    "#so the ansatze are set up for possibly multiple cost Hamiltonians\n",
    "if sampler_backend.lower() == 'qiskit':\n",
    "    qaoa_sampler.initialize_backend_qiskit(qaoa_depth=1)\n",
    "elif sampler_backend.lower() == 'qokit':\n",
    "    #If we have GPU, we use qokit for demonstration because it's faster than qiskit\n",
    "    qaoa_sampler.initialize_backend_qokit(qokit_backend='gpu')\n",
    "else:\n",
    "    raise NotImplementedError(\"Only qiskit and qokit are supported\")\n",
    "\n",
    "#print(qaoa_sampler._backends[0].ansatz_circuit)"
   ]
  },
  {
   "cell_type": "markdown",
   "id": "9",
   "metadata": {},
   "source": [
    "### Wrapper for optimizers\n",
    "\n",
    "* In general, we will want to use our QAOA samplers with some optimizers.\n",
    "* We can run:\n",
    "1. Optuna -- a hyperparameter optimization framework. It has some nice optimizers and visualization features, but it's not the fastest. Somehow they have huge overheads for long optimizations.\n",
    "2. Custom grid sampling - we can run a simple grid sampling to get a feel for the landscape.\n",
    "3. Scipy -- we can also use scipy's optimizers.\n",
    "\n",
    "\n"
   ]
  },
  {
   "cell_type": "code",
   "execution_count": null,
   "id": "10",
   "metadata": {},
   "outputs": [],
   "source": [
    "from quapopt.optimization.parameter_setting.variational.QAOAOptimizationRunner import QAOAOptimizationRunner\n",
    "from quapopt.optimization.parameter_setting.variational.scipy_tools.ScipyOptimizerWrapped import ScipyOptimizerWrapped\n",
    "\n",
    "#we can specify the details of classical optimizer here.\n",
    "classical_optimizer = ScipyOptimizerWrapped(parameters_bounds=[(-np.pi, np.pi)]*2,\n",
    "                                                              #argument_names = ['Angles-0', 'Angles-1'],\n",
    "                                            optimizer_name='COBYLA',\n",
    "                                            optimizer_kwargs=None,\n",
    "                                            basinhopping=True,\n",
    "                                            basinhopping_kwargs={'niter':1},\n",
    "                                            starting_point= [0.05]*2\n",
    "                                            )\n",
    "\n",
    "\n",
    "\n",
    "qaoa_optimizer = QAOAOptimizationRunner(qaoa_runner=qaoa_sampler)"
   ]
  },
  {
   "cell_type": "code",
   "execution_count": null,
   "id": "11",
   "metadata": {},
   "outputs": [],
   "source": [
    "#Number of objective function calls\n",
    "number_of_function_calls = 200\n",
    "#Number of measurements to estimate the expectation values\n",
    "number_of_samples = 10**3\n",
    "\n",
    "best_results_noiseless, optimization_results_noiseless = qaoa_optimizer.run_optimization(qaoa_depth=1,\n",
    "                                                                                            number_of_function_calls=number_of_function_calls,\n",
    "                                                                                         number_of_samples=number_of_samples,\n",
    "                                                                                         classical_optimizer=classical_optimizer,\n",
    "                                                                                         optimizer_seed=42,\n",
    "                                                                                         #Note that we can add readout noise here\n",
    "                                                                                         measurement_noise=None,\n",
    "                                                                                         verbosity=1,\n",
    "                                                                                         show_progress_bar=True)\n",
    "\n"
   ]
  },
  {
   "cell_type": "code",
   "execution_count": null,
   "id": "12",
   "metadata": {},
   "outputs": [],
   "source": [
    "#note: \"best\" result here means the one containing the best BITSTRING, not necessary the best expected value\n",
    "\n",
    "best_result_noiseless = best_results_noiseless[0]\n",
    "best_energy_bts_noiseless = best_result_noiseless[0]\n",
    "best_bts_noiseless = best_result_noiseless[1][0]\n",
    "best_metadata_noiseless = best_result_noiseless[1][-1]\n",
    "\n",
    "print(\"BEST ENERGY (BTS, NOISELESS):\", best_energy_bts_noiseless)\n",
    "print(\"BEST BTS (NOISELESS):\", best_bts_noiseless)\n",
    "print('BEST MEAN ENERGY (NOISELESS):', optimization_results_noiseless.best_value)\n",
    "best_metadata_noiseless.to_dataframe_main()"
   ]
  },
  {
   "cell_type": "markdown",
   "id": "13",
   "metadata": {},
   "source": [
    "### Add measurement noise\n",
    "\n",
    "* We can add classical measurement noise to the simulation. Here we will emulate amplitude damping."
   ]
  },
  {
   "cell_type": "code",
   "execution_count": null,
   "id": "14",
   "metadata": {},
   "outputs": [],
   "source": [
    "from quapopt.circuits.noise.simulation.ClassicalMeasurementNoiseSampler import ClassicalMeasurementNoiseSampler, \\\n",
    "    MeasurementNoiseType\n",
    "\n",
    "# Fully asymmetric noise -- equivalent to amplitude damping at the end of the circuit\n",
    "p_01 = 0.5\n",
    "p_10 = None\n",
    "CMNS = ClassicalMeasurementNoiseSampler(noise_type=MeasurementNoiseType.TP_1q_identical,\n",
    "                                        noise_description={'p_01': p_01,\n",
    "                                                           'p_10': p_10})\n",
    "\n",
    "logger_kwargs_sampler_noisy = {**logger_kwargs_main,\n",
    "                               **{'experiment_instance_id': f\"NoisySampling{sampler_backend.upper()}\"}}\n",
    "qaoa_optimizer.qaoa_runner.reinitialize_logger(**logger_kwargs_sampler_noisy)\n",
    "\n",
    "best_results_noisy, optimization_results_noisy = qaoa_optimizer.run_optimization(qaoa_depth=1,\n",
    "                                                                                 number_of_function_calls=number_of_function_calls,\n",
    "                                                                                 number_of_samples=number_of_samples,\n",
    "                                                                                 classical_optimizer=classical_optimizer,\n",
    "                                                                                 optimizer_seed=42,\n",
    "                                                                                 #Note that are adding noise here\n",
    "                                                                                 measurement_noise=CMNS,\n",
    "                                                                                 verbosity=1,\n",
    "                                                                                 show_progress_bar=True\n",
    "                                                                                 )\n"
   ]
  },
  {
   "cell_type": "code",
   "execution_count": null,
   "id": "15",
   "metadata": {},
   "outputs": [],
   "source": [
    "best_result_noisy = best_results_noisy[0]\n",
    "\n",
    "best_energy_bts_noisy = best_result_noisy[0]\n",
    "best_bts_noisy = best_result_noisy[1][0]\n",
    "best_metadata_noisy = best_result_noisy[1][-1]\n",
    "\n",
    "print(\"BEST ENERGY (BTS, NOISELESS):\", best_energy_bts_noiseless)\n",
    "print(\"BEST BTS (NOISELESS):\", best_bts_noiseless)\n",
    "print('BEST MEAN ENERGY (NOISELESS):', optimization_results_noiseless.best_value)\n",
    "print(\"____________\")\n",
    "print(\"BEST ENERGY (BTS, NOISY):\", best_energy_bts_noisy)\n",
    "print(\"BEST BTS:\", best_bts_noisy)\n",
    "print('BEST MEAN ENERGY (NOISY):', optimization_results_noisy.best_value)"
   ]
  },
  {
   "cell_type": "markdown",
   "id": "16",
   "metadata": {},
   "source": [
    "### Reading data\n",
    "\n",
    "* In a moment, we will want to visualize data.\n",
    "* We could take the data directly from the output of optimization, but here we will read it from database to test the logging:\n",
    "1. We need to set up the logger for the results. (the optimizer does it automatically, but we are pretending we ran the optimization separately and now just reading the results).\n",
    "2. The input requires: the cost Hamiltonian, and potentially the folder hierarchy and the main table name prefix so it can identify what data we want to read.\n",
    "3. We can then read the data from the database and visualize it."
   ]
  },
  {
   "cell_type": "code",
   "execution_count": null,
   "id": "17",
   "metadata": {},
   "outputs": [],
   "source": [
    "from quapopt.optimization.QAOA import QAOAResultsLogger\n",
    "from quapopt.data_analysis.data_handling import (STANDARD_NAMES_DATA_TYPES as SNDT,\n",
    "                                                 STANDARD_NAMES_VARIABLES as SNV)\n",
    "\n",
    "results_logger_sampler = QAOAResultsLogger(**{'cost_hamiltonian': cost_hamiltonian},\n",
    "                                           **logger_kwargs_sampler)\n",
    "\n",
    "df_noiseless = results_logger_sampler.read_results(data_type=SNDT.OptimizationOverview)\n",
    "df_noiseless_direct = optimization_results_noiseless.trials_dataframe\n",
    "\n",
    "results_logger_sampler_noisy = QAOAResultsLogger(**{'cost_hamiltonian': cost_hamiltonian},\n",
    "                                                 **logger_kwargs_sampler_noisy)\n",
    "df_noisy = results_logger_sampler_noisy.read_results(data_type=SNDT.OptimizationOverview)\n",
    "df_noisy_direct = optimization_results_noisy.trials_dataframe\n"
   ]
  },
  {
   "cell_type": "code",
   "execution_count": null,
   "id": "18",
   "metadata": {},
   "outputs": [],
   "source": [
    "df_noiseless"
   ]
  },
  {
   "cell_type": "code",
   "execution_count": null,
   "id": "19",
   "metadata": {},
   "outputs": [],
   "source": [
    "df_noiseless_direct"
   ]
  },
  {
   "cell_type": "code",
   "execution_count": null,
   "id": "20",
   "metadata": {},
   "outputs": [],
   "source": [
    "df_noisy"
   ]
  },
  {
   "cell_type": "code",
   "execution_count": null,
   "id": "21",
   "metadata": {},
   "outputs": [],
   "source": [
    "df_noisy_direct"
   ]
  },
  {
   "cell_type": "markdown",
   "id": "22",
   "metadata": {},
   "source": [
    "### Visualization\n",
    "\n",
    "* After running optimization, we can visualize it using various methods with plotly.\n"
   ]
  },
  {
   "cell_type": "code",
   "execution_count": null,
   "id": "23",
   "metadata": {},
   "outputs": [],
   "source": [
    "import plotly\n",
    "from quapopt.data_analysis.visualization import optimization_visualization as opt_vis\n",
    "\n",
    "plotly.io.templates.default = \"plotly\"\n",
    "plotly.offline.init_notebook_mode(connected=True)\n",
    "\n",
    "x_name = f\"{SNV.Angles.id_long}-0\"\n",
    "y_name = f\"{SNV.Angles.id_long}-1\"\n",
    "fom_name = f\"{SNV.EnergyMean.id_long}\""
   ]
  },
  {
   "cell_type": "code",
   "execution_count": null,
   "id": "24",
   "metadata": {},
   "outputs": [],
   "source": [
    "trajectory_fig = opt_vis.plot_multiple_heatmaps(dataframes=[df_noiseless, df_noisy],\n",
    "                                                x_name=x_name,\n",
    "                                                y_name=y_name,\n",
    "                                                fom_name=fom_name,\n",
    "                                                bounds_x=(-np.pi, np.pi),\n",
    "                                                bounds_y=(-np.pi, np.pi),\n",
    "                                                add_trajectories=True,\n",
    "                                                titles=['Ideal', 'Noisy'],\n",
    "                                                global_normalization=True,\n",
    "                                                colormap_name='Viridis',\n",
    "                                                minimization=True)\n",
    "\n",
    "plotly.offline.plot(trajectory_fig,\n",
    "                    filename='../temp/trajectories_plot.html')\n",
    "trajectory_fig.show()"
   ]
  },
  {
   "cell_type": "markdown",
   "id": "25",
   "metadata": {},
   "source": [
    "### Grid sampling\n",
    "* We can also run a simple grid sampling to get a feel for the landscape and to compare it with the optimization results.\n",
    "* Here we run bruteforce grid sampling that is not scalable for large dimensions\n",
    "* We will use it to plot the background grid of points for the trajectories of the TPE optimizer.\n",
    "* Note that this works only for p=1, otherwise it's hard to visualize"
   ]
  },
  {
   "cell_type": "code",
   "execution_count": null,
   "id": "26",
   "metadata": {},
   "outputs": [],
   "source": [
    "from quapopt.optimization.parameter_setting.non_adaptive_optimization.SimpleGridOptimizer import SimpleGridOptimizer\n",
    "from quapopt.optimization.parameter_setting import ParametersBoundType as PBT\n",
    "from quapopt.optimization.QAOA.simulation.QAOARunnerExpValues import QAOARunnerExpValues\n",
    "\n",
    "grid_size_total = 10 ** 4\n",
    "\n",
    "grid_sampler = SimpleGridOptimizer(parameter_bounds=[(PBT.RANGE, (-np.pi, np.pi)),\n",
    "                                                     (PBT.RANGE, (-np.pi, np.pi))\n",
    "                                                     ],\n",
    "                                   max_trials=grid_size_total)\n",
    "\n",
    "logger_kwargs_grid = {**logger_kwargs_main,\n",
    "                      **{'table_name_prefix': 'IdealQokitGrid'}}\n",
    "\n",
    "#runner that calculates expected values for p=1 QAOA\n",
    "qaoa_exp_values_simulator = QAOARunnerExpValues(\n",
    "                                                  hamiltonian_representations_cost=[cost_hamiltonian],\n",
    "                                                  store_full_information_in_history=False,\n",
    "                                                  simulator_name=None,\n",
    "                                                  logger_kwargs=logger_kwargs_grid,\n",
    "                                                  logging_level=None)\n",
    "\n",
    "\n",
    "qaoa_optimizer_exp_values = QAOAOptimizationRunner(qaoa_runner=qaoa_exp_values_simulator)\n"
   ]
  },
  {
   "cell_type": "code",
   "execution_count": null,
   "id": "27",
   "metadata": {},
   "outputs": [],
   "source": [
    "#noiseless grid\n",
    "best_result_grid_noiseless, opt_results_grid_noiseless = qaoa_optimizer_exp_values.run_optimization(\n",
    "    qaoa_depth=1,\n",
    "    number_of_function_calls=grid_size_total,\n",
    "    classical_optimizer=grid_sampler,\n",
    "    measurement_noise=None,\n",
    "    memory_intensive=True,\n",
    "    show_progress_bar=True,\n",
    "    verbosity=1,\n",
    "    # analytical_betas=True\n",
    ")\n"
   ]
  },
  {
   "cell_type": "code",
   "execution_count": null,
   "id": "28",
   "metadata": {},
   "outputs": [],
   "source": [
    "#noisy grid\n",
    "best_result_grid_noisy, opt_results_grid_noisy = qaoa_optimizer_exp_values.run_optimization(qaoa_depth=1,\n",
    "                                                                                            number_of_function_calls=grid_size_total,\n",
    "                                                                                            classical_optimizer=grid_sampler,\n",
    "                                                                                            memory_intensive=True,\n",
    "                                                                                            verbosity=1,\n",
    "                                                                                            measurement_noise=CMNS,\n",
    "                                                                                            show_progress_bar=True\n",
    "                                                                                            )"
   ]
  },
  {
   "cell_type": "code",
   "execution_count": null,
   "id": "29",
   "metadata": {},
   "outputs": [],
   "source": [
    "#this can made it a bit slower than just opening in browser, but it allows to show the plots in Jupyter cells\n",
    "show_plots_in_jupyter_cell = True\n",
    "\n",
    "#TODO(FBM): this should be unnecessary, refactor\n",
    "names_map = {f\"ARG-0\": f\"{SNV.Angles.id_long}-0\",\n",
    "             f\"ARG-1\": f\"{SNV.Angles.id_long}-1\",\n",
    "             f\"FunctionValue\": f\"{SNV.EnergyMean.id_long}\"}\n",
    "\n",
    "df_noiseless_grid = opt_results_grid_noiseless.trials_dataframe\n",
    "df_noiseless_grid.rename(columns=names_map, inplace=True)\n",
    "\n",
    "df_noisy_grid = opt_results_grid_noisy.trials_dataframe\n",
    "df_noisy_grid.rename(columns=names_map, inplace=True)\n",
    "\n",
    "for plot_in_3d in [False,True]:\n",
    "    heatmap_grid_noiseless, scatter_grid_noiseless = opt_vis.get_interpolated_heatmap(df=df_noiseless_grid,\n",
    "                                                                                      x_name=x_name,\n",
    "                                                                                      y_name=y_name,\n",
    "                                                                                      fom_name=fom_name,\n",
    "                                                                                      bounds_x=(-np.pi, np.pi),\n",
    "                                                                                      bounds_y=(-np.pi, np.pi),\n",
    "                                                                                      in_3d=plot_in_3d\n",
    "                                                                                      )\n",
    "    heatmap_grid_noisy, scatter_grid_noisy = opt_vis.get_interpolated_heatmap(df=df_noisy_grid,\n",
    "                                                                              x_name=x_name,\n",
    "                                                                              y_name=y_name,\n",
    "                                                                              fom_name=fom_name,\n",
    "                                                                              bounds_x=(-np.pi, np.pi),\n",
    "                                                                              bounds_y=(-np.pi, np.pi),\n",
    "                                                                              in_3d=plot_in_3d\n",
    "                                                                              )\n",
    "\n",
    "    trajectory_fig2 = opt_vis.plot_multiple_heatmaps(dataframes=[df_noiseless, df_noisy],\n",
    "                                                     x_name=x_name,\n",
    "                                                     y_name=y_name,\n",
    "                                                     fom_name=fom_name,\n",
    "                                                     bounds_x=(-np.pi, np.pi),\n",
    "                                                     bounds_y=(-np.pi, np.pi),\n",
    "                                                     heatmaps_input=[heatmap_grid_noiseless, heatmap_grid_noisy],\n",
    "                                                     scatter_inputs=[scatter_grid_noiseless, scatter_grid_noisy],\n",
    "                                                     add_trajectories=True,\n",
    "                                                     titles=['Ideal', 'Noisy'],\n",
    "                                                     suffixes=['(Ideal)', '(Noisy)'],\n",
    "                                                     global_normalization=False,\n",
    "                                                     colormap_name='Viridis',\n",
    "                                                     minimization=True,\n",
    "                                                     in_3d=plot_in_3d)\n",
    "\n",
    "    plotly.offline.plot(trajectory_fig2,\n",
    "                        filename=f'../temp/trajectories_grid_plot_3d-{plot_in_3d}.html')\n",
    "    if not show_plots_in_jupyter_cell:\n",
    "        continue\n",
    "    trajectory_fig2.show()\n"
   ]
  },
  {
   "cell_type": "code",
   "execution_count": null,
   "id": "30",
   "metadata": {},
   "outputs": [],
   "source": []
  }
 ],
 "metadata": {
  "kernelspec": {
   "display_name": "Python 3",
   "language": "python",
   "name": "python3"
  },
  "language_info": {
   "codemirror_mode": {
    "name": "ipython",
    "version": 2
   },
   "file_extension": ".py",
   "mimetype": "text/x-python",
   "name": "python",
   "nbconvert_exporter": "python",
   "pygments_lexer": "ipython2",
   "version": "2.7.6"
  }
 },
 "nbformat": 4,
 "nbformat_minor": 5
}
