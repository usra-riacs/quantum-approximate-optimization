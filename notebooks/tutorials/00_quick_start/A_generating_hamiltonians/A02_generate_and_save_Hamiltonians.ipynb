{
 "cells": [
  {
   "cell_type": "code",
   "id": "0",
   "metadata": {},
   "source": [
    "%load_ext autoreload\n",
    "%autoreload 2"
   ],
   "outputs": [],
   "execution_count": null
  },
  {
   "cell_type": "code",
   "id": "1",
   "metadata": {},
   "source": [
    "from networkx import NetworkXError\n",
    "from tqdm import tqdm\n",
    "\n",
    "from quapopt.additional_packages.ancillary_functions_usra import ancillary_functions as anf\n",
    "from quapopt.data_analysis.data_handling import (COEFFICIENTS_TYPE,\n",
    "                                                 COEFFICIENTS_DISTRIBUTION,\n",
    "                                                 CoefficientsDistributionSpecifier,\n",
    "                                                 HAMILTONIAN_MODELS)\n",
    "from quapopt.hamiltonians.generators import build_hamiltonian_generator, ERDOS_RENYI_TYPES"
   ],
   "outputs": [],
   "execution_count": null
  },
  {
   "cell_type": "markdown",
   "id": "2",
   "metadata": {},
   "source": [
    "### Generate random Hamiltonians and save them to files\n",
    "\n",
    "* Similar to notebook A01 but we run it in the loop and also write Hamiltonians to file\n",
    "\n"
   ]
  },
  {
   "cell_type": "code",
   "id": "3",
   "metadata": {},
   "source": [
    "hamiltonian_model = HAMILTONIAN_MODELS.SherringtonKirkpatrick\n",
    "full_noq_range = [125]\n",
    "\n",
    "full_seeds_range = list(range(0, 3))\n",
    "\n",
    "coefficients_type = COEFFICIENTS_TYPE.DISCRETE\n",
    "coefficients_distribution = COEFFICIENTS_DISTRIBUTION.Uniform\n",
    "coefficients_distribution_properties = {'low': -1, 'high': 1, 'step': 1}\n",
    "\n",
    "coefficients_distribution_specifier = CoefficientsDistributionSpecifier(CoefficientsType=coefficients_type,\n",
    "                                                                        CoefficientsDistributionName=coefficients_distribution,\n",
    "                                                                        CoefficientsDistributionProperties=coefficients_distribution_properties)\n",
    "\n",
    "arguments_dict_builder = {}\n",
    "\n",
    "localities = None\n",
    "erdos_renyi_type = None\n",
    "#In some cases, we are required to specify whether to add local fields (localities = (1,2)) or just 2-body interactions (localities = (2,))\n",
    "if hamiltonian_model in [HAMILTONIAN_MODELS.SherringtonKirkpatrick, ]:\n",
    "    localities = (2,)\n",
    "elif hamiltonian_model in [HAMILTONIAN_MODELS.RegularGraph]:\n",
    "    localities = (2,)\n",
    "elif hamiltonian_model in [HAMILTONIAN_MODELS.ErdosRenyi]:\n",
    "    localities = (1, 2)\n",
    "    erdos_renyi_type=ERDOS_RENYI_TYPES.Gnp\n",
    "elif hamiltonian_model in [HAMILTONIAN_MODELS.MaxCut]:\n",
    "    pass\n",
    "elif hamiltonian_model in [HAMILTONIAN_MODELS.MAX2SAT]:\n",
    "    pass\n",
    "elif hamiltonian_model in [HAMILTONIAN_MODELS.Wishart]:\n",
    "    pass\n",
    "\n",
    "generator_cost_hamiltonian = build_hamiltonian_generator(hamiltonian_model=hamiltonian_model,\n",
    "                                                         localities=localities,\n",
    "                                                         coefficients_distribution_specifier=coefficients_distribution_specifier,\n",
    "                                                         erdos_renyi_type=erdos_renyi_type)\n",
    "\n",
    "print(full_noq_range)\n"
   ],
   "outputs": [],
   "execution_count": null
  },
  {
   "cell_type": "code",
   "id": "4",
   "metadata": {},
   "source": [
    "solve_hamiltonians = True\n",
    "\n",
    "for number_of_qubits in tqdm(full_noq_range):\n",
    "    anf.cool_print(\"NUMBER OF QUBITS\", number_of_qubits)\n",
    "\n",
    "    for seed_hamiltonian in full_seeds_range:\n",
    "        print(\"INSTANCE:\", seed_hamiltonian)\n",
    "\n",
    "\n",
    "\n",
    "        arguments_instance = {'number_of_qubits': number_of_qubits,\n",
    "                              'seed': seed_hamiltonian,\n",
    "                              'read_from_drive_if_present': True}\n",
    "\n",
    "        if hamiltonian_model in [HAMILTONIAN_MODELS.SherringtonKirkpatrick, ]:\n",
    "            pass\n",
    "        elif hamiltonian_model in [HAMILTONIAN_MODELS.RegularGraph]:\n",
    "            graph_degree = 3\n",
    "            arguments_instance['graph_degree'] = graph_degree\n",
    "        elif hamiltonian_model in [HAMILTONIAN_MODELS.ErdosRenyi]:\n",
    "            average_degree = number_of_qubits // 2\n",
    "            #edge_probability = average_degree / (number_of_qubits - 1)\n",
    "            edge_probability = 0.01\n",
    "\n",
    "            arguments_instance['p_or_M'] = edge_probability\n",
    "        elif hamiltonian_model in [HAMILTONIAN_MODELS.MaxCut]:\n",
    "            average_degree = number_of_qubits // 2\n",
    "            edge_probability = average_degree / (number_of_qubits - 1)\n",
    "            arguments_instance['p_or_M'] = edge_probability\n",
    "        elif hamiltonian_model in [HAMILTONIAN_MODELS.MAX2SAT]:\n",
    "            clause_density = 1.1\n",
    "            arguments_instance['clause_density'] = clause_density\n",
    "\n",
    "        elif hamiltonian_model in [HAMILTONIAN_MODELS.WishartPlantedEnsemble]:\n",
    "            pass\n",
    "\n",
    "        try:\n",
    "            cost_hamiltonian = generator_cost_hamiltonian.generate_instance(**arguments_instance)\n",
    "        except NetworkXError as e:\n",
    "            print(\"NetworkXError\", e)\n",
    "            continue\n",
    "\n",
    "        if solve_hamiltonians:\n",
    "            #This will write known solutions if they already exist in instance attributes (if not, it doesn't do anything)\n",
    "            cost_hamiltonian.write_solutions_to_file()\n",
    "            #This solving is required to get lowest energy state and highest energy state\n",
    "            cost_hamiltonian.solve_hamiltonian(both_directions=True, #both directions means whether to also find highest energy state\n",
    "                                               solver_kwargs={'solver_name': \"BURER2002\",\n",
    "                                                              'solver_timeout': 10})\n",
    "\n",
    "        ground_state_energy = cost_hamiltonian.ground_state_energy\n",
    "        highest_energy = cost_hamiltonian.highest_energy\n",
    "\n",
    "        cost_hamiltonian.write_to_file()\n",
    "\n"
   ],
   "outputs": [],
   "execution_count": null
  },
  {
   "cell_type": "code",
   "id": "5",
   "metadata": {},
   "source": [
    "print(\"Okay, then\")"
   ],
   "outputs": [],
   "execution_count": null
  },
  {
   "cell_type": "code",
   "id": "6",
   "metadata": {},
   "source": [],
   "outputs": [],
   "execution_count": null
  }
 ],
 "metadata": {
  "kernelspec": {
   "display_name": "Python 3",
   "language": "python",
   "name": "python3"
  },
  "language_info": {
   "codemirror_mode": {
    "name": "ipython",
    "version": 2
   },
   "file_extension": ".py",
   "mimetype": "text/x-python",
   "name": "python",
   "nbconvert_exporter": "python",
   "pygments_lexer": "ipython2",
   "version": "2.7.6"
  }
 },
 "nbformat": 4,
 "nbformat_minor": 5
}
