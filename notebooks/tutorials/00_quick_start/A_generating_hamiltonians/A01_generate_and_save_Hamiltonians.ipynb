{
 "cells": [
  {
   "cell_type": "code",
   "id": "0",
   "metadata": {
    "ExecuteTime": {
     "end_time": "2025-09-05T02:03:35.602984Z",
     "start_time": "2025-09-05T02:03:35.555332Z"
    }
   },
   "source": [
    "%load_ext autoreload\n",
    "%autoreload 2"
   ],
   "outputs": [],
   "execution_count": 1
  },
  {
   "cell_type": "code",
   "id": "1",
   "metadata": {
    "ExecuteTime": {
     "end_time": "2025-09-05T02:03:37.642872Z",
     "start_time": "2025-09-05T02:03:35.610492Z"
    }
   },
   "source": [
    "from networkx import NetworkXError\n",
    "from tqdm.notebook import tqdm\n",
    "\n",
    "from quapopt import ancillary_functions as anf\n",
    "\n",
    "from quapopt.data_analysis.data_handling import (CoefficientsType,\n",
    "                                                 CoefficientsDistribution,\n",
    "                                                 CoefficientsDistributionSpecifier,\n",
    "                                                 HamiltonianModels)\n",
    "from quapopt.hamiltonians.generators import build_hamiltonian_generator, ERDOS_RENYI_TYPES"
   ],
   "outputs": [
    {
     "data": {
      "text/html": [
       "\n",
       "\t\t\t<script type=\"text/javascript\">\n",
       "\t\t\t<!--\n",
       "\t\t\t\t\n",
       "\t\t\t{\n",
       "\t\t\t\tvar element = document.getElementById('NetworKit_script');\n",
       "\t\t\t\tif (element) {\n",
       "\t\t\t\t\telement.parentNode.removeChild(element);\n",
       "\t\t\t\t}\n",
       "\t\t\t\telement = document.createElement('script');\n",
       "\t\t\t\telement.type = 'text/javascript';\n",
       "\t\t\t\telement.innerHTML = 'function NetworKit_pageEmbed(id) { var i, j; var elements; elements = document.getElementById(id).getElementsByClassName(\"Plot\"); for (i=0; i<elements.length; i++) { elements[i].id = id + \"_Plot_\" + i; var data = elements[i].getAttribute(\"data-image\").split(\"|\"); elements[i].removeAttribute(\"data-image\"); var content = \"<div class=\\\\\"Image\\\\\" id=\\\\\"\" + elements[i].id + \"_Image\\\\\" />\"; elements[i].innerHTML = content; elements[i].setAttribute(\"data-image-index\", 0); elements[i].setAttribute(\"data-image-length\", data.length); for (j=0; j<data.length; j++) { elements[i].setAttribute(\"data-image-\" + j, data[j]); } NetworKit_plotUpdate(elements[i]); elements[i].onclick = function (e) { NetworKit_overlayShow((e.target) ? e.target : e.srcElement); } } elements = document.getElementById(id).getElementsByClassName(\"HeatCell\"); for (i=0; i<elements.length; i++) { var data = parseFloat(elements[i].getAttribute(\"data-heat\")); var color = \"#00FF00\"; if (data <= 1 && data > 0) { color = \"hsla(0, 100%, 75%, \" + (data) + \")\"; } else if (data <= 0 && data >= -1) { color = \"hsla(240, 100%, 75%, \" + (-data) + \")\"; } elements[i].style.backgroundColor = color; } elements = document.getElementById(id).getElementsByClassName(\"Details\"); for (i=0; i<elements.length; i++) { elements[i].setAttribute(\"data-title\", \"-\"); NetworKit_toggleDetails(elements[i]); elements[i].onclick = function (e) { NetworKit_toggleDetails((e.target) ? e.target : e.srcElement); } } elements = document.getElementById(id).getElementsByClassName(\"MathValue\"); for (i=elements.length-1; i>=0; i--) { value = elements[i].innerHTML.trim(); if (value === \"nan\") { elements[i].parentNode.innerHTML = \"\" } } elements = document.getElementById(id).getElementsByClassName(\"SubCategory\"); for (i=elements.length-1; i>=0; i--) { value = elements[i].innerHTML.trim(); if (value === \"\") { elements[i].parentNode.removeChild(elements[i]) } } elements = document.getElementById(id).getElementsByClassName(\"Category\"); for (i=elements.length-1; i>=0; i--) { value = elements[i].innerHTML.trim(); if (value === \"\") { elements[i].parentNode.removeChild(elements[i]) } } var isFirefox = false; try { isFirefox = typeof InstallTrigger !== \"undefined\"; } catch (e) {} if (!isFirefox) { alert(\"Currently the function\\'s output is only fully supported by Firefox.\"); } } function NetworKit_plotUpdate(source) { var index = source.getAttribute(\"data-image-index\"); var data = source.getAttribute(\"data-image-\" + index); var image = document.getElementById(source.id + \"_Image\"); image.style.backgroundImage = \"url(\" + data + \")\"; } function NetworKit_showElement(id, show) { var element = document.getElementById(id); element.style.display = (show) ? \"block\" : \"none\"; } function NetworKit_overlayShow(source) { NetworKit_overlayUpdate(source); NetworKit_showElement(\"NetworKit_Overlay\", true); } function NetworKit_overlayUpdate(source) { document.getElementById(\"NetworKit_Overlay_Title\").innerHTML = source.title; var index = source.getAttribute(\"data-image-index\"); var data = source.getAttribute(\"data-image-\" + index); var image = document.getElementById(\"NetworKit_Overlay_Image\"); image.setAttribute(\"data-id\", source.id); image.style.backgroundImage = \"url(\" + data + \")\"; var link = document.getElementById(\"NetworKit_Overlay_Toolbar_Bottom_Save\"); link.href = data; link.download = source.title + \".svg\"; } function NetworKit_overlayImageShift(delta) { var image = document.getElementById(\"NetworKit_Overlay_Image\"); var source = document.getElementById(image.getAttribute(\"data-id\")); var index = parseInt(source.getAttribute(\"data-image-index\")); var length = parseInt(source.getAttribute(\"data-image-length\")); var index = (index+delta) % length; if (index < 0) { index = length + index; } source.setAttribute(\"data-image-index\", index); NetworKit_overlayUpdate(source); } function NetworKit_toggleDetails(source) { var childs = source.children; var show = false; if (source.getAttribute(\"data-title\") == \"-\") { source.setAttribute(\"data-title\", \"+\"); show = false; } else { source.setAttribute(\"data-title\", \"-\"); show = true; } for (i=0; i<childs.length; i++) { if (show) { childs[i].style.display = \"block\"; } else { childs[i].style.display = \"none\"; } } }';\n",
       "\t\t\t\telement.setAttribute('id', 'NetworKit_script');\n",
       "\t\t\t\tdocument.head.appendChild(element);\n",
       "\t\t\t}\n",
       "\t\t\n",
       "\t\t\t\t\n",
       "\t\t\t{\n",
       "\t\t\t\tvar element = document.getElementById('NetworKit_style');\n",
       "\t\t\t\tif (element) {\n",
       "\t\t\t\t\telement.parentNode.removeChild(element);\n",
       "\t\t\t\t}\n",
       "\t\t\t\telement = document.createElement('style');\n",
       "\t\t\t\telement.type = 'text/css';\n",
       "\t\t\t\telement.innerHTML = '.NetworKit_Page { font-family: Arial, Helvetica, sans-serif; font-size: 14px; } .NetworKit_Page .Value:before { font-family: Arial, Helvetica, sans-serif; font-size: 1.05em; content: attr(data-title) \":\"; margin-left: -2.5em; padding-right: 0.5em; } .NetworKit_Page .Details .Value:before { display: block; } .NetworKit_Page .Value { font-family: monospace; white-space: pre; padding-left: 2.5em; white-space: -moz-pre-wrap !important; white-space: -pre-wrap; white-space: -o-pre-wrap; white-space: pre-wrap; word-wrap: break-word; tab-size: 4; -moz-tab-size: 4; } .NetworKit_Page .Category { clear: both; padding-left: 1em; margin-bottom: 1.5em; } .NetworKit_Page .Category:before { content: attr(data-title); font-size: 1.75em; display: block; margin-left: -0.8em; margin-bottom: 0.5em; } .NetworKit_Page .SubCategory { margin-bottom: 1.5em; padding-left: 1em; } .NetworKit_Page .SubCategory:before { font-size: 1.6em; display: block; margin-left: -0.8em; margin-bottom: 0.5em; } .NetworKit_Page .SubCategory[data-title]:before { content: attr(data-title); } .NetworKit_Page .Block { display: block; } .NetworKit_Page .Block:after { content: \".\"; visibility: hidden; display: block; height: 0; clear: both; } .NetworKit_Page .Block .Thumbnail_Overview, .NetworKit_Page .Block .Thumbnail_ScatterPlot { width: 260px; float: left; } .NetworKit_Page .Block .Thumbnail_Overview img, .NetworKit_Page .Block .Thumbnail_ScatterPlot img { width: 260px; } .NetworKit_Page .Block .Thumbnail_Overview:before, .NetworKit_Page .Block .Thumbnail_ScatterPlot:before { display: block; text-align: center; font-weight: bold; } .NetworKit_Page .Block .Thumbnail_Overview:before { content: attr(data-title); } .NetworKit_Page .HeatCell { font-family: \"Courier New\", Courier, monospace; cursor: pointer; } .NetworKit_Page .HeatCell, .NetworKit_Page .HeatCellName { display: inline; padding: 0.1em; margin-right: 2px; background-color: #FFFFFF } .NetworKit_Page .HeatCellName { margin-left: 0.25em; } .NetworKit_Page .HeatCell:before { content: attr(data-heat); display: inline-block; color: #000000; width: 4em; text-align: center; } .NetworKit_Page .Measure { clear: both; } .NetworKit_Page .Measure .Details { cursor: pointer; } .NetworKit_Page .Measure .Details:before { content: \"[\" attr(data-title) \"]\"; display: block; } .NetworKit_Page .Measure .Details .Value { border-left: 1px dotted black; margin-left: 0.4em; padding-left: 3.5em; pointer-events: none; } .NetworKit_Page .Measure .Details .Spacer:before { content: \".\"; opacity: 0.0; pointer-events: none; } .NetworKit_Page .Measure .Plot { width: 440px; height: 440px; cursor: pointer; float: left; margin-left: -0.9em; margin-right: 20px; } .NetworKit_Page .Measure .Plot .Image { background-repeat: no-repeat; background-position: center center; background-size: contain; height: 100%; pointer-events: none; } .NetworKit_Page .Measure .Stat { width: 500px; float: left; } .NetworKit_Page .Measure .Stat .Group { padding-left: 1.25em; margin-bottom: 0.75em; } .NetworKit_Page .Measure .Stat .Group .Title { font-size: 1.1em; display: block; margin-bottom: 0.3em; margin-left: -0.75em; border-right-style: dotted; border-right-width: 1px; border-bottom-style: dotted; border-bottom-width: 1px; background-color: #D0D0D0; padding-left: 0.2em; } .NetworKit_Page .Measure .Stat .Group .List { -webkit-column-count: 3; -moz-column-count: 3; column-count: 3; } .NetworKit_Page .Measure .Stat .Group .List .Entry { position: relative; line-height: 1.75em; } .NetworKit_Page .Measure .Stat .Group .List .Entry[data-tooltip]:before { position: absolute; left: 0; top: -40px; background-color: #808080; color: #ffffff; height: 30px; line-height: 30px; border-radius: 5px; padding: 0 15px; content: attr(data-tooltip); white-space: nowrap; display: none; } .NetworKit_Page .Measure .Stat .Group .List .Entry[data-tooltip]:after { position: absolute; left: 15px; top: -10px; border-top: 7px solid #808080; border-left: 7px solid transparent; border-right: 7px solid transparent; content: \"\"; display: none; } .NetworKit_Page .Measure .Stat .Group .List .Entry[data-tooltip]:hover:after, .NetworKit_Page .Measure .Stat .Group .List .Entry[data-tooltip]:hover:before { display: block; } .NetworKit_Page .Measure .Stat .Group .List .Entry .MathValue { font-family: \"Courier New\", Courier, monospace; } .NetworKit_Page .Measure:after { content: \".\"; visibility: hidden; display: block; height: 0; clear: both; } .NetworKit_Page .PartitionPie { clear: both; } .NetworKit_Page .PartitionPie img { width: 600px; } #NetworKit_Overlay { left: 0px; top: 0px; display: none; position: absolute; width: 100%; height: 100%; background-color: rgba(0,0,0,0.6); z-index: 1000; } #NetworKit_Overlay_Title { position: absolute; color: white; transform: rotate(-90deg); width: 32em; height: 32em; padding-right: 0.5em; padding-top: 0.5em; text-align: right; font-size: 40px; } #NetworKit_Overlay .button { background: white; cursor: pointer; } #NetworKit_Overlay .button:before { size: 13px; display: inline-block; text-align: center; margin-top: 0.5em; margin-bottom: 0.5em; width: 1.5em; height: 1.5em; } #NetworKit_Overlay .icon-close:before { content: \"X\"; } #NetworKit_Overlay .icon-previous:before { content: \"P\"; } #NetworKit_Overlay .icon-next:before { content: \"N\"; } #NetworKit_Overlay .icon-save:before { content: \"S\"; } #NetworKit_Overlay_Toolbar_Top, #NetworKit_Overlay_Toolbar_Bottom { position: absolute; width: 40px; right: 13px; text-align: right; z-index: 1100; } #NetworKit_Overlay_Toolbar_Top { top: 0.5em; } #NetworKit_Overlay_Toolbar_Bottom { Bottom: 0.5em; } #NetworKit_Overlay_ImageContainer { position: absolute; top: 5%; left: 5%; height: 90%; width: 90%; background-repeat: no-repeat; background-position: center center; background-size: contain; } #NetworKit_Overlay_Image { height: 100%; width: 100%; background-repeat: no-repeat; background-position: center center; background-size: contain; }';\n",
       "\t\t\t\telement.setAttribute('id', 'NetworKit_style');\n",
       "\t\t\t\tdocument.head.appendChild(element);\n",
       "\t\t\t}\n",
       "\t\t\n",
       "\t\t\t\t\n",
       "\t\t\t{\n",
       "\t\t\t\tvar element = document.getElementById('NetworKit_Overlay');\n",
       "\t\t\t\tif (element) {\n",
       "\t\t\t\t\telement.parentNode.removeChild(element);\n",
       "\t\t\t\t}\n",
       "\t\t\t\telement = document.createElement('div');\n",
       "\t\t\t\telement.innerHTML = '<div id=\"NetworKit_Overlay_Toolbar_Top\"><div class=\"button icon-close\" id=\"NetworKit_Overlay_Close\" /></div><div id=\"NetworKit_Overlay_Title\" /> <div id=\"NetworKit_Overlay_ImageContainer\"> <div id=\"NetworKit_Overlay_Image\" /> </div> <div id=\"NetworKit_Overlay_Toolbar_Bottom\"> <div class=\"button icon-previous\" onclick=\"NetworKit_overlayImageShift(-1)\" /> <div class=\"button icon-next\" onclick=\"NetworKit_overlayImageShift(1)\" /> <a id=\"NetworKit_Overlay_Toolbar_Bottom_Save\"><div class=\"button icon-save\" /></a> </div>';\n",
       "\t\t\t\telement.setAttribute('id', 'NetworKit_Overlay');\n",
       "\t\t\t\tdocument.body.appendChild(element);\n",
       "\t\t\t\tdocument.getElementById('NetworKit_Overlay_Close').onclick = function (e) {\n",
       "\t\t\t\t\tdocument.getElementById('NetworKit_Overlay').style.display = 'none';\n",
       "\t\t\t\t}\n",
       "\t\t\t}\n",
       "\t\t\n",
       "\t\t\t-->\n",
       "\t\t\t</script>\n",
       "\t\t"
      ]
     },
     "metadata": {},
     "output_type": "display_data",
     "jetTransient": {
      "display_id": null
     }
    }
   ],
   "execution_count": 2
  },
  {
   "cell_type": "markdown",
   "id": "2",
   "metadata": {},
   "source": [
    "### Generate random Hamiltonians and save them to files\n",
    "\n",
    "* We will generate random Hamiltonians from a given model (Sherrington-Kirkpatrick in this case) and save them to files.\n",
    "* We can generate various classes.\n",
    "* Instances can be generated on the fly or read from file.\n",
    "* We can also solve the Hamiltonian classicaly, to get the ground state energy and the highest energy.\n",
    "* We can also save the Hamiltonian to file.\n",
    "\n"
   ]
  },
  {
   "cell_type": "code",
   "id": "3",
   "metadata": {
    "ExecuteTime": {
     "end_time": "2025-09-05T02:03:37.741578Z",
     "start_time": "2025-09-05T02:03:37.719214Z"
    }
   },
   "source": [
    "# Choose hamiltonia model\n",
    "hamiltonian_model = HamiltonianModels.SherringtonKirkpatrick\n",
    "#choose system sizes to generate\n",
    "full_noq_range = [129]\n",
    "#choose seeds for instances generation\n",
    "full_seeds_range = list(range(0, 3))\n",
    "\n",
    "coefficients_type = CoefficientsType.DISCRETE\n",
    "coefficients_distribution = CoefficientsDistribution.Uniform\n",
    "coefficients_distribution_properties = {'low': -1, 'high': 1, 'step': 1}\n",
    "\n",
    "coefficients_distribution_specifier = CoefficientsDistributionSpecifier(CoefficientsType=coefficients_type,\n",
    "                                                                        CoefficientsDistributionName=coefficients_distribution,\n",
    "                                                                        CoefficientsDistributionProperties=coefficients_distribution_properties)\n",
    "\n",
    "arguments_dict_builder = {}\n",
    "\n",
    "localities = None\n",
    "erdos_renyi_type = None\n",
    "#In some cases, we are required to specify whether to add local fields (localities = (1,2)) or just 2-body interactions (localities = (2,))\n",
    "if hamiltonian_model in [HamiltonianModels.SherringtonKirkpatrick, ]:\n",
    "    localities = (1,2)\n",
    "elif hamiltonian_model in [HamiltonianModels.RegularGraph]:\n",
    "    localities = (2,)\n",
    "elif hamiltonian_model in [HamiltonianModels.ErdosRenyi]:\n",
    "    localities = (1, 2)\n",
    "    #Which type of erdos-renyi graph to use\n",
    "    erdos_renyi_type=ERDOS_RENYI_TYPES.Gnp\n",
    "elif hamiltonian_model in [HamiltonianModels.MaxCut]:\n",
    "    pass\n",
    "elif hamiltonian_model in [HamiltonianModels.MAX2SAT]:\n",
    "    pass\n",
    "elif hamiltonian_model in [HamiltonianModels.Wishart]:\n",
    "    pass\n",
    "elif hamiltonian_model in [HamiltonianModels.LABS]:\n",
    "    #LABS is deterministic, so no seed is needed\n",
    "    full_seeds_range = [0]\n",
    "else:\n",
    "    raise ValueError(f\"Unknown hamiltonian model: {hamiltonian_model}\")\n",
    "generator_cost_hamiltonian = build_hamiltonian_generator(hamiltonian_model=hamiltonian_model,\n",
    "                                                         localities=localities,\n",
    "                                                         coefficients_distribution_specifier=coefficients_distribution_specifier,\n",
    "                                                         erdos_renyi_type=erdos_renyi_type)\n",
    "\n",
    "print(full_noq_range)\n"
   ],
   "outputs": [
    {
     "name": "stdout",
     "output_type": "stream",
     "text": [
      "[129]\n"
     ]
    }
   ],
   "execution_count": 3
  },
  {
   "cell_type": "code",
   "id": "4",
   "metadata": {
    "ExecuteTime": {
     "end_time": "2025-09-05T02:03:44.002331Z",
     "start_time": "2025-09-05T02:03:37.769971Z"
    }
   },
   "source": [
    "solve_hamiltonians = True\n",
    "solver_kwargs = {'solver_name': \"BURER2002\",\n",
    "                 'solver_timeout': 1}\n",
    "\n",
    "save_hamiltonians = True\n",
    "\n",
    "\n",
    "for number_of_qubits in tqdm(full_noq_range):\n",
    "    anf.cool_print(\"NUMBER OF QUBITS\", number_of_qubits)\n",
    "\n",
    "    for seed_hamiltonian in full_seeds_range:\n",
    "        print(\"INSTANCE:\", seed_hamiltonian)\n",
    "\n",
    "        arguments_instance = {'number_of_qubits': number_of_qubits,\n",
    "                              'seed': seed_hamiltonian,\n",
    "                              'read_from_drive_if_present': True}\n",
    "        if hamiltonian_model in [HamiltonianModels.SherringtonKirkpatrick, ]:\n",
    "            pass\n",
    "        elif hamiltonian_model in [HamiltonianModels.RegularGraph]:\n",
    "            graph_degree = 3\n",
    "            arguments_instance['graph_degree'] = graph_degree\n",
    "        elif hamiltonian_model in [HamiltonianModels.ErdosRenyi]:\n",
    "            average_degree = number_of_qubits // 2\n",
    "            #edge_probability = average_degree / (number_of_qubits - 1)\n",
    "            edge_probability = 0.01\n",
    "\n",
    "            arguments_instance['p_or_M'] = edge_probability\n",
    "        elif hamiltonian_model in [HamiltonianModels.MaxCut]:\n",
    "            average_degree = number_of_qubits // 2\n",
    "            edge_probability = average_degree / (number_of_qubits - 1)\n",
    "            arguments_instance['p_or_M'] = edge_probability\n",
    "        elif hamiltonian_model in [HamiltonianModels.MAX2SAT]:\n",
    "            clause_density = 1.1\n",
    "            arguments_instance['clause_density'] = clause_density\n",
    "\n",
    "        elif hamiltonian_model in [HamiltonianModels.WishartPlantedEnsemble]:\n",
    "            pass\n",
    "\n",
    "        try:\n",
    "            cost_hamiltonian = generator_cost_hamiltonian.generate_instance(**arguments_instance)\n",
    "        except NetworkXError as e:\n",
    "            print(\"NetworkXError\", e)\n",
    "            continue\n",
    "\n",
    "        if solve_hamiltonians:\n",
    "            #This will write known solutions if they already exist in instance attributes (if not, it doesn't do anything)\n",
    "            cost_hamiltonian.write_solutions_to_file()\n",
    "            #This solving is required to get lowest energy state and highest energy state\n",
    "            cost_hamiltonian.solve_hamiltonian(both_directions=True, #both directions means whether to also find highest energy state\n",
    "                                               solver_kwargs=solver_kwargs)\n",
    "\n",
    "        ground_state_energy = cost_hamiltonian.ground_state_energy\n",
    "        highest_energy = cost_hamiltonian.highest_energy\n",
    "\n",
    "        anf.cool_print(\"GROUND STATE ENERGY\", ground_state_energy)\n",
    "        anf.cool_print(\"HIGHEST ENERGY\", highest_energy)\n",
    "        if save_hamiltonians:\n",
    "            cost_hamiltonian.write_to_file()\n",
    "\n"
   ],
   "outputs": [
    {
     "data": {
      "text/plain": [
       "  0%|          | 0/1 [00:00<?, ?it/s]"
      ],
      "application/vnd.jupyter.widget-view+json": {
       "version_major": 2,
       "version_minor": 0,
       "model_id": "4418c4429ae345f194604b0c56490a52"
      }
     },
     "metadata": {},
     "output_type": "display_data",
     "jetTransient": {
      "display_id": null
     }
    },
    {
     "name": "stdout",
     "output_type": "stream",
     "text": [
      "\u001B[36m\u001B[1mNUMBER OF QUBITS \u001B[0m129\n",
      "INSTANCE: 0\n"
     ]
    },
    {
     "name": "stderr",
     "output_type": "stream",
     "text": [
      "/home/fipeczek/python_packages/quapopt_versions/current_public/quantum-approximate-optimization/quapopt/hamiltonians/representation/problem_formulations.py:29: SyntaxWarning: invalid escape sequence '\\s'\n",
      "  \\sum_{i<=j} J_{ij} (1-2*x_i)*(1-2*xj) + \\sum_i h_i (1-2xi)\n"
     ]
    },
    {
     "name": "stdout",
     "output_type": "stream",
     "text": [
      "\u001B[36m\u001B[1mGROUND STATE ENERGY \u001B[0mnp.float64(-1083.0)\n",
      "\u001B[36m\u001B[1mHIGHEST ENERGY \u001B[0mnp.float64(1139.0)\n",
      "Hamiltonian exists, not overwriting.\n",
      "INSTANCE: 1\n",
      "\u001B[36m\u001B[1mGROUND STATE ENERGY \u001B[0mnp.float64(-1079.0)\n",
      "\u001B[36m\u001B[1mHIGHEST ENERGY \u001B[0mnp.float64(1143.0)\n",
      "Hamiltonian exists, not overwriting.\n",
      "INSTANCE: 2\n",
      "\u001B[36m\u001B[1mGROUND STATE ENERGY \u001B[0mnp.float64(-1063.0)\n",
      "\u001B[36m\u001B[1mHIGHEST ENERGY \u001B[0mnp.float64(1115.0)\n",
      "Hamiltonian exists, not overwriting.\n"
     ]
    }
   ],
   "execution_count": 4
  },
  {
   "cell_type": "code",
   "id": "5",
   "metadata": {
    "ExecuteTime": {
     "end_time": "2025-09-05T02:03:44.110993Z",
     "start_time": "2025-09-05T02:03:44.077985Z"
    }
   },
   "source": [
    "print(\"Okay, then\")"
   ],
   "outputs": [
    {
     "name": "stdout",
     "output_type": "stream",
     "text": [
      "Okay, then\n"
     ]
    }
   ],
   "execution_count": 5
  },
  {
   "cell_type": "code",
   "id": "6",
   "metadata": {
    "ExecuteTime": {
     "end_time": "2025-09-05T02:03:44.133290Z",
     "start_time": "2025-09-05T02:03:44.130677Z"
    }
   },
   "source": [],
   "outputs": [],
   "execution_count": null
  }
 ],
 "metadata": {
  "kernelspec": {
   "display_name": "Python 3",
   "language": "python",
   "name": "python3"
  },
  "language_info": {
   "codemirror_mode": {
    "name": "ipython",
    "version": 2
   },
   "file_extension": ".py",
   "mimetype": "text/x-python",
   "name": "python",
   "nbconvert_exporter": "python",
   "pygments_lexer": "ipython2",
   "version": "2.7.6"
  }
 },
 "nbformat": 4,
 "nbformat_minor": 5
}
