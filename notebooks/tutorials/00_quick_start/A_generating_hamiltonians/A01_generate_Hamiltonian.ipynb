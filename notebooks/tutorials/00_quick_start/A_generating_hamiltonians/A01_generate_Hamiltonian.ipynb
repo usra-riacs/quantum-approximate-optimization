{
 "cells": [
  {
   "cell_type": "code",
   "id": "0",
   "metadata": {},
   "source": [
    "%load_ext autoreload\n",
    "%autoreload 2"
   ],
   "outputs": [],
   "execution_count": null
  },
  {
   "cell_type": "markdown",
   "id": "1",
   "metadata": {},
   "source": [
    "### Generate a random Hamiltonian instance\n",
    "\n",
    "* We can generate various classes\n",
    "* Instances can be generated on the fly or read from file\n",
    "* We can also solve the Hamiltonian classicaly, to get the ground state energy and the highest energy.\n",
    "\n"
   ]
  },
  {
   "cell_type": "code",
   "id": "2",
   "metadata": {},
   "source": [
    "from quapopt.data_analysis.data_handling import (COEFFICIENTS_TYPE,\n",
    "                                                 COEFFICIENTS_DISTRIBUTION,\n",
    "                                                 CoefficientsDistributionSpecifier,\n",
    "                                                 HAMILTONIAN_MODELS)\n",
    "from quapopt.hamiltonians.generators import build_hamiltonian_generator\n",
    "\n",
    "hamiltonian_model = HAMILTONIAN_MODELS.SherringtonKirkpatrick\n",
    "\n",
    "coefficients_type = COEFFICIENTS_TYPE.DISCRETE\n",
    "coefficients_distribution = COEFFICIENTS_DISTRIBUTION.Uniform\n",
    "coefficients_distribution_properties = {'low': -1, 'high': 1, 'step': 1}\n",
    "\n",
    "coefficients_distribution_specifier = CoefficientsDistributionSpecifier(CoefficientsType=coefficients_type,\n",
    "                                                                        CoefficientsDistributionName=coefficients_distribution,\n",
    "                                                                        CoefficientsDistributionProperties=coefficients_distribution_properties)\n",
    "\n",
    "arguments_dict_builder = {}\n",
    "\n",
    "localities = None\n",
    "if hamiltonian_model in [HAMILTONIAN_MODELS.SherringtonKirkpatrick, ]:\n",
    "    localities = (1, 2)\n",
    "elif hamiltonian_model in [HAMILTONIAN_MODELS.RegularGraph]:\n",
    "    localities = (2,)\n",
    "elif hamiltonian_model in [HAMILTONIAN_MODELS.ErdosRenyi]:\n",
    "    localities = (1, 2)\n",
    "elif hamiltonian_model in [HAMILTONIAN_MODELS.MaxCut]:\n",
    "    pass\n",
    "elif hamiltonian_model in [HAMILTONIAN_MODELS.MAX2SAT]:\n",
    "    pass\n",
    "elif hamiltonian_model in [HAMILTONIAN_MODELS.Wishart]:\n",
    "    pass\n",
    "\n",
    "generator_cost_hamiltonian = build_hamiltonian_generator(hamiltonian_model=hamiltonian_model,\n",
    "                                                         localities=localities,\n",
    "                                                         coefficients_distribution_specifier=coefficients_distribution_specifier)"
   ],
   "outputs": [],
   "execution_count": null
  },
  {
   "cell_type": "code",
   "id": "3",
   "metadata": {},
   "source": [
    "solve_hamiltonian = True\n",
    "number_of_qubits = 25\n",
    "arguments_instance = {'number_of_qubits': number_of_qubits,\n",
    "                      'seed': 0}\n",
    "if hamiltonian_model in [HAMILTONIAN_MODELS.SherringtonKirkpatrick, ]:\n",
    "    pass\n",
    "elif hamiltonian_model in [HAMILTONIAN_MODELS.RegularGraph]:\n",
    "    graph_degree = 3\n",
    "    arguments_instance['graph_degree'] = graph_degree\n",
    "elif hamiltonian_model in [HAMILTONIAN_MODELS.ErdosRenyi]:\n",
    "    average_degree = number_of_qubits // 2\n",
    "    edge_probability = average_degree / (number_of_qubits - 1)\n",
    "    arguments_instance['p_or_M'] = edge_probability\n",
    "elif hamiltonian_model in [HAMILTONIAN_MODELS.MaxCut]:\n",
    "    average_degree = number_of_qubits // 2\n",
    "    edge_probability = average_degree / (number_of_qubits - 1)\n",
    "    arguments_instance['p_or_M'] = edge_probability\n",
    "elif hamiltonian_model in [HAMILTONIAN_MODELS.MAX2SAT]:\n",
    "    clause_density = 1.1\n",
    "    arguments_instance['clause_density'] = clause_density\n",
    "\n",
    "elif hamiltonian_model in [HAMILTONIAN_MODELS.WishartPlantedEnsemble]:\n",
    "    pass\n",
    "\n",
    "cost_hamiltonian = generator_cost_hamiltonian.generate_instance(**arguments_instance)\n",
    "\n",
    "\n",
    "if solve_hamiltonian:\n",
    "    print(\"SOLVING HAMILTONIAN\")\n",
    "    #This will write known solutions if they already exist (if not, it doesn't do anything)\n",
    "    cost_hamiltonian.write_solutions_to_file()\n",
    "    #This solving is required to get lowest energy state and highest energy state\n",
    "    cost_hamiltonian.solve_hamiltonian(both_directions=True,\n",
    "                                       solver_kwargs={'solver_name': \"BURER2002\",\n",
    "                                                      'solver_timeout': 1})\n",
    "\n",
    "ground_state_energy = cost_hamiltonian.ground_state_energy\n",
    "highest_energy = cost_hamiltonian.highest_energy\n",
    "\n",
    "print(\"Ground state energy:\", ground_state_energy)\n",
    "print(\"Highest energy:\", highest_energy)"
   ],
   "outputs": [],
   "execution_count": null
  },
  {
   "cell_type": "code",
   "id": "4",
   "metadata": {},
   "source": [],
   "outputs": [],
   "execution_count": null
  },
  {
   "cell_type": "code",
   "id": "5",
   "metadata": {},
   "source": [],
   "outputs": [],
   "execution_count": null
  }
 ],
 "metadata": {
  "kernelspec": {
   "display_name": "Python 3",
   "language": "python",
   "name": "python3"
  },
  "language_info": {
   "codemirror_mode": {
    "name": "ipython",
    "version": 2
   },
   "file_extension": ".py",
   "mimetype": "text/x-python",
   "name": "python",
   "nbconvert_exporter": "python",
   "pygments_lexer": "ipython2",
   "version": "2.7.6"
  }
 },
 "nbformat": 4,
 "nbformat_minor": 5
}
